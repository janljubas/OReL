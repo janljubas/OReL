{
  "cells": [
    {
      "cell_type": "markdown",
      "metadata": {
        "id": "view-in-github",
        "colab_type": "text"
      },
      "source": [
        "<a href=\"https://colab.research.google.com/github/janljubas/OReL/blob/main/HA4/LunarLanderAssignment.ipynb\" target=\"_parent\"><img src=\"https://colab.research.google.com/assets/colab-badge.svg\" alt=\"Open In Colab\"/></a>"
      ]
    },
    {
      "cell_type": "markdown",
      "metadata": {
        "id": "-eR7hBGb0RoV"
      },
      "source": [
        "## Lunar Lander with REINFORCE\n",
        "### Christian Igel, 2023\n",
        "\n",
        "If you have suggestions for improvements, [let me know](mailto:igel@diku.dk).\n",
        "\n",
        "Imports:"
      ]
    },
    {
      "cell_type": "code",
      "source": [
        "# Adding the imports, using the Google Colab\n",
        "!pip install swig\n",
        "!pip install \"gymnasium[box2d]\""
      ],
      "metadata": {
        "collapsed": true,
        "id": "JDKzHQk_5Wkz",
        "outputId": "492f133a-1ab8-4a2a-b2f5-9e9cb4f65fad",
        "colab": {
          "base_uri": "https://localhost:8080/"
        }
      },
      "execution_count": 16,
      "outputs": [
        {
          "output_type": "stream",
          "name": "stdout",
          "text": [
            "Requirement already satisfied: swig in /usr/local/lib/python3.11/dist-packages (4.3.0)\n",
            "Requirement already satisfied: gymnasium[box2d] in /usr/local/lib/python3.11/dist-packages (1.1.0)\n",
            "Requirement already satisfied: numpy>=1.21.0 in /usr/local/lib/python3.11/dist-packages (from gymnasium[box2d]) (1.26.4)\n",
            "Requirement already satisfied: cloudpickle>=1.2.0 in /usr/local/lib/python3.11/dist-packages (from gymnasium[box2d]) (3.1.1)\n",
            "Requirement already satisfied: typing-extensions>=4.3.0 in /usr/local/lib/python3.11/dist-packages (from gymnasium[box2d]) (4.12.2)\n",
            "Requirement already satisfied: farama-notifications>=0.0.1 in /usr/local/lib/python3.11/dist-packages (from gymnasium[box2d]) (0.0.4)\n",
            "Requirement already satisfied: box2d-py==2.3.5 in /usr/local/lib/python3.11/dist-packages (from gymnasium[box2d]) (2.3.5)\n",
            "Requirement already satisfied: pygame>=2.1.3 in /usr/local/lib/python3.11/dist-packages (from gymnasium[box2d]) (2.6.1)\n",
            "Requirement already satisfied: swig==4.* in /usr/local/lib/python3.11/dist-packages (from gymnasium[box2d]) (4.3.0)\n"
          ]
        }
      ]
    },
    {
      "cell_type": "code",
      "execution_count": 6,
      "metadata": {
        "id": "cFDJmYSc0RoX"
      },
      "outputs": [],
      "source": [
        "import gymnasium as gym\n",
        "\n",
        "from tqdm.notebook import tqdm, trange  # Progress bar\n",
        "\n",
        "import numpy as np\n",
        "import matplotlib.pyplot as plt"
      ]
    },
    {
      "cell_type": "markdown",
      "metadata": {
        "id": "AC0PO40p0RoY"
      },
      "source": [
        "We need [the `gymnasium` package](https://gymnasium.farama.org/).\n",
        "From this package, we create the Cart-Pole game environment:"
      ]
    },
    {
      "cell_type": "code",
      "execution_count": 8,
      "metadata": {
        "id": "M9aselp-0RoY"
      },
      "outputs": [],
      "source": [
        "env_visual = gym.make('LunarLander-v3', render_mode=\"human\")\n",
        "action_size = 4\n",
        "state_size = 8"
      ]
    },
    {
      "cell_type": "markdown",
      "metadata": {
        "id": "pb57WsCE0RoZ"
      },
      "source": [
        "Let's just test the environment first:"
      ]
    },
    {
      "cell_type": "code",
      "execution_count": 9,
      "metadata": {
        "colab": {
          "base_uri": "https://localhost:8080/"
        },
        "id": "Mthwx49u0RoZ",
        "outputId": "4370a3bd-768a-47a1-baa5-69c90f13cf75"
      },
      "outputs": [
        {
          "output_type": "stream",
          "name": "stdout",
          "text": [
            "initial state: [-0.00664549  1.4073575  -0.6731435  -0.15836912  0.00770739  0.15247704\n",
            "  0.          0.        ]\n",
            "return:  -137.01432986488607\n",
            "initial state: [ 0.00179005  1.405253    0.1813074  -0.25187337 -0.00206755 -0.04106879\n",
            "  0.          0.        ]\n",
            "return:  -58.81242102782164\n",
            "initial state: [-0.00206385  1.4066195  -0.20906833 -0.1911325   0.00239835  0.04735707\n",
            "  0.          0.        ]\n",
            "return:  -103.19774639841732\n",
            "initial state: [ 0.00600328  1.4132236   0.60805106  0.1023684  -0.00694952 -0.13773273\n",
            "  0.          0.        ]\n",
            "return:  -329.8037800496405\n",
            "initial state: [ 1.0709763e-03  1.4016036e+00  1.0845844e-01 -4.1406772e-01\n",
            " -1.2341613e-03 -2.4567477e-02  0.0000000e+00  0.0000000e+00]\n",
            "return:  -128.5312580078298\n"
          ]
        }
      ],
      "source": [
        "test_episodes = 5\n",
        "for _ in range(test_episodes):\n",
        "    R = 0\n",
        "    state, _ = env_visual.reset()  # Environment starts in a random state, cart and pole are moving\n",
        "    print(\"initial state:\", state)\n",
        "    while True:  # Environment sets \"truncated\" to true after 500 steps\n",
        "        # Uncomment the line below to watch the simulation\n",
        "        env_visual.render()\n",
        "        state, reward, terminated, truncated, _ = env_visual.step(env_visual.action_space.sample()) #  Take a random action\n",
        "        R += reward  # Accumulate reward\n",
        "        if terminated or truncated:\n",
        "            print(\"return: \", R)\n",
        "            env_visual.reset()\n",
        "            break"
      ]
    },
    {
      "cell_type": "markdown",
      "metadata": {
        "id": "wmLuHukr0RoZ"
      },
      "source": [
        "## REINFORCE\n",
        "\n",
        "Let's define a policy class for a simple softmax policy for real-valued feature vectors and discrete actions.\n",
        "The preference for an action is just a linear function of the input features.\n",
        "It is not trivial that this simple policy is powerful enough to solve the tasks without addional processing of the input features. However, it is indeed possible to get reasonable policies in this setting."
      ]
    },
    {
      "cell_type": "code",
      "execution_count": 17,
      "metadata": {
        "id": "NnI4HYew0Roa"
      },
      "outputs": [],
      "source": [
        "class Softmax_policy:\n",
        "    def __init__(self, no_actions, no_features):\n",
        "        \"\"\"\n",
        "        Initialize softmax policy for discrete actions\n",
        "        :param no_actions: number of actions\n",
        "        :param no_features: dimensionality of feature vector representing a state\n",
        "        \"\"\"\n",
        "        self.no_actions = no_actions\n",
        "        self.no_features = no_features\n",
        "\n",
        "        # Initialize policy parameters to zero\n",
        "        self.theta = np.zeros([no_actions, no_features])\n",
        "\n",
        "    def pi(self, s):\n",
        "        \"\"\"\n",
        "        Compute action probabilities in a given state\n",
        "        :param s: state feature vector\n",
        "        :return: an array of action probabilities\n",
        "        \"\"\"\n",
        "        # Compute action preferences for the given feature vector\n",
        "        preferences = self.theta.dot(s)\n",
        "        # Convert overflows to underflows\n",
        "        preferences = preferences - preferences.max()\n",
        "        # Convert the preferences into probabilities\n",
        "        exp_prefs = np.exp(preferences)\n",
        "        return exp_prefs / np.sum(exp_prefs)\n",
        "\n",
        "    def inc(self, delta):\n",
        "        \"\"\"\n",
        "        Change the parameters by addition, e.g. for initialization or parameter updates\n",
        "        :param delta: values to be added to parameters\n",
        "        \"\"\"\n",
        "        self.theta += delta\n",
        "\n",
        "    def sample_action(self, s):\n",
        "        \"\"\"\n",
        "        Sample an action in a given state\n",
        "        :param s: state feature vector\n",
        "        :return: action\n",
        "        \"\"\"\n",
        "        return np.random.choice(self.no_actions, p=self.pi(s))\n",
        "\n",
        "    def gradient_log_pi(self, s, a):\n",
        "        \"\"\"\n",
        "        Computes the gradient of the logarithm of the policy\n",
        "        :param s: state feature vector\n",
        "        :param a: action\n",
        "        :return: gradient of the logarithm of the policy\n",
        "        \"\"\"\n",
        "        pi_s = self.pi(s)\n",
        "\n",
        "        indicator = np.zeros(self.no_actions)\n",
        "        indicator[a] = 1\n",
        "\n",
        "        gradient = np.outer(indicator - pi_s, s)\n",
        "\n",
        "        return gradient\n",
        "\n",
        "    def gradient_log_pi_test(self, s, a, eps=0.1):\n",
        "        \"\"\"\n",
        "        Numerically approximates the gradient of the logarithm of the policy\n",
        "        :param s: state feature vector\n",
        "        :param a: action\n",
        "        :return: approximate gradient of the logarithm of the policy\n",
        "        \"\"\"\n",
        "        theta_correct = np.copy(self.theta)\n",
        "        log_pi = np.log(self.pi(s)[a])\n",
        "        d = np.zeros([self.no_actions, self.no_features])\n",
        "        for i in range(self.no_actions):\n",
        "            for j in range(self.no_features):\n",
        "                self.theta[i,j] += eps\n",
        "                log_pi_eps = np.log(self.pi(s)[a])\n",
        "                d[i,j] = (log_pi_eps - log_pi) / eps\n",
        "                self.theta = np.copy(theta_correct)\n",
        "        return d\n",
        "\n",
        "\n",
        ""
      ]
    },
    {
      "cell_type": "markdown",
      "metadata": {
        "id": "-_9U1g-C0Roa"
      },
      "source": [
        "Verify gradient implementation:"
      ]
    },
    {
      "cell_type": "code",
      "execution_count": 18,
      "metadata": {
        "scrolled": true,
        "collapsed": true,
        "id": "9Du2Lm8I0Roa"
      },
      "outputs": [],
      "source": [
        "env = gym.make('LunarLander-v3')\n",
        "s = env.reset()[0]\n",
        "pi = Softmax_policy(action_size, state_size)\n",
        "tolerance = 0.001  # Absolute tolerance for difference in each gradient component\n",
        "epsilon = 0.0001\n",
        "for _ in range(10):\n",
        "    pi.inc(10.*np.random.rand(action_size, state_size))\n",
        "    for a in range(action_size):\n",
        "        if not np.isclose(pi.gradient_log_pi(s, a), pi.gradient_log_pi_test(s, a, epsilon), atol=tolerance).all():\n",
        "            print(\"derivative test for action\", a)\n",
        "            print(pi.gradient_log_pi(s, a))\n",
        "            print(pi.gradient_log_pi_test(s, a))"
      ]
    },
    {
      "cell_type": "markdown",
      "metadata": {
        "id": "i5YuqCdp0Roa"
      },
      "source": [
        "Do the learning:"
      ]
    },
    {
      "cell_type": "code",
      "execution_count": 19,
      "metadata": {
        "colab": {
          "base_uri": "https://localhost:8080/",
          "height": 49,
          "referenced_widgets": [
            "5b2900466a0a436099337d357c0a8230",
            "e65b29982ea94359848a303f02641f84",
            "072bf48b9d264559a2dbcd759394d131",
            "34b2f446c1fd478791dbae95a8bcb01e",
            "adcc07ad2b8d49849fd90b76b6b46034",
            "05c3514d30b14b47927389485f461bbf",
            "28d647a8758a46bfa4b9365078db4f70",
            "593b1113a4e947c2bf50400c35dbad73",
            "2eded0464436409496be0beab5bd6ec2",
            "529d028e10de49a5b94335121356cac7",
            "653ee358612f42218be326dc0fbd4aba"
          ]
        },
        "id": "2uabYHjP0Roa",
        "outputId": "068c49ea-9ca8-40fc-c0f3-4642702cd3a5"
      },
      "outputs": [
        {
          "output_type": "display_data",
          "data": {
            "text/plain": [
              "  0%|          | 0/20000 [00:00<?, ?it/s]"
            ],
            "application/vnd.jupyter.widget-view+json": {
              "version_major": 2,
              "version_minor": 0,
              "model_id": "5b2900466a0a436099337d357c0a8230"
            }
          },
          "metadata": {}
        }
      ],
      "source": [
        "alpha = 0.00005  # Learning rate\n",
        "\n",
        "no_episodes = 20000  # Number of episodes\n",
        "total_reward_list = []  # Returns for the individual episodes\n",
        "pi = Softmax_policy(action_size, state_size)  # Policy\n",
        "\n",
        "# Do the learning\n",
        "for e in trange(no_episodes):  #  Loop over episodes\n",
        "    R = []  # Store rewards r_1, ..., r_T\n",
        "    S = []  # Store actions a_0, ..., a_{T-1}\n",
        "    A = []  # Store states s_0, ..., s_{T-1}\n",
        "    state = env.reset()[0]  # Environment starts in a random state, cart and pole are moving\n",
        "    while True:  # Environment sets \"done\" to true after 200 steps\n",
        "        S.append(state)\n",
        "\n",
        "        action = pi.sample_action(state)  # Take an action following pi\n",
        "        A.append(action)\n",
        "\n",
        "        state, reward, terminated, truncated, _ = env.step(action)  # Observe reward and new state\n",
        "        R.append(reward)\n",
        "\n",
        "        if terminated or truncated:  # Failed or succeeded?\n",
        "            break\n",
        "\n",
        "    R = np.array(R)\n",
        "    total_reward_list.append((e, R.sum()))\n",
        "\n",
        "    for t in range(R.size):\n",
        "        R_t = R[t:].sum()  # Accumulated future reward\n",
        "        Delta = alpha * R_t * pi.gradient_log_pi(S[t], A[t])  # REINFORCE update\n",
        "        pi.inc(Delta)  # Apply update\n",
        ""
      ]
    },
    {
      "cell_type": "markdown",
      "metadata": {
        "id": "3sN9kYyI0Roa"
      },
      "source": [
        "Plot learning process:"
      ]
    },
    {
      "cell_type": "code",
      "execution_count": 20,
      "metadata": {
        "colab": {
          "base_uri": "https://localhost:8080/",
          "height": 449
        },
        "collapsed": true,
        "id": "wqIjpS3A0Rob",
        "outputId": "f550f224-29c0-41b3-a4e3-b23569b6b1b7"
      },
      "outputs": [
        {
          "output_type": "display_data",
          "data": {
            "text/plain": [
              "<Figure size 640x480 with 1 Axes>"
            ],
            "image/png": "[encoded data removed]"
          },
          "metadata": {}
        }
      ],
      "source": [
        "# Moving average for smoothing plot\n",
        "def running_mean(x, N):\n",
        "    cumsum = np.cumsum(np.insert(x, 0, x[0]*np.ones(N)))\n",
        "    return (cumsum[N:] - cumsum[:-N]) / N\n",
        "\n",
        "eps, rews = np.array(total_reward_list).T\n",
        "smoothed_rews = running_mean(rews, 10)\n",
        "plt.plot(eps, smoothed_rews)\n",
        "plt.plot(eps, rews, color='grey', alpha=0.3)\n",
        "plt.xlabel('Episode')\n",
        "plt.ylabel('Accumulated Reward');"
      ]
    },
    {
      "cell_type": "markdown",
      "metadata": {
        "id": "x86MIlee0Rob"
      },
      "source": [
        "Visualize policy:"
      ]
    },
    {
      "cell_type": "code",
      "execution_count": 21,
      "metadata": {
        "colab": {
          "base_uri": "https://localhost:8080/"
        },
        "id": "a2rcOrTz0Rob",
        "outputId": "74c210c3-e78f-433b-c38c-9c5aca3338d4"
      },
      "outputs": [
        {
          "output_type": "stream",
          "name": "stdout",
          "text": [
            "return:  29.719325479710477\n"
          ]
        }
      ],
      "source": [
        "state = env_visual.reset()[0]  # Environment starts in a random state, cart and pole are moving\n",
        "R = 0\n",
        "while True:  # Environment sets \"truncated\" to true after 500 steps\n",
        "        env_visual.render()\n",
        "        state, reward, terminated, truncated, _ = env_visual.step( pi.sample_action(state) ) #  Take a  action\n",
        "        R += reward  # Accumulate reward\n",
        "        if terminated or truncated:\n",
        "            print(\"return: \", R)\n",
        "            break"
      ]
    }
  ],
  "metadata": {
    "kernelspec": {
      "display_name": "Python 3",
      "language": "python",
      "name": "python3"
    },
    "language_info": {
      "codemirror_mode": {
        "name": "ipython",
        "version": 3
      },
      "file_extension": ".py",
      "mimetype": "text/x-python",
      "name": "python",
      "nbconvert_exporter": "python",
      "pygments_lexer": "ipython3",
      "version": "3.11.5"
    },
    "colab": {
      "provenance": [],
      "include_colab_link": true
    },
    "widgets": {
      "application/vnd.jupyter.widget-state+json": {
        "5b2900466a0a436099337d357c0a8230": {
          "model_module": "@jupyter-widgets/controls",
          "model_name": "HBoxModel",
          "model_module_version": "1.5.0",
          "state": {
            "_dom_classes": [],
            "_model_module": "@jupyter-widgets/controls",
            "_model_module_version": "1.5.0",
            "_model_name": "HBoxModel",
            "_view_count": null,
            "_view_module": "@jupyter-widgets/controls",
            "_view_module_version": "1.5.0",
            "_view_name": "HBoxView",
            "box_style": "",
            "children": [
              "IPY_MODEL_e65b29982ea94359848a303f02641f84",
              "IPY_MODEL_072bf48b9d264559a2dbcd759394d131",
              "IPY_MODEL_34b2f446c1fd478791dbae95a8bcb01e"
            ],
            "layout": "IPY_MODEL_adcc07ad2b8d49849fd90b76b6b46034"
          }
        },
        "e65b29982ea94359848a303f02641f84": {
          "model_module": "@jupyter-widgets/controls",
          "model_name": "HTMLModel",
          "model_module_version": "1.5.0",
          "state": {
            "_dom_classes": [],
            "_model_module": "@jupyter-widgets/controls",
            "_model_module_version": "1.5.0",
            "_model_name": "HTMLModel",
            "_view_count": null,
            "_view_module": "@jupyter-widgets/controls",
            "_view_module_version": "1.5.0",
            "_view_name": "HTMLView",
            "description": "",
            "description_tooltip": null,
            "layout": "IPY_MODEL_05c3514d30b14b47927389485f461bbf",
            "placeholder": "​",
            "style": "IPY_MODEL_28d647a8758a46bfa4b9365078db4f70",
            "value": "100%"
          }
        },
        "072bf48b9d264559a2dbcd759394d131": {
          "model_module": "@jupyter-widgets/controls",
          "model_name": "FloatProgressModel",
          "model_module_version": "1.5.0",
          "state": {
            "_dom_classes": [],
            "_model_module": "@jupyter-widgets/controls",
            "_model_module_version": "1.5.0",
            "_model_name": "FloatProgressModel",
            "_view_count": null,
            "_view_module": "@jupyter-widgets/controls",
            "_view_module_version": "1.5.0",
            "_view_name": "ProgressView",
            "bar_style": "success",
            "description": "",
            "description_tooltip": null,
            "layout": "IPY_MODEL_593b1113a4e947c2bf50400c35dbad73",
            "max": 20000,
            "min": 0,
            "orientation": "horizontal",
            "style": "IPY_MODEL_2eded0464436409496be0beab5bd6ec2",
            "value": 20000
          }
        },
        "34b2f446c1fd478791dbae95a8bcb01e": {
          "model_module": "@jupyter-widgets/controls",
          "model_name": "HTMLModel",
          "model_module_version": "1.5.0",
          "state": {
            "_dom_classes": [],
            "_model_module": "@jupyter-widgets/controls",
            "_model_module_version": "1.5.0",
            "_model_name": "HTMLModel",
            "_view_count": null,
            "_view_module": "@jupyter-widgets/controls",
            "_view_module_version": "1.5.0",
            "_view_name": "HTMLView",
            "description": "",
            "description_tooltip": null,
            "layout": "IPY_MODEL_529d028e10de49a5b94335121356cac7",
            "placeholder": "​",
            "style": "IPY_MODEL_653ee358612f42218be326dc0fbd4aba",
            "value": " 20000/20000 [18:42&lt;00:00,  5.16it/s]"
          }
        },
        "adcc07ad2b8d49849fd90b76b6b46034": {
          "model_module": "@jupyter-widgets/base",
          "model_name": "LayoutModel",
          "model_module_version": "1.2.0",
          "state": {
            "_model_module": "@jupyter-widgets/base",
            "_model_module_version": "1.2.0",
            "_model_name": "LayoutModel",
            "_view_count": null,
            "_view_module": "@jupyter-widgets/base",
            "_view_module_version": "1.2.0",
            "_view_name": "LayoutView",
            "align_content": null,
            "align_items": null,
            "align_self": null,
            "border": null,
            "bottom": null,
            "display": null,
            "flex": null,
            "flex_flow": null,
            "grid_area": null,
            "grid_auto_columns": null,
            "grid_auto_flow": null,
            "grid_auto_rows": null,
            "grid_column": null,
            "grid_gap": null,
            "grid_row": null,
            "grid_template_areas": null,
            "grid_template_columns": null,
            "grid_template_rows": null,
            "height": null,
            "justify_content": null,
            "justify_items": null,
            "left": null,
            "margin": null,
            "max_height": null,
            "max_width": null,
            "min_height": null,
            "min_width": null,
            "object_fit": null,
            "object_position": null,
            "order": null,
            "overflow": null,
            "overflow_x": null,
            "overflow_y": null,
            "padding": null,
            "right": null,
            "top": null,
            "visibility": null,
            "width": null
          }
        },
        "05c3514d30b14b47927389485f461bbf": {
          "model_module": "@jupyter-widgets/base",
          "model_name": "LayoutModel",
          "model_module_version": "1.2.0",
          "state": {
            "_model_module": "@jupyter-widgets/base",
            "_model_module_version": "1.2.0",
            "_model_name": "LayoutModel",
            "_view_count": null,
            "_view_module": "@jupyter-widgets/base",
            "_view_module_version": "1.2.0",
            "_view_name": "LayoutView",
            "align_content": null,
            "align_items": null,
            "align_self": null,
            "border": null,
            "bottom": null,
            "display": null,
            "flex": null,
            "flex_flow": null,
            "grid_area": null,
            "grid_auto_columns": null,
            "grid_auto_flow": null,
            "grid_auto_rows": null,
            "grid_column": null,
            "grid_gap": null,
            "grid_row": null,
            "grid_template_areas": null,
            "grid_template_columns": null,
            "grid_template_rows": null,
            "height": null,
            "justify_content": null,
            "justify_items": null,
            "left": null,
            "margin": null,
            "max_height": null,
            "max_width": null,
            "min_height": null,
            "min_width": null,
            "object_fit": null,
            "object_position": null,
            "order": null,
            "overflow": null,
            "overflow_x": null,
            "overflow_y": null,
            "padding": null,
            "right": null,
            "top": null,
            "visibility": null,
            "width": null
          }
        },
        "28d647a8758a46bfa4b9365078db4f70": {
          "model_module": "@jupyter-widgets/controls",
          "model_name": "DescriptionStyleModel",
          "model_module_version": "1.5.0",
          "state": {
            "_model_module": "@jupyter-widgets/controls",
            "_model_module_version": "1.5.0",
            "_model_name": "DescriptionStyleModel",
            "_view_count": null,
            "_view_module": "@jupyter-widgets/base",
            "_view_module_version": "1.2.0",
            "_view_name": "StyleView",
            "description_width": ""
          }
        },
        "593b1113a4e947c2bf50400c35dbad73": {
          "model_module": "@jupyter-widgets/base",
          "model_name": "LayoutModel",
          "model_module_version": "1.2.0",
          "state": {
            "_model_module": "@jupyter-widgets/base",
            "_model_module_version": "1.2.0",
            "_model_name": "LayoutModel",
            "_view_count": null,
            "_view_module": "@jupyter-widgets/base",
            "_view_module_version": "1.2.0",
            "_view_name": "LayoutView",
            "align_content": null,
            "align_items": null,
            "align_self": null,
            "border": null,
            "bottom": null,
            "display": null,
            "flex": null,
            "flex_flow": null,
            "grid_area": null,
            "grid_auto_columns": null,
            "grid_auto_flow": null,
            "grid_auto_rows": null,
            "grid_column": null,
            "grid_gap": null,
            "grid_row": null,
            "grid_template_areas": null,
            "grid_template_columns": null,
            "grid_template_rows": null,
            "height": null,
            "justify_content": null,
            "justify_items": null,
            "left": null,
            "margin": null,
            "max_height": null,
            "max_width": null,
            "min_height": null,
            "min_width": null,
            "object_fit": null,
            "object_position": null,
            "order": null,
            "overflow": null,
            "overflow_x": null,
            "overflow_y": null,
            "padding": null,
            "right": null,
            "top": null,
            "visibility": null,
            "width": null
          }
        },
        "2eded0464436409496be0beab5bd6ec2": {
          "model_module": "@jupyter-widgets/controls",
          "model_name": "ProgressStyleModel",
          "model_module_version": "1.5.0",
          "state": {
            "_model_module": "@jupyter-widgets/controls",
            "_model_module_version": "1.5.0",
            "_model_name": "ProgressStyleModel",
            "_view_count": null,
            "_view_module": "@jupyter-widgets/base",
            "_view_module_version": "1.2.0",
            "_view_name": "StyleView",
            "bar_color": null,
            "description_width": ""
          }
        },
        "529d028e10de49a5b94335121356cac7": {
          "model_module": "@jupyter-widgets/base",
          "model_name": "LayoutModel",
          "model_module_version": "1.2.0",
          "state": {
            "_model_module": "@jupyter-widgets/base",
            "_model_module_version": "1.2.0",
            "_model_name": "LayoutModel",
            "_view_count": null,
            "_view_module": "@jupyter-widgets/base",
            "_view_module_version": "1.2.0",
            "_view_name": "LayoutView",
            "align_content": null,
            "align_items": null,
            "align_self": null,
            "border": null,
            "bottom": null,
            "display": null,
            "flex": null,
            "flex_flow": null,
            "grid_area": null,
            "grid_auto_columns": null,
            "grid_auto_flow": null,
            "grid_auto_rows": null,
            "grid_column": null,
            "grid_gap": null,
            "grid_row": null,
            "grid_template_areas": null,
            "grid_template_columns": null,
            "grid_template_rows": null,
            "height": null,
            "justify_content": null,
            "justify_items": null,
            "left": null,
            "margin": null,
            "max_height": null,
            "max_width": null,
            "min_height": null,
            "min_width": null,
            "object_fit": null,
            "object_position": null,
            "order": null,
            "overflow": null,
            "overflow_x": null,
            "overflow_y": null,
            "padding": null,
            "right": null,
            "top": null,
            "visibility": null,
            "width": null
          }
        },
        "653ee358612f42218be326dc0fbd4aba": {
          "model_module": "@jupyter-widgets/controls",
          "model_name": "DescriptionStyleModel",
          "model_module_version": "1.5.0",
          "state": {
            "_model_module": "@jupyter-widgets/controls",
            "_model_module_version": "1.5.0",
            "_model_name": "DescriptionStyleModel",
            "_view_count": null,
            "_view_module": "@jupyter-widgets/base",
            "_view_module_version": "1.2.0",
            "_view_name": "StyleView",
            "description_width": ""
          }
        }
      }
    }
  },
  "nbformat": 4,
  "nbformat_minor": 0
}