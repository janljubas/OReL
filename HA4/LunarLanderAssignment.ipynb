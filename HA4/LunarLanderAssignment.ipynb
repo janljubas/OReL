{
  "cells": [
    {
      "cell_type": "markdown",
      "metadata": {
        "id": "-eR7hBGb0RoV"
      },
      "source": [
        "## Lunar Lander with REINFORCE\n",
        "### Christian Igel, 2023\n",
        "\n",
        "If you have suggestions for improvements, [let me know](mailto:igel@diku.dk).\n",
        "\n",
        "Imports:"
      ]
    },
    {
      "cell_type": "code",
      "source": [
        "# Adding the imports, using the Google Colab\n",
        "!pip install swig\n",
        "!pip install \"gymnasium[box2d]\""
      ],
      "metadata": {
        "collapsed": true,
        "colab": {
          "base_uri": "https://localhost:8080/"
        },
        "id": "JDKzHQk_5Wkz",
        "outputId": "5fd26be5-11a0-4e1f-efcb-a87b848636e1"
      },
      "execution_count": 1,
      "outputs": [
        {
          "output_type": "stream",
          "name": "stdout",
          "text": [
            "Collecting swig\n",
            "  Downloading swig-4.3.0-py2.py3-none-manylinux_2_5_x86_64.manylinux1_x86_64.whl.metadata (3.5 kB)\n",
            "Downloading swig-4.3.0-py2.py3-none-manylinux_2_5_x86_64.manylinux1_x86_64.whl (1.9 MB)\n",
            "\u001b[?25l   \u001b[90m━━━━━━━━━━━━━━━━━━━━━━━━━━━━━━━━━━━━━━━━\u001b[0m \u001b[32m0.0/1.9 MB\u001b[0m \u001b[31m?\u001b[0m eta \u001b[36m-:--:--\u001b[0m\r\u001b[2K   \u001b[90m━━━━━━━━━━━━━━━━━━━━━━━━━━━━━━━━━━━━━━━━\u001b[0m \u001b[32m1.9/1.9 MB\u001b[0m \u001b[31m69.3 MB/s\u001b[0m eta \u001b[36m0:00:00\u001b[0m\n",
            "\u001b[?25hInstalling collected packages: swig\n",
            "Successfully installed swig-4.3.0\n",
            "Requirement already satisfied: gymnasium[box2d] in /usr/local/lib/python3.11/dist-packages (1.1.0)\n",
            "Requirement already satisfied: numpy>=1.21.0 in /usr/local/lib/python3.11/dist-packages (from gymnasium[box2d]) (1.26.4)\n",
            "Requirement already satisfied: cloudpickle>=1.2.0 in /usr/local/lib/python3.11/dist-packages (from gymnasium[box2d]) (3.1.1)\n",
            "Requirement already satisfied: typing-extensions>=4.3.0 in /usr/local/lib/python3.11/dist-packages (from gymnasium[box2d]) (4.12.2)\n",
            "Requirement already satisfied: farama-notifications>=0.0.1 in /usr/local/lib/python3.11/dist-packages (from gymnasium[box2d]) (0.0.4)\n",
            "Collecting box2d-py==2.3.5 (from gymnasium[box2d])\n",
            "  Downloading box2d-py-2.3.5.tar.gz (374 kB)\n",
            "\u001b[2K     \u001b[90m━━━━━━━━━━━━━━━━━━━━━━━━━━━━━━━━━━━━━━━━\u001b[0m \u001b[32m374.4/374.4 kB\u001b[0m \u001b[31m22.0 MB/s\u001b[0m eta \u001b[36m0:00:00\u001b[0m\n",
            "\u001b[?25h  Preparing metadata (setup.py) ... \u001b[?25l\u001b[?25hdone\n",
            "Requirement already satisfied: pygame>=2.1.3 in /usr/local/lib/python3.11/dist-packages (from gymnasium[box2d]) (2.6.1)\n",
            "Requirement already satisfied: swig==4.* in /usr/local/lib/python3.11/dist-packages (from gymnasium[box2d]) (4.3.0)\n",
            "Building wheels for collected packages: box2d-py\n",
            "  Building wheel for box2d-py (setup.py) ... \u001b[?25l\u001b[?25hdone\n",
            "  Created wheel for box2d-py: filename=box2d_py-2.3.5-cp311-cp311-linux_x86_64.whl size=2379450 sha256=5fa71f07c138f8dd0c62b49b952a05375b69005621a105caca867de899187105\n",
            "  Stored in directory: /root/.cache/pip/wheels/ab/f1/0c/d56f4a2bdd12bae0a0693ec33f2f0daadb5eb9753c78fa5308\n",
            "Successfully built box2d-py\n",
            "Installing collected packages: box2d-py\n",
            "Successfully installed box2d-py-2.3.5\n"
          ]
        }
      ]
    },
    {
      "cell_type": "code",
      "execution_count": 2,
      "metadata": {
        "id": "cFDJmYSc0RoX"
      },
      "outputs": [],
      "source": [
        "import gymnasium as gym\n",
        "\n",
        "from tqdm.notebook import tqdm, trange  # Progress bar\n",
        "\n",
        "import numpy as np\n",
        "import matplotlib.pyplot as plt"
      ]
    },
    {
      "cell_type": "markdown",
      "metadata": {
        "id": "AC0PO40p0RoY"
      },
      "source": [
        "We need [the `gymnasium` package](https://gymnasium.farama.org/).\n",
        "From this package, we create the Cart-Pole game environment:"
      ]
    },
    {
      "cell_type": "code",
      "execution_count": 3,
      "metadata": {
        "id": "M9aselp-0RoY"
      },
      "outputs": [],
      "source": [
        "env_visual = gym.make('LunarLander-v3', render_mode=\"human\")\n",
        "action_size = 4\n",
        "state_size = 8"
      ]
    },
    {
      "cell_type": "markdown",
      "metadata": {
        "id": "pb57WsCE0RoZ"
      },
      "source": [
        "Let's just test the environment first:"
      ]
    },
    {
      "cell_type": "code",
      "execution_count": 4,
      "metadata": {
        "colab": {
          "base_uri": "https://localhost:8080/"
        },
        "id": "Mthwx49u0RoZ",
        "outputId": "bc8ab800-8079-42ee-94f5-765ea03a51ec"
      },
      "outputs": [
        {
          "output_type": "stream",
          "name": "stdout",
          "text": [
            "initial state: [-0.00421658  1.4167128  -0.4271079   0.25744092  0.00489275  0.09674631\n",
            "  0.          0.        ]\n",
            "return:  -247.50960449128505\n",
            "initial state: [ 2.6769639e-04  1.4176307e+00  2.7092457e-02  2.9825112e-01\n",
            " -3.0332536e-04 -6.1368467e-03  0.0000000e+00  0.0000000e+00]\n",
            "return:  -113.19407748284901\n",
            "initial state: [-0.00236053  1.3983173  -0.239115   -0.5601216   0.00274208  0.05416314\n",
            "  0.          0.        ]\n",
            "return:  -351.1529193505147\n",
            "initial state: [ 0.00724573  1.4156067   0.73391324  0.20827481 -0.00838934 -0.16624221\n",
            "  0.          0.        ]\n",
            "return:  -137.59126749193263\n",
            "initial state: [-0.00195799  1.410804   -0.19834052 -0.00515478  0.00227564  0.04492708\n",
            "  0.          0.        ]\n",
            "return:  -445.47413734812625\n"
          ]
        }
      ],
      "source": [
        "test_episodes = 5\n",
        "for _ in range(test_episodes):\n",
        "    R = 0\n",
        "    state, _ = env_visual.reset()  # Environment starts in a random state, cart and pole are moving\n",
        "    print(\"initial state:\", state)\n",
        "    while True:  # Environment sets \"truncated\" to true after 500 steps\n",
        "        # Uncomment the line below to watch the simulation\n",
        "        env_visual.render()\n",
        "        state, reward, terminated, truncated, _ = env_visual.step(env_visual.action_space.sample()) #  Take a random action\n",
        "        R += reward  # Accumulate reward\n",
        "        if terminated or truncated:\n",
        "            print(\"return: \", R)\n",
        "            env_visual.reset()\n",
        "            break"
      ]
    },
    {
      "cell_type": "markdown",
      "metadata": {
        "id": "wmLuHukr0RoZ"
      },
      "source": [
        "## REINFORCE\n",
        "\n",
        "Let's define a policy class for a simple softmax policy for real-valued feature vectors and discrete actions.\n",
        "The preference for an action is just a linear function of the input features.\n",
        "It is not trivial that this simple policy is powerful enough to solve the tasks without addional processing of the input features. However, it is indeed possible to get reasonable policies in this setting."
      ]
    },
    {
      "cell_type": "code",
      "execution_count": 5,
      "metadata": {
        "id": "NnI4HYew0Roa"
      },
      "outputs": [],
      "source": [
        "class Softmax_policy:\n",
        "    def __init__(self, no_actions, no_features):\n",
        "        \"\"\"\n",
        "        Initialize softmax policy for discrete actions\n",
        "        :param no_actions: number of actions\n",
        "        :param no_features: dimensionality of feature vector representing a state\n",
        "        \"\"\"\n",
        "        self.no_actions = no_actions\n",
        "        self.no_features = no_features\n",
        "\n",
        "        # Initialize policy parameters to zero\n",
        "        self.theta = np.zeros([no_actions, no_features])\n",
        "\n",
        "    def pi(self, s):\n",
        "        \"\"\"\n",
        "        Compute action probabilities in a given state\n",
        "        :param s: state feature vector\n",
        "        :return: an array of action probabilities\n",
        "        \"\"\"\n",
        "        # Compute action preferences for the given feature vector\n",
        "        preferences = self.theta.dot(s)\n",
        "        # Convert overflows to underflows\n",
        "        preferences = preferences - preferences.max()\n",
        "        # Convert the preferences into probabilities\n",
        "        exp_prefs = np.exp(preferences)\n",
        "        return exp_prefs / np.sum(exp_prefs)\n",
        "\n",
        "    def inc(self, delta):\n",
        "        \"\"\"\n",
        "        Change the parameters by addition, e.g. for initialization or parameter updates\n",
        "        :param delta: values to be added to parameters\n",
        "        \"\"\"\n",
        "        self.theta += delta\n",
        "\n",
        "    def sample_action(self, s):\n",
        "        \"\"\"\n",
        "        Sample an action in a given state\n",
        "        :param s: state feature vector\n",
        "        :return: action\n",
        "        \"\"\"\n",
        "        return np.random.choice(self.no_actions, p=self.pi(s))\n",
        "\n",
        "    def gradient_log_pi(self, s, a):\n",
        "        \"\"\"\n",
        "        Computes the gradient of the logarithm of the policy\n",
        "        :param s: state feature vector\n",
        "        :param a: action\n",
        "        :return: gradient of the logarithm of the policy\n",
        "        \"\"\"\n",
        "        pi_s = self.pi(s)\n",
        "\n",
        "        indicator = np.zeros(self.no_actions)\n",
        "        indicator[a] = 1\n",
        "\n",
        "        gradient = np.outer(indicator - pi_s, s)\n",
        "\n",
        "        return gradient\n",
        "\n",
        "    def gradient_log_pi_test(self, s, a, eps=0.1):\n",
        "        \"\"\"\n",
        "        Numerically approximates the gradient of the logarithm of the policy\n",
        "        :param s: state feature vector\n",
        "        :param a: action\n",
        "        :return: approximate gradient of the logarithm of the policy\n",
        "        \"\"\"\n",
        "        theta_correct = np.copy(self.theta)\n",
        "        log_pi = np.log(self.pi(s)[a])\n",
        "        d = np.zeros([self.no_actions, self.no_features])\n",
        "        for i in range(self.no_actions):\n",
        "            for j in range(self.no_features):\n",
        "                self.theta[i,j] += eps\n",
        "                log_pi_eps = np.log(self.pi(s)[a])\n",
        "                d[i,j] = (log_pi_eps - log_pi) / eps\n",
        "                self.theta = np.copy(theta_correct)\n",
        "        return d\n",
        "\n",
        "\n",
        ""
      ]
    },
    {
      "cell_type": "markdown",
      "metadata": {
        "id": "-_9U1g-C0Roa"
      },
      "source": [
        "Verify gradient implementation:"
      ]
    },
    {
      "cell_type": "code",
      "execution_count": 6,
      "metadata": {
        "scrolled": true,
        "collapsed": true,
        "id": "9Du2Lm8I0Roa"
      },
      "outputs": [],
      "source": [
        "env = gym.make('LunarLander-v3')\n",
        "s = env.reset()[0]\n",
        "pi = Softmax_policy(action_size, state_size)\n",
        "tolerance = 0.001  # Absolute tolerance for difference in each gradient component\n",
        "epsilon = 0.0001\n",
        "for _ in range(10):\n",
        "    pi.inc(10.*np.random.rand(action_size, state_size))\n",
        "    for a in range(action_size):\n",
        "        if not np.isclose(pi.gradient_log_pi(s, a), pi.gradient_log_pi_test(s, a, epsilon), atol=tolerance).all():\n",
        "            print(\"derivative test for action\", a)\n",
        "            print(pi.gradient_log_pi(s, a))\n",
        "            print(pi.gradient_log_pi_test(s, a))"
      ]
    },
    {
      "cell_type": "markdown",
      "metadata": {
        "id": "i5YuqCdp0Roa"
      },
      "source": [
        "Do the learning:"
      ]
    },
    {
      "cell_type": "code",
      "execution_count": 7,
      "metadata": {
        "colab": {
          "base_uri": "https://localhost:8080/",
          "height": 49,
          "referenced_widgets": [
            "29d7f32d610049ae8b0e69b707c5d12a",
            "d531350626ff4263b7eba45004f111e7",
            "5e0104f15cc047e89e7bb21d5fbedbb7",
            "b722f79a370440fcbd6a4d4bd6f4cea5",
            "6d220d084d0a4328846a9e9782b7581b",
            "8848bb7290884b829b55071b2b49cf48",
            "5ef82012e934469e89b9deec9e9e1304",
            "6dd85f41fdd348e7b68a59e29dc24e74",
            "4e08d10789b34f86888faedd4e758800",
            "52be43413e674693993276f14174654f",
            "d87b6f5857764b58934cdeef2c2fce77"
          ]
        },
        "id": "2uabYHjP0Roa",
        "outputId": "5ee4a345-0d34-40a9-83a6-d3969e28cd5c"
      },
      "outputs": [
        {
          "output_type": "display_data",
          "data": {
            "text/plain": [
              "  0%|          | 0/20000 [00:00<?, ?it/s]"
            ],
            "application/vnd.jupyter.widget-view+json": {
              "version_major": 2,
              "version_minor": 0,
              "model_id": "29d7f32d610049ae8b0e69b707c5d12a"
            }
          },
          "metadata": {}
        }
      ],
      "source": [
        "alpha = 0.00005  # Learning rate\n",
        "\n",
        "no_episodes = 20000  # Number of episodes\n",
        "total_reward_list = []  # Returns for the individual episodes\n",
        "pi = Softmax_policy(action_size, state_size)  # Policy\n",
        "\n",
        "# Do the learning\n",
        "for e in trange(no_episodes):  #  Loop over episodes\n",
        "    R = []  # Store rewards r_1, ..., r_T\n",
        "    S = []  # Store actions a_0, ..., a_{T-1}\n",
        "    A = []  # Store states s_0, ..., s_{T-1}\n",
        "    state = env.reset()[0]  # Environment starts in a random state, cart and pole are moving\n",
        "    while True:  # Environment sets \"done\" to true after 200 steps\n",
        "        S.append(state)\n",
        "\n",
        "        action = pi.sample_action(state)  # Take an action following pi\n",
        "        A.append(action)\n",
        "\n",
        "        state, reward, terminated, truncated, _ = env.step(action)  # Observe reward and new state\n",
        "        R.append(reward)\n",
        "\n",
        "        if terminated or truncated:  # Failed or succeeded?\n",
        "            break\n",
        "\n",
        "    R = np.array(R)\n",
        "    total_reward_list.append((e, R.sum()))\n",
        "\n",
        "    for t in range(R.size):\n",
        "        R_t = R[t:].sum()  # Accumulated future reward\n",
        "        Delta = alpha * R_t * pi.gradient_log_pi(S[t], A[t])  # REINFORCE update\n",
        "        pi.inc(Delta)  # Apply update\n",
        ""
      ]
    },
    {
      "cell_type": "markdown",
      "metadata": {
        "id": "3sN9kYyI0Roa"
      },
      "source": [
        "Plot learning process:"
      ]
    },
    {
      "cell_type": "code",
      "execution_count": 8,
      "metadata": {
        "colab": {
          "base_uri": "https://localhost:8080/",
          "height": 455
        },
        "collapsed": true,
        "id": "wqIjpS3A0Rob",
        "outputId": "a855b7f5-4c40-4fdc-b8b3-65e7380dee46"
      },
      "outputs": [
        {
          "output_type": "display_data",
          "data": {
            "text/plain": [
              "<Figure size 640x480 with 1 Axes>"
            ],
            "image/png": "[encoded data removed]"
          },
          "metadata": {}
        }
      ],
      "source": [
        "# Moving average for smoothing plot\n",
        "def running_mean(x, N):\n",
        "    cumsum = np.cumsum(np.insert(x, 0, x[0]*np.ones(N)))\n",
        "    return (cumsum[N:] - cumsum[:-N]) / N\n",
        "\n",
        "eps, rews = np.array(total_reward_list).T\n",
        "smoothed_rews = running_mean(rews, 10)\n",
        "plt.plot(eps, smoothed_rews)\n",
        "plt.plot(eps, rews, color='grey', alpha=0.3)\n",
        "plt.xlabel('Episode')\n",
        "plt.ylabel('Accumulated Reward');"
      ]
    },
    {
      "cell_type": "markdown",
      "metadata": {
        "id": "x86MIlee0Rob"
      },
      "source": [
        "Visualize policy:"
      ]
    },
    {
      "cell_type": "code",
      "execution_count": 9,
      "metadata": {
        "colab": {
          "base_uri": "https://localhost:8080/"
        },
        "id": "a2rcOrTz0Rob",
        "outputId": "d9458e64-9893-4477-e6cc-61efb97f2a1b"
      },
      "outputs": [
        {
          "output_type": "stream",
          "name": "stdout",
          "text": [
            "return:  29.078643006709893\n"
          ]
        }
      ],
      "source": [
        "state = env_visual.reset()[0]  # Environment starts in a random state, cart and pole are moving\n",
        "R = 0\n",
        "while True:  # Environment sets \"truncated\" to true after 500 steps\n",
        "        env_visual.render()\n",
        "        state, reward, terminated, truncated, _ = env_visual.step( pi.sample_action(state) ) #  Take a  action\n",
        "        R += reward  # Accumulate reward\n",
        "        if terminated or truncated:\n",
        "            print(\"return: \", R)\n",
        "            break"
      ]
    }
  ],
  "metadata": {
    "kernelspec": {
      "display_name": "Python 3",
      "name": "python3"
    },
    "language_info": {
      "codemirror_mode": {
        "name": "ipython",
        "version": 3
      },
      "file_extension": ".py",
      "mimetype": "text/x-python",
      "name": "python",
      "nbconvert_exporter": "python",
      "pygments_lexer": "ipython3",
      "version": "3.11.5"
    },
    "colab": {
      "provenance": [],
      "machine_shape": "hm",
      "gpuType": "A100"
    },
    "accelerator": "GPU",
    "widgets": {
      "application/vnd.jupyter.widget-state+json": {
        "29d7f32d610049ae8b0e69b707c5d12a": {
          "model_module": "@jupyter-widgets/controls",
          "model_name": "HBoxModel",
          "model_module_version": "1.5.0",
          "state": {
            "_dom_classes": [],
            "_model_module": "@jupyter-widgets/controls",
            "_model_module_version": "1.5.0",
            "_model_name": "HBoxModel",
            "_view_count": null,
            "_view_module": "@jupyter-widgets/controls",
            "_view_module_version": "1.5.0",
            "_view_name": "HBoxView",
            "box_style": "",
            "children": [
              "IPY_MODEL_d531350626ff4263b7eba45004f111e7",
              "IPY_MODEL_5e0104f15cc047e89e7bb21d5fbedbb7",
              "IPY_MODEL_b722f79a370440fcbd6a4d4bd6f4cea5"
            ],
            "layout": "IPY_MODEL_6d220d084d0a4328846a9e9782b7581b"
          }
        },
        "d531350626ff4263b7eba45004f111e7": {
          "model_module": "@jupyter-widgets/controls",
          "model_name": "HTMLModel",
          "model_module_version": "1.5.0",
          "state": {
            "_dom_classes": [],
            "_model_module": "@jupyter-widgets/controls",
            "_model_module_version": "1.5.0",
            "_model_name": "HTMLModel",
            "_view_count": null,
            "_view_module": "@jupyter-widgets/controls",
            "_view_module_version": "1.5.0",
            "_view_name": "HTMLView",
            "description": "",
            "description_tooltip": null,
            "layout": "IPY_MODEL_8848bb7290884b829b55071b2b49cf48",
            "placeholder": "​",
            "style": "IPY_MODEL_5ef82012e934469e89b9deec9e9e1304",
            "value": "100%"
          }
        },
        "5e0104f15cc047e89e7bb21d5fbedbb7": {
          "model_module": "@jupyter-widgets/controls",
          "model_name": "FloatProgressModel",
          "model_module_version": "1.5.0",
          "state": {
            "_dom_classes": [],
            "_model_module": "@jupyter-widgets/controls",
            "_model_module_version": "1.5.0",
            "_model_name": "FloatProgressModel",
            "_view_count": null,
            "_view_module": "@jupyter-widgets/controls",
            "_view_module_version": "1.5.0",
            "_view_name": "ProgressView",
            "bar_style": "success",
            "description": "",
            "description_tooltip": null,
            "layout": "IPY_MODEL_6dd85f41fdd348e7b68a59e29dc24e74",
            "max": 20000,
            "min": 0,
            "orientation": "horizontal",
            "style": "IPY_MODEL_4e08d10789b34f86888faedd4e758800",
            "value": 20000
          }
        },
        "b722f79a370440fcbd6a4d4bd6f4cea5": {
          "model_module": "@jupyter-widgets/controls",
          "model_name": "HTMLModel",
          "model_module_version": "1.5.0",
          "state": {
            "_dom_classes": [],
            "_model_module": "@jupyter-widgets/controls",
            "_model_module_version": "1.5.0",
            "_model_name": "HTMLModel",
            "_view_count": null,
            "_view_module": "@jupyter-widgets/controls",
            "_view_module_version": "1.5.0",
            "_view_name": "HTMLView",
            "description": "",
            "description_tooltip": null,
            "layout": "IPY_MODEL_52be43413e674693993276f14174654f",
            "placeholder": "​",
            "style": "IPY_MODEL_d87b6f5857764b58934cdeef2c2fce77",
            "value": " 20000/20000 [14:13&lt;00:00,  7.52it/s]"
          }
        },
        "6d220d084d0a4328846a9e9782b7581b": {
          "model_module": "@jupyter-widgets/base",
          "model_name": "LayoutModel",
          "model_module_version": "1.2.0",
          "state": {
            "_model_module": "@jupyter-widgets/base",
            "_model_module_version": "1.2.0",
            "_model_name": "LayoutModel",
            "_view_count": null,
            "_view_module": "@jupyter-widgets/base",
            "_view_module_version": "1.2.0",
            "_view_name": "LayoutView",
            "align_content": null,
            "align_items": null,
            "align_self": null,
            "border": null,
            "bottom": null,
            "display": null,
            "flex": null,
            "flex_flow": null,
            "grid_area": null,
            "grid_auto_columns": null,
            "grid_auto_flow": null,
            "grid_auto_rows": null,
            "grid_column": null,
            "grid_gap": null,
            "grid_row": null,
            "grid_template_areas": null,
            "grid_template_columns": null,
            "grid_template_rows": null,
            "height": null,
            "justify_content": null,
            "justify_items": null,
            "left": null,
            "margin": null,
            "max_height": null,
            "max_width": null,
            "min_height": null,
            "min_width": null,
            "object_fit": null,
            "object_position": null,
            "order": null,
            "overflow": null,
            "overflow_x": null,
            "overflow_y": null,
            "padding": null,
            "right": null,
            "top": null,
            "visibility": null,
            "width": null
          }
        },
        "8848bb7290884b829b55071b2b49cf48": {
          "model_module": "@jupyter-widgets/base",
          "model_name": "LayoutModel",
          "model_module_version": "1.2.0",
          "state": {
            "_model_module": "@jupyter-widgets/base",
            "_model_module_version": "1.2.0",
            "_model_name": "LayoutModel",
            "_view_count": null,
            "_view_module": "@jupyter-widgets/base",
            "_view_module_version": "1.2.0",
            "_view_name": "LayoutView",
            "align_content": null,
            "align_items": null,
            "align_self": null,
            "border": null,
            "bottom": null,
            "display": null,
            "flex": null,
            "flex_flow": null,
            "grid_area": null,
            "grid_auto_columns": null,
            "grid_auto_flow": null,
            "grid_auto_rows": null,
            "grid_column": null,
            "grid_gap": null,
            "grid_row": null,
            "grid_template_areas": null,
            "grid_template_columns": null,
            "grid_template_rows": null,
            "height": null,
            "justify_content": null,
            "justify_items": null,
            "left": null,
            "margin": null,
            "max_height": null,
            "max_width": null,
            "min_height": null,
            "min_width": null,
            "object_fit": null,
            "object_position": null,
            "order": null,
            "overflow": null,
            "overflow_x": null,
            "overflow_y": null,
            "padding": null,
            "right": null,
            "top": null,
            "visibility": null,
            "width": null
          }
        },
        "5ef82012e934469e89b9deec9e9e1304": {
          "model_module": "@jupyter-widgets/controls",
          "model_name": "DescriptionStyleModel",
          "model_module_version": "1.5.0",
          "state": {
            "_model_module": "@jupyter-widgets/controls",
            "_model_module_version": "1.5.0",
            "_model_name": "DescriptionStyleModel",
            "_view_count": null,
            "_view_module": "@jupyter-widgets/base",
            "_view_module_version": "1.2.0",
            "_view_name": "StyleView",
            "description_width": ""
          }
        },
        "6dd85f41fdd348e7b68a59e29dc24e74": {
          "model_module": "@jupyter-widgets/base",
          "model_name": "LayoutModel",
          "model_module_version": "1.2.0",
          "state": {
            "_model_module": "@jupyter-widgets/base",
            "_model_module_version": "1.2.0",
            "_model_name": "LayoutModel",
            "_view_count": null,
            "_view_module": "@jupyter-widgets/base",
            "_view_module_version": "1.2.0",
            "_view_name": "LayoutView",
            "align_content": null,
            "align_items": null,
            "align_self": null,
            "border": null,
            "bottom": null,
            "display": null,
            "flex": null,
            "flex_flow": null,
            "grid_area": null,
            "grid_auto_columns": null,
            "grid_auto_flow": null,
            "grid_auto_rows": null,
            "grid_column": null,
            "grid_gap": null,
            "grid_row": null,
            "grid_template_areas": null,
            "grid_template_columns": null,
            "grid_template_rows": null,
            "height": null,
            "justify_content": null,
            "justify_items": null,
            "left": null,
            "margin": null,
            "max_height": null,
            "max_width": null,
            "min_height": null,
            "min_width": null,
            "object_fit": null,
            "object_position": null,
            "order": null,
            "overflow": null,
            "overflow_x": null,
            "overflow_y": null,
            "padding": null,
            "right": null,
            "top": null,
            "visibility": null,
            "width": null
          }
        },
        "4e08d10789b34f86888faedd4e758800": {
          "model_module": "@jupyter-widgets/controls",
          "model_name": "ProgressStyleModel",
          "model_module_version": "1.5.0",
          "state": {
            "_model_module": "@jupyter-widgets/controls",
            "_model_module_version": "1.5.0",
            "_model_name": "ProgressStyleModel",
            "_view_count": null,
            "_view_module": "@jupyter-widgets/base",
            "_view_module_version": "1.2.0",
            "_view_name": "StyleView",
            "bar_color": null,
            "description_width": ""
          }
        },
        "52be43413e674693993276f14174654f": {
          "model_module": "@jupyter-widgets/base",
          "model_name": "LayoutModel",
          "model_module_version": "1.2.0",
          "state": {
            "_model_module": "@jupyter-widgets/base",
            "_model_module_version": "1.2.0",
            "_model_name": "LayoutModel",
            "_view_count": null,
            "_view_module": "@jupyter-widgets/base",
            "_view_module_version": "1.2.0",
            "_view_name": "LayoutView",
            "align_content": null,
            "align_items": null,
            "align_self": null,
            "border": null,
            "bottom": null,
            "display": null,
            "flex": null,
            "flex_flow": null,
            "grid_area": null,
            "grid_auto_columns": null,
            "grid_auto_flow": null,
            "grid_auto_rows": null,
            "grid_column": null,
            "grid_gap": null,
            "grid_row": null,
            "grid_template_areas": null,
            "grid_template_columns": null,
            "grid_template_rows": null,
            "height": null,
            "justify_content": null,
            "justify_items": null,
            "left": null,
            "margin": null,
            "max_height": null,
            "max_width": null,
            "min_height": null,
            "min_width": null,
            "object_fit": null,
            "object_position": null,
            "order": null,
            "overflow": null,
            "overflow_x": null,
            "overflow_y": null,
            "padding": null,
            "right": null,
            "top": null,
            "visibility": null,
            "width": null
          }
        },
        "d87b6f5857764b58934cdeef2c2fce77": {
          "model_module": "@jupyter-widgets/controls",
          "model_name": "DescriptionStyleModel",
          "model_module_version": "1.5.0",
          "state": {
            "_model_module": "@jupyter-widgets/controls",
            "_model_module_version": "1.5.0",
            "_model_name": "DescriptionStyleModel",
            "_view_count": null,
            "_view_module": "@jupyter-widgets/base",
            "_view_module_version": "1.2.0",
            "_view_name": "StyleView",
            "description_width": ""
          }
        }
      }
    }
  },
  "nbformat": 4,
  "nbformat_minor": 0
}