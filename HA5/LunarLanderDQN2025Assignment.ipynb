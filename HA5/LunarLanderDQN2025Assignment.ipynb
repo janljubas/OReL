{
  "cells": [
    {
      "cell_type": "markdown",
      "metadata": {
        "id": "view-in-github",
        "colab_type": "text"
      },
      "source": [
        "<a href=\"https://colab.research.google.com/github/janljubas/OReL/blob/main/HA5/LunarLanderDQN2025Assignment.ipynb\" target=\"_parent\"><img src=\"https://colab.research.google.com/assets/colab-badge.svg\" alt=\"Open In Colab\"/></a>"
      ]
    },
    {
      "cell_type": "markdown",
      "metadata": {
        "id": "NkTNRzlEdkBs"
      },
      "source": [
        "## Lunar lander with DQN-style neural function approximator using PyTorch\n",
        "### Christian Igel, 2025\n",
        "\n",
        "If you have suggestions for improvement, [let me know](mailto:igel@diku.dk).\n",
        "\n",
        "I took inspiration from https://github.com/udacity/deep-learning/blob/master/reinforcement/Q-learning-cart.ipynb.\n",
        "\n",
        "Imports:"
      ]
    },
    {
      "cell_type": "code",
      "execution_count": 1,
      "metadata": {
        "id": "tQkEOsAVdkBu"
      },
      "outputs": [],
      "source": [
        "import gymnasium as gym\n",
        "\n",
        "from tqdm.notebook import tqdm  # Progress bar\n",
        "\n",
        "import torch\n",
        "import torch.nn as nn\n",
        "import torch.nn.functional as F\n",
        "\n",
        "import numpy as np\n",
        "import matplotlib.pyplot as plt\n",
        "%matplotlib inline"
      ]
    },
    {
      "cell_type": "code",
      "source": [
        "!pip install swig\n",
        "!pip install \"gymnasium[box2d]\""
      ],
      "metadata": {
        "collapsed": true,
        "colab": {
          "base_uri": "https://localhost:8080/"
        },
        "id": "SPor6fNbdzhk",
        "outputId": "7b6ec525-dbd0-41f8-ce4b-d5f8b40d34d5"
      },
      "execution_count": 3,
      "outputs": [
        {
          "output_type": "stream",
          "name": "stdout",
          "text": [
            "Collecting swig\n",
            "  Downloading swig-4.3.0-py2.py3-none-manylinux_2_5_x86_64.manylinux1_x86_64.whl.metadata (3.5 kB)\n",
            "Downloading swig-4.3.0-py2.py3-none-manylinux_2_5_x86_64.manylinux1_x86_64.whl (1.9 MB)\n",
            "\u001b[?25l   \u001b[90m━━━━━━━━━━━━━━━━━━━━━━━━━━━━━━━━━━━━━━━━\u001b[0m \u001b[32m0.0/1.9 MB\u001b[0m \u001b[31m?\u001b[0m eta \u001b[36m-:--:--\u001b[0m\r\u001b[2K   \u001b[91m━━━\u001b[0m\u001b[90m╺\u001b[0m\u001b[90m━━━━━━━━━━━━━━━━━━━━━━━━━━━━━━━━━━━━\u001b[0m \u001b[32m0.2/1.9 MB\u001b[0m \u001b[31m4.7 MB/s\u001b[0m eta \u001b[36m0:00:01\u001b[0m\r\u001b[2K   \u001b[91m━━━━━━━━━━━━━━━━━━━━━━━━━\u001b[0m\u001b[90m╺\u001b[0m\u001b[90m━━━━━━━━━━━━━━\u001b[0m \u001b[32m1.2/1.9 MB\u001b[0m \u001b[31m18.0 MB/s\u001b[0m eta \u001b[36m0:00:01\u001b[0m\r\u001b[2K   \u001b[90m━━━━━━━━━━━━━━━━━━━━━━━━━━━━━━━━━━━━━━━━\u001b[0m \u001b[32m1.9/1.9 MB\u001b[0m \u001b[31m21.0 MB/s\u001b[0m eta \u001b[36m0:00:00\u001b[0m\n",
            "\u001b[?25hInstalling collected packages: swig\n",
            "Successfully installed swig-4.3.0\n",
            "Requirement already satisfied: gymnasium[box2d] in /usr/local/lib/python3.11/dist-packages (1.1.0)\n",
            "Requirement already satisfied: numpy>=1.21.0 in /usr/local/lib/python3.11/dist-packages (from gymnasium[box2d]) (1.26.4)\n",
            "Requirement already satisfied: cloudpickle>=1.2.0 in /usr/local/lib/python3.11/dist-packages (from gymnasium[box2d]) (3.1.1)\n",
            "Requirement already satisfied: typing-extensions>=4.3.0 in /usr/local/lib/python3.11/dist-packages (from gymnasium[box2d]) (4.12.2)\n",
            "Requirement already satisfied: farama-notifications>=0.0.1 in /usr/local/lib/python3.11/dist-packages (from gymnasium[box2d]) (0.0.4)\n",
            "Collecting box2d-py==2.3.5 (from gymnasium[box2d])\n",
            "  Downloading box2d-py-2.3.5.tar.gz (374 kB)\n",
            "\u001b[2K     \u001b[90m━━━━━━━━━━━━━━━━━━━━━━━━━━━━━━━━━━━━━━━━\u001b[0m \u001b[32m374.4/374.4 kB\u001b[0m \u001b[31m6.9 MB/s\u001b[0m eta \u001b[36m0:00:00\u001b[0m\n",
            "\u001b[?25h  Preparing metadata (setup.py) ... \u001b[?25l\u001b[?25hdone\n",
            "Requirement already satisfied: pygame>=2.1.3 in /usr/local/lib/python3.11/dist-packages (from gymnasium[box2d]) (2.6.1)\n",
            "Requirement already satisfied: swig==4.* in /usr/local/lib/python3.11/dist-packages (from gymnasium[box2d]) (4.3.0)\n",
            "Building wheels for collected packages: box2d-py\n",
            "  Building wheel for box2d-py (setup.py) ... \u001b[?25l\u001b[?25hdone\n",
            "  Created wheel for box2d-py: filename=box2d_py-2.3.5-cp311-cp311-linux_x86_64.whl size=2379495 sha256=70e05f6e24b145da130a365a876f71cafb001349976b4918a562ea058e8d4205\n",
            "  Stored in directory: /root/.cache/pip/wheels/ab/f1/0c/d56f4a2bdd12bae0a0693ec33f2f0daadb5eb9753c78fa5308\n",
            "Successfully built box2d-py\n",
            "Installing collected packages: box2d-py\n",
            "Successfully installed box2d-py-2.3.5\n"
          ]
        }
      ]
    },
    {
      "cell_type": "markdown",
      "metadata": {
        "id": "nmaBh3BcdkBv"
      },
      "source": [
        "Create the game environment (you need the `gym` package):"
      ]
    },
    {
      "cell_type": "code",
      "execution_count": 4,
      "metadata": {
        "id": "OZaetDhEdkBw"
      },
      "outputs": [],
      "source": [
        "env_visual = gym.make('LunarLander-v3', render_mode=\"human\")\n",
        "action_size = 4\n",
        "state_size = 8"
      ]
    },
    {
      "cell_type": "markdown",
      "metadata": {
        "id": "45a6rVrPdkBw"
      },
      "source": [
        "Let's just test the environment first:"
      ]
    },
    {
      "cell_type": "code",
      "execution_count": 5,
      "metadata": {
        "id": "kNq0s82NdkBw"
      },
      "outputs": [],
      "source": [
        "test_episodes = 0\n",
        "for _ in range(test_episodes):\n",
        "    R = 0\n",
        "    state, _ = env_visual.reset()  # Environment starts in a random state, cart and pole are moving\n",
        "    print(\"initial state:\", state)\n",
        "    while True:  # Environment sets \"truncated\" to true after 500 steps\n",
        "        env_visual.render()\n",
        "        state, reward, terminated, truncated, _ = env_visual.step(env_visual.action_space.sample()) #  Take a random action\n",
        "        R += reward  # Accumulate reward\n",
        "        if terminated or truncated:\n",
        "            print(\"return: \", R)\n",
        "            env_visual.reset()\n",
        "            break"
      ]
    },
    {
      "cell_type": "code",
      "execution_count": null,
      "metadata": {
        "id": "4E5vx_4RdkBx"
      },
      "outputs": [],
      "source": [
        "#env.close()  # Closes the visualization window"
      ]
    },
    {
      "cell_type": "markdown",
      "metadata": {
        "id": "V_k9xwmgdkBx"
      },
      "source": [
        "Define *Q* network architecture:"
      ]
    },
    {
      "cell_type": "code",
      "execution_count": 6,
      "metadata": {
        "id": "XV1pneLGdkBx"
      },
      "outputs": [],
      "source": [
        "class QNetwork(nn.Module):\n",
        "    def __init__(self, state_size=8, action_size=4, hidden_size=10, bias=True):\n",
        "        super(QNetwork, self).__init__()\n",
        "        self.fc1 = nn.Linear(state_size, hidden_size, bias)\n",
        "        self.fc2 = nn.Linear(hidden_size, hidden_size, bias)\n",
        "        self.output_layer = nn.Linear(hidden_size + state_size, action_size, bias)\n",
        "\n",
        "    def forward(self, x_input):\n",
        "        x = F.tanh(self.fc1(x_input))\n",
        "        x = F.tanh(self.fc2(x))\n",
        "        x = torch.cat((x_input, x), dim=1)\n",
        "        x = self.output_layer(x)\n",
        "        return x"
      ]
    },
    {
      "cell_type": "markdown",
      "metadata": {
        "id": "U-scToNudkBx"
      },
      "source": [
        "Data structure for storing experiences:"
      ]
    },
    {
      "cell_type": "code",
      "execution_count": 7,
      "metadata": {
        "id": "3weQS4DIdkBy"
      },
      "outputs": [],
      "source": [
        "from collections import deque\n",
        "class Memory():\n",
        "    def __init__(self, max_size = 1000):\n",
        "        self.buffer = deque(maxlen=max_size)\n",
        "\n",
        "    def add(self, experience):\n",
        "        self.buffer.append(experience)\n",
        "\n",
        "    def sample(self, batch_size):\n",
        "        idx = np.random.choice(np.arange(len(self.buffer)),\n",
        "                               size=batch_size,\n",
        "                               replace=False)\n",
        "        return [self.buffer[ii] for ii in idx]"
      ]
    },
    {
      "cell_type": "markdown",
      "metadata": {
        "id": "0YOT-xp0dkBy"
      },
      "source": [
        "Define basic constants:"
      ]
    },
    {
      "cell_type": "code",
      "execution_count": 8,
      "metadata": {
        "id": "axGnVkFDdkBy"
      },
      "outputs": [],
      "source": [
        "train_episodes = 400           # Max number of episodes to learn from\n",
        "gamma = 0.99                   # Future reward discount\n",
        "learning_rate = 0.001          # Q-network learning rate\n",
        "tau = .01                      # learning rate for target network\n",
        "\n",
        "# Exploration parameters\n",
        "explore_start = 1.0            # Exploration probability at start\n",
        "explore_stop = 0.0001          # Minimum exploration probability\n",
        "decay_rate = 0.05              # Exponential decay rate for exploration prob\n",
        "\n",
        "# Network parameters\n",
        "hidden_size = 64               # Number of units in each Q-network hidden layer\n",
        "\n",
        "# Memory parameters\n",
        "memory_size = 10000            # Memory capacity\n",
        "batch_size = 128               # Experience mini-batch size\n",
        "pretrain_length = batch_size   # Number experiences to pretrain the memory\n",
        "\n",
        "log_path = \"/tmp/deep_Q_network\""
      ]
    },
    {
      "cell_type": "markdown",
      "metadata": {
        "id": "vEG7eE-HdkBy"
      },
      "source": [
        "Instantiate network:"
      ]
    },
    {
      "cell_type": "code",
      "execution_count": 9,
      "metadata": {
        "colab": {
          "base_uri": "https://localhost:8080/"
        },
        "id": "xZJn12QvdkBy",
        "outputId": "ffa27763-0bbd-46be-f9af-db9d52990706"
      },
      "outputs": [
        {
          "output_type": "stream",
          "name": "stdout",
          "text": [
            "QNetwork(\n",
            "  (fc1): Linear(in_features=8, out_features=64, bias=True)\n",
            "  (fc2): Linear(in_features=64, out_features=64, bias=True)\n",
            "  (output_layer): Linear(in_features=72, out_features=4, bias=True)\n",
            ")\n"
          ]
        }
      ],
      "source": [
        "mainQN = QNetwork(hidden_size=hidden_size)\n",
        "print(mainQN)"
      ]
    },
    {
      "cell_type": "code",
      "source": [
        "# Initialize target network\n",
        "targetQN = QNetwork(hidden_size=hidden_size)\n",
        "targetQN.load_state_dict(mainQN.state_dict())\n",
        "print(targetQN)"
      ],
      "metadata": {
        "id": "vgMw5VMJqNNv",
        "outputId": "00ddf5ba-508a-4df6-a502-54976a70603b",
        "colab": {
          "base_uri": "https://localhost:8080/"
        }
      },
      "execution_count": 18,
      "outputs": [
        {
          "output_type": "stream",
          "name": "stdout",
          "text": [
            "QNetwork(\n",
            "  (fc1): Linear(in_features=8, out_features=64, bias=True)\n",
            "  (fc2): Linear(in_features=64, out_features=64, bias=True)\n",
            "  (output_layer): Linear(in_features=72, out_features=4, bias=True)\n",
            ")\n"
          ]
        }
      ]
    },
    {
      "cell_type": "markdown",
      "metadata": {
        "id": "gmHBQbkGdkBy"
      },
      "source": [
        "Initialize the experience memory:"
      ]
    },
    {
      "cell_type": "code",
      "execution_count": 19,
      "metadata": {
        "colab": {
          "base_uri": "https://localhost:8080/",
          "height": 49,
          "referenced_widgets": [
            "40ff917ed4be4acc866164d5d6d22901",
            "2c97bba7c55a48debb9bf3b3c642dc54",
            "bbd5b9ef39fb41139d999ce6c3d4173f",
            "340ced08967b4c8886309a1a100de2f6",
            "8e25fa514bf342de9ea0f42676b53007",
            "31fdf59115d048559ddf61c7be330718",
            "a8164bfc411846cdaf4c3bbf8e99ed56",
            "ccf673f20c9c4adf8d58e44dcc1fbc32",
            "b8d72177174c4aec912cdde403acbf97",
            "01bc6e7a847148718fef9e7697d91cbc",
            "2466e585061c45399073375392935839"
          ]
        },
        "id": "-m0T2zN6dkBy",
        "outputId": "c6a986f0-f37e-4aea-ed02-9e32afea97ae"
      },
      "outputs": [
        {
          "output_type": "display_data",
          "data": {
            "text/plain": [
              "  0%|          | 0/128 [00:00<?, ?it/s]"
            ],
            "application/vnd.jupyter.widget-view+json": {
              "version_major": 2,
              "version_minor": 0,
              "model_id": "40ff917ed4be4acc866164d5d6d22901"
            }
          },
          "metadata": {}
        }
      ],
      "source": [
        "# Initialize the simulation\n",
        "env = gym.make('LunarLander-v3')\n",
        "state = env.reset()[0]\n",
        "\n",
        "memory = Memory(max_size=memory_size)\n",
        "\n",
        "# Make a bunch of random actions and store the experiences\n",
        "for _ in tqdm(range(pretrain_length)):\n",
        "    # Make a random action\n",
        "    action = env.action_space.sample()\n",
        "    next_state, reward, terminated, truncated, _ = env.step(action)\n",
        "\n",
        "    if terminated or truncated:\n",
        "        # The simulation fails, so no next state\n",
        "        next_state = np.zeros(state.shape)\n",
        "        # Add experience to memory\n",
        "        memory.add((state, action, reward, next_state))\n",
        "\n",
        "        # Start new episode\n",
        "        env.reset()\n",
        "        # Take one random step to get the pole and cart moving\n",
        "        state, reward, terminated, truncated, _ = env.step(env.action_space.sample())\n",
        "    else:\n",
        "        # Add experience to memory\n",
        "        memory.add((state, action, reward, next_state))\n",
        "        state = next_state"
      ]
    },
    {
      "cell_type": "markdown",
      "metadata": {
        "id": "QTXAO60edkBz"
      },
      "source": [
        "Now train with experiences:"
      ]
    },
    {
      "cell_type": "code",
      "execution_count": 24,
      "metadata": {
        "colab": {
          "base_uri": "https://localhost:8080/"
        },
        "collapsed": true,
        "id": "nXUzAUGVdkBz",
        "outputId": "a3c85f5d-3675-4363-a504-979ade59c2b3"
      },
      "outputs": [
        {
          "output_type": "stream",
          "name": "stdout",
          "text": [
            "Episode: 0 Total reward: -129.70535451511222 Training loss: 4.0761 Explore P: 1.0000\n",
            "Episode: 1 Total reward: 5.439480252745554 Training loss: 1.9116 Explore P: 0.9512\n",
            "Episode: 2 Total reward: -156.22403024770313 Training loss: 1.5404 Explore P: 0.9048\n",
            "Episode: 3 Total reward: -66.26672150446348 Training loss: 2.1372 Explore P: 0.8607\n",
            "Episode: 4 Total reward: -82.59330777417411 Training loss: 1.2627 Explore P: 0.8187\n",
            "Episode: 5 Total reward: -77.8780631099214 Training loss: 9.4015 Explore P: 0.7788\n",
            "Episode: 6 Total reward: -86.37752703325096 Training loss: 6.9530 Explore P: 0.7408\n",
            "Episode: 7 Total reward: -268.83979668131974 Training loss: 23.7765 Explore P: 0.7047\n",
            "Episode: 8 Total reward: -85.18795346735106 Training loss: 2.5427 Explore P: 0.6704\n",
            "Episode: 9 Total reward: -44.754913807343556 Training loss: 3.4367 Explore P: 0.6377\n",
            "Episode: 10 Total reward: -33.82781405131341 Training loss: 2.4633 Explore P: 0.6066\n",
            "Episode: 11 Total reward: -43.70714401258623 Training loss: 2.4433 Explore P: 0.5770\n",
            "Episode: 12 Total reward: -85.09048475618538 Training loss: 15.6270 Explore P: 0.5489\n",
            "Episode: 13 Total reward: 47.034604571283694 Training loss: 72.1423 Explore P: 0.5221\n",
            "Episode: 14 Total reward: -158.31522256149952 Training loss: 7.7025 Explore P: 0.4966\n",
            "Episode: 15 Total reward: 161.78571045265628 Training loss: 38.6283 Explore P: 0.4724\n",
            "Episode: 16 Total reward: -184.4177013921343 Training loss: 11.4848 Explore P: 0.4494\n",
            "Episode: 17 Total reward: -46.195681369579205 Training loss: 15.4236 Explore P: 0.4275\n",
            "Episode: 18 Total reward: -88.71179502691069 Training loss: 3.1835 Explore P: 0.4066\n",
            "Episode: 19 Total reward: 58.34304169784031 Training loss: 34.0523 Explore P: 0.3868\n",
            "Episode: 20 Total reward: 174.16567925254907 Training loss: 13.5554 Explore P: 0.3679\n",
            "Episode: 21 Total reward: -254.6445859956384 Training loss: 3.0280 Explore P: 0.3500\n",
            "Episode: 22 Total reward: -196.4789428831107 Training loss: 13.0049 Explore P: 0.3329\n",
            "Episode: 23 Total reward: 121.66493367750341 Training loss: 3.7456 Explore P: 0.3167\n",
            "Episode: 24 Total reward: 1.9913890890141772 Training loss: 11.8767 Explore P: 0.3013\n",
            "Episode: 25 Total reward: 142.5605952034944 Training loss: 10.7688 Explore P: 0.2866\n",
            "Episode: 26 Total reward: 158.479882051356 Training loss: 4.6693 Explore P: 0.2726\n",
            "Episode: 27 Total reward: 101.05461470465234 Training loss: 5.9823 Explore P: 0.2593\n",
            "Episode: 28 Total reward: 158.82943289102076 Training loss: 8.6271 Explore P: 0.2467\n",
            "Episode: 29 Total reward: 235.92965155086296 Training loss: 3.9861 Explore P: 0.2346\n",
            "Episode: 30 Total reward: 133.55992859819892 Training loss: 3.4823 Explore P: 0.2232\n",
            "Episode: 31 Total reward: -192.50925682982103 Training loss: 2.9035 Explore P: 0.2123\n",
            "Episode: 32 Total reward: 267.25410271247574 Training loss: 1.8662 Explore P: 0.2020\n",
            "Episode: 33 Total reward: 81.3111963488729 Training loss: 2.7982 Explore P: 0.1921\n",
            "Episode: 34 Total reward: 251.83242806124514 Training loss: 3.3107 Explore P: 0.1828\n",
            "Episode: 35 Total reward: 235.9500210439434 Training loss: 1.2594 Explore P: 0.1739\n",
            "Episode: 36 Total reward: -143.48932167205973 Training loss: 2.1137 Explore P: 0.1654\n",
            "Episode: 37 Total reward: 29.643271240133878 Training loss: 10.5461 Explore P: 0.1573\n",
            "Episode: 38 Total reward: 254.56989920562228 Training loss: 2.1452 Explore P: 0.1497\n",
            "Episode: 39 Total reward: 288.24170676435597 Training loss: 2.1000 Explore P: 0.1424\n",
            "Episode: 40 Total reward: 302.7978205425077 Training loss: 1.5772 Explore P: 0.1354\n",
            "Episode: 41 Total reward: 298.2845137304387 Training loss: 0.9765 Explore P: 0.1288\n",
            "Episode: 42 Total reward: 180.9174463830053 Training loss: 2.1439 Explore P: 0.1225\n",
            "Episode: 43 Total reward: 270.6206617738078 Training loss: 1.8559 Explore P: 0.1166\n",
            "Episode: 44 Total reward: 282.0346786668774 Training loss: 0.9784 Explore P: 0.1109\n",
            "Episode: 45 Total reward: 264.54808890890064 Training loss: 0.8610 Explore P: 0.1055\n",
            "Episode: 46 Total reward: 250.87706417664288 Training loss: 1.4980 Explore P: 0.1003\n",
            "Episode: 47 Total reward: 243.51875928649903 Training loss: 7.6946 Explore P: 0.0955\n",
            "Episode: 48 Total reward: 244.63664055426926 Training loss: 1.0352 Explore P: 0.0908\n",
            "Episode: 49 Total reward: -106.21340086618424 Training loss: 0.8844 Explore P: 0.0864\n",
            "Episode: 50 Total reward: 138.742621037283 Training loss: 1.0967 Explore P: 0.0822\n",
            "Episode: 51 Total reward: 277.0590111637198 Training loss: 1.5313 Explore P: 0.0782\n",
            "Episode: 52 Total reward: 265.25671915577584 Training loss: 1.3256 Explore P: 0.0744\n",
            "Episode: 53 Total reward: 286.84192355100333 Training loss: 1.0007 Explore P: 0.0707\n",
            "Episode: 54 Total reward: 247.76536559827093 Training loss: 0.9044 Explore P: 0.0673\n",
            "Episode: 55 Total reward: 254.4998484199281 Training loss: 1.3167 Explore P: 0.0640\n",
            "Episode: 56 Total reward: 252.7011990651177 Training loss: 0.9725 Explore P: 0.0609\n",
            "Episode: 57 Total reward: 293.0135500649973 Training loss: 1.1327 Explore P: 0.0579\n",
            "Episode: 58 Total reward: 275.6732463251466 Training loss: 1.6150 Explore P: 0.0551\n",
            "Episode: 59 Total reward: 275.5432642851955 Training loss: 0.9042 Explore P: 0.0524\n",
            "Episode: 60 Total reward: 224.03436241459792 Training loss: 1.3234 Explore P: 0.0499\n",
            "Episode: 61 Total reward: 267.9760341399935 Training loss: 2.5604 Explore P: 0.0475\n",
            "Episode: 62 Total reward: 285.8784045580055 Training loss: 1.4787 Explore P: 0.0451\n",
            "Episode: 63 Total reward: 265.07429483308385 Training loss: 0.7353 Explore P: 0.0429\n",
            "Episode: 64 Total reward: 217.88323693488493 Training loss: 2.1544 Explore P: 0.0409\n",
            "Episode: 65 Total reward: 257.1883924655316 Training loss: 21.0511 Explore P: 0.0389\n",
            "Episode: 66 Total reward: 231.72211823236114 Training loss: 0.6479 Explore P: 0.0370\n",
            "Episode: 67 Total reward: 261.465490669603 Training loss: 38.7306 Explore P: 0.0352\n",
            "Episode: 68 Total reward: 279.1748099814918 Training loss: 0.6917 Explore P: 0.0335\n",
            "Episode: 69 Total reward: 233.47682790060713 Training loss: 2.0233 Explore P: 0.0318\n",
            "Episode: 70 Total reward: 266.5427246916979 Training loss: 1.2280 Explore P: 0.0303\n",
            "Episode: 71 Total reward: 233.7534103980837 Training loss: 0.9907 Explore P: 0.0288\n",
            "Episode: 72 Total reward: 270.8088968628723 Training loss: 0.9743 Explore P: 0.0274\n",
            "Episode: 73 Total reward: 273.4071769624684 Training loss: 0.7729 Explore P: 0.0261\n",
            "Episode: 74 Total reward: 245.526943426634 Training loss: 16.4778 Explore P: 0.0248\n",
            "Episode: 75 Total reward: 257.99183492985935 Training loss: 35.2098 Explore P: 0.0236\n",
            "Episode: 76 Total reward: 255.9759323654432 Training loss: 1.0868 Explore P: 0.0225\n",
            "Episode: 77 Total reward: 301.79614797611254 Training loss: 4.0344 Explore P: 0.0214\n",
            "Episode: 78 Total reward: -284.23244634627156 Training loss: 0.5946 Explore P: 0.0203\n",
            "Episode: 79 Total reward: 259.5757000054612 Training loss: 1.0404 Explore P: 0.0194\n",
            "Episode: 80 Total reward: -127.14014216166998 Training loss: 6.7657 Explore P: 0.0184\n",
            "Episode: 81 Total reward: 290.1279682026706 Training loss: 21.3174 Explore P: 0.0175\n",
            "Episode: 82 Total reward: 279.56583372675124 Training loss: 0.8433 Explore P: 0.0167\n",
            "Episode: 83 Total reward: 254.45597039133656 Training loss: 128.7807 Explore P: 0.0159\n",
            "Episode: 84 Total reward: 242.31714122810914 Training loss: 1.8925 Explore P: 0.0151\n",
            "Episode: 85 Total reward: 271.7798414741791 Training loss: 15.3891 Explore P: 0.0144\n",
            "Episode: 86 Total reward: 271.70302523384225 Training loss: 1.0505 Explore P: 0.0137\n",
            "Episode: 87 Total reward: 234.69127541459628 Training loss: 15.2593 Explore P: 0.0130\n",
            "Episode: 88 Total reward: 221.94127736762766 Training loss: 4.0257 Explore P: 0.0124\n",
            "Episode: 89 Total reward: 45.931957523914974 Training loss: 26.1600 Explore P: 0.0118\n",
            "Episode: 90 Total reward: 238.59202963539607 Training loss: 16.3871 Explore P: 0.0112\n",
            "Episode: 91 Total reward: 260.57307401808447 Training loss: 2.2981 Explore P: 0.0107\n",
            "Episode: 92 Total reward: 257.32894131089125 Training loss: 168.3148 Explore P: 0.0102\n",
            "Episode: 93 Total reward: 257.4498507654697 Training loss: 15.1675 Explore P: 0.0097\n",
            "Episode: 94 Total reward: -176.61995341062521 Training loss: 10.5597 Explore P: 0.0092\n",
            "Episode: 95 Total reward: 57.35186429450579 Training loss: 1.0470 Explore P: 0.0088\n",
            "Episode: 96 Total reward: -33.28888448953521 Training loss: 3.4047 Explore P: 0.0083\n",
            "Episode: 97 Total reward: -156.69032536152608 Training loss: 1.8806 Explore P: 0.0079\n",
            "Episode: 98 Total reward: 258.30522752106447 Training loss: 23.7062 Explore P: 0.0075\n",
            "Episode: 99 Total reward: 221.04998000257962 Training loss: 5.0297 Explore P: 0.0072\n",
            "Episode: 100 Total reward: 251.0871018829253 Training loss: 3.4091 Explore P: 0.0068\n",
            "Episode: 101 Total reward: 262.2933658992873 Training loss: 76.3442 Explore P: 0.0065\n",
            "Episode: 102 Total reward: -52.96303792966265 Training loss: 1.3942 Explore P: 0.0062\n",
            "Episode: 103 Total reward: -89.3112438815671 Training loss: 2.7936 Explore P: 0.0059\n",
            "Episode: 104 Total reward: 244.02064734591843 Training loss: 9.4902 Explore P: 0.0056\n",
            "Episode: 105 Total reward: 250.10281490464902 Training loss: 25.4849 Explore P: 0.0053\n",
            "Episode: 106 Total reward: -80.68307409069293 Training loss: 3.2143 Explore P: 0.0051\n",
            "Episode: 107 Total reward: 0.28074656364813677 Training loss: 10.7644 Explore P: 0.0048\n",
            "Episode: 108 Total reward: -59.66338081527775 Training loss: 15.3932 Explore P: 0.0046\n",
            "Episode: 109 Total reward: 243.6567920930856 Training loss: 48.6334 Explore P: 0.0044\n",
            "Episode: 110 Total reward: 210.93134154833592 Training loss: 3.0545 Explore P: 0.0042\n",
            "Episode: 111 Total reward: -27.89132797012499 Training loss: 2.4986 Explore P: 0.0040\n",
            "Episode: 112 Total reward: 253.5173231150363 Training loss: 1.6212 Explore P: 0.0038\n",
            "Episode: 113 Total reward: 268.0326481750441 Training loss: 14.9296 Explore P: 0.0036\n",
            "Episode: 114 Total reward: 284.20103435270386 Training loss: 3.2245 Explore P: 0.0034\n",
            "Episode: 115 Total reward: 264.5677674560142 Training loss: 4.3722 Explore P: 0.0033\n",
            "Episode: 116 Total reward: 235.77232175357176 Training loss: 61.3639 Explore P: 0.0031\n",
            "Episode: 117 Total reward: 242.95960712938168 Training loss: 3.0005 Explore P: 0.0030\n",
            "Episode: 118 Total reward: 251.64094920311888 Training loss: 2.3886 Explore P: 0.0028\n",
            "Episode: 119 Total reward: 242.80921232419766 Training loss: 5.7085 Explore P: 0.0027\n",
            "Episode: 120 Total reward: 224.98954580863466 Training loss: 6.9209 Explore P: 0.0026\n",
            "Episode: 121 Total reward: 10.846438187428348 Training loss: 3.4418 Explore P: 0.0025\n",
            "Episode: 122 Total reward: 240.8211063403806 Training loss: 1.5471 Explore P: 0.0023\n",
            "Episode: 123 Total reward: 262.2036591175771 Training loss: 8.3171 Explore P: 0.0022\n",
            "Episode: 124 Total reward: 233.457854789984 Training loss: 2.6388 Explore P: 0.0021\n",
            "Episode: 125 Total reward: 246.19035945234006 Training loss: 4.3545 Explore P: 0.0020\n",
            "Episode: 126 Total reward: 234.7765321655409 Training loss: 4.3523 Explore P: 0.0019\n",
            "Episode: 127 Total reward: 230.2884221348201 Training loss: 16.0931 Explore P: 0.0018\n",
            "Episode: 128 Total reward: 255.12213273900934 Training loss: 3.0149 Explore P: 0.0018\n",
            "Episode: 129 Total reward: 250.9517571775054 Training loss: 1.6392 Explore P: 0.0017\n",
            "Episode: 130 Total reward: 268.9821432641228 Training loss: 33.2692 Explore P: 0.0016\n",
            "Episode: 131 Total reward: 270.9399729534455 Training loss: 2.3455 Explore P: 0.0015\n",
            "Episode: 132 Total reward: 251.61200545287255 Training loss: 2.9616 Explore P: 0.0015\n",
            "Episode: 133 Total reward: 259.3720437382592 Training loss: 11.6477 Explore P: 0.0014\n",
            "Episode: 134 Total reward: 242.48634088378097 Training loss: 15.8600 Explore P: 0.0013\n",
            "Episode: 135 Total reward: 246.34024812246096 Training loss: 6.5205 Explore P: 0.0013\n",
            "Episode: 136 Total reward: 257.1949539878748 Training loss: 23.9722 Explore P: 0.0012\n",
            "Episode: 137 Total reward: 264.763519420401 Training loss: 3.3222 Explore P: 0.0012\n",
            "Episode: 138 Total reward: 208.1318918587532 Training loss: 14.5469 Explore P: 0.0011\n",
            "Episode: 139 Total reward: 214.15825467500656 Training loss: 3.0035 Explore P: 0.0011\n",
            "Episode: 140 Total reward: 230.8387473269088 Training loss: 7.0314 Explore P: 0.0010\n",
            "Episode: 141 Total reward: 208.17973479998 Training loss: 8.5354 Explore P: 0.0010\n",
            "Episode: 142 Total reward: 273.66057628244914 Training loss: 2.4105 Explore P: 0.0009\n",
            "Episode: 143 Total reward: 203.44818708289762 Training loss: 6.0101 Explore P: 0.0009\n",
            "Episode: 144 Total reward: 259.90076953181875 Training loss: 7.0200 Explore P: 0.0008\n",
            "Episode: 145 Total reward: 260.4972149557865 Training loss: 1.0452 Explore P: 0.0008\n",
            "Episode: 146 Total reward: 255.96140444470063 Training loss: 3.3869 Explore P: 0.0008\n",
            "Episode: 147 Total reward: 222.6481136676455 Training loss: 6.4216 Explore P: 0.0007\n",
            "Episode: 148 Total reward: 239.95558141135984 Training loss: 0.7726 Explore P: 0.0007\n",
            "Episode: 149 Total reward: 253.12873838958643 Training loss: 1.3089 Explore P: 0.0007\n",
            "Episode: 150 Total reward: 268.80927103657586 Training loss: 8.2922 Explore P: 0.0007\n",
            "Episode: 151 Total reward: 160.53526264693107 Training loss: 5.3952 Explore P: 0.0006\n",
            "Episode: 152 Total reward: 231.82070229285333 Training loss: 8.0395 Explore P: 0.0006\n",
            "Episode: 153 Total reward: 223.60584683168156 Training loss: 8.4662 Explore P: 0.0006\n",
            "Episode: 154 Total reward: 244.8449749945081 Training loss: 2.5652 Explore P: 0.0006\n",
            "Episode: 155 Total reward: 245.0764159285165 Training loss: 0.9902 Explore P: 0.0005\n",
            "Episode: 156 Total reward: 248.2770524781522 Training loss: 6.3118 Explore P: 0.0005\n",
            "Episode: 157 Total reward: -323.1517448782009 Training loss: 1.7949 Explore P: 0.0005\n",
            "Episode: 158 Total reward: 231.66676813387753 Training loss: 5.5620 Explore P: 0.0005\n",
            "Episode: 159 Total reward: 241.89242964698053 Training loss: 2.4980 Explore P: 0.0005\n",
            "Episode: 160 Total reward: 257.0612370757482 Training loss: 8.0779 Explore P: 0.0004\n",
            "Episode: 161 Total reward: 248.64263865536475 Training loss: 4.6180 Explore P: 0.0004\n",
            "Episode: 162 Total reward: 260.11614921835417 Training loss: 1.0716 Explore P: 0.0004\n",
            "Episode: 163 Total reward: 267.7038170364859 Training loss: 2.7724 Explore P: 0.0004\n",
            "Episode: 164 Total reward: 266.7652097200653 Training loss: 1.4002 Explore P: 0.0004\n",
            "Episode: 165 Total reward: 258.84565260558577 Training loss: 0.6669 Explore P: 0.0004\n",
            "Episode: 166 Total reward: 225.73112098923116 Training loss: 10.0895 Explore P: 0.0003\n",
            "Episode: 167 Total reward: 264.3696557461833 Training loss: 1.8692 Explore P: 0.0003\n",
            "Episode: 168 Total reward: 259.65111831510336 Training loss: 9.7476 Explore P: 0.0003\n",
            "Episode: 169 Total reward: 268.83703547677965 Training loss: 1.0976 Explore P: 0.0003\n",
            "Episode: 170 Total reward: 261.25707637580786 Training loss: 1.9260 Explore P: 0.0003\n",
            "Episode: 171 Total reward: 258.64092000378383 Training loss: 1.3621 Explore P: 0.0003\n",
            "Episode: 172 Total reward: 237.8823131592913 Training loss: 5.2990 Explore P: 0.0003\n",
            "Episode: 173 Total reward: 240.92756053791496 Training loss: 1.1567 Explore P: 0.0003\n",
            "Episode: 174 Total reward: 243.6105988007536 Training loss: 5.6422 Explore P: 0.0003\n",
            "Episode: 175 Total reward: 257.8470624152592 Training loss: 1.1739 Explore P: 0.0003\n",
            "Episode: 176 Total reward: 263.89407671015954 Training loss: 5.4415 Explore P: 0.0003\n",
            "Episode: 177 Total reward: 265.81642145042326 Training loss: 22.0277 Explore P: 0.0002\n",
            "Episode: 178 Total reward: 281.4401352462455 Training loss: 0.7616 Explore P: 0.0002\n",
            "Episode: 179 Total reward: 251.56527929212677 Training loss: 0.7784 Explore P: 0.0002\n",
            "Episode: 180 Total reward: 234.8697217429252 Training loss: 0.6977 Explore P: 0.0002\n",
            "Episode: 181 Total reward: 247.64182302889748 Training loss: 0.7446 Explore P: 0.0002\n",
            "Episode: 182 Total reward: 263.3569441133371 Training loss: 1.2604 Explore P: 0.0002\n",
            "Episode: 183 Total reward: 262.95921253537097 Training loss: 1.2571 Explore P: 0.0002\n",
            "Episode: 184 Total reward: 246.06841428820303 Training loss: 10.8231 Explore P: 0.0002\n",
            "Episode: 185 Total reward: 276.7576824461312 Training loss: 0.5968 Explore P: 0.0002\n",
            "Episode: 186 Total reward: 245.3838081487786 Training loss: 1.0785 Explore P: 0.0002\n",
            "Episode: 187 Total reward: 251.6776172634137 Training loss: 1.1354 Explore P: 0.0002\n",
            "Episode: 188 Total reward: 262.12275954158076 Training loss: 0.5887 Explore P: 0.0002\n",
            "Episode: 189 Total reward: 263.1544511075455 Training loss: 0.6665 Explore P: 0.0002\n",
            "Episode: 190 Total reward: 252.23581099581196 Training loss: 0.7569 Explore P: 0.0002\n",
            "Episode: 191 Total reward: 253.8786609923786 Training loss: 2.0070 Explore P: 0.0002\n",
            "Episode: 192 Total reward: 286.1055271158122 Training loss: 2.9034 Explore P: 0.0002\n",
            "Episode: 193 Total reward: 250.37007774109318 Training loss: 7.8959 Explore P: 0.0002\n",
            "Episode: 194 Total reward: 275.2941606726257 Training loss: 6.0308 Explore P: 0.0002\n",
            "Episode: 195 Total reward: 260.53261364903574 Training loss: 4.6226 Explore P: 0.0002\n",
            "Episode: 196 Total reward: 262.91926708489484 Training loss: 2.1864 Explore P: 0.0002\n",
            "Episode: 197 Total reward: 291.3578613657836 Training loss: 3.4343 Explore P: 0.0002\n",
            "Episode: 198 Total reward: 243.7954537412098 Training loss: 4.7488 Explore P: 0.0002\n",
            "Episode: 199 Total reward: 270.4004525363541 Training loss: 2.3927 Explore P: 0.0001\n",
            "Episode: 200 Total reward: 299.10779504073287 Training loss: 9.1979 Explore P: 0.0001\n",
            "Episode: 201 Total reward: 280.1238192070981 Training loss: 1.4493 Explore P: 0.0001\n",
            "Episode: 202 Total reward: 283.3577510010441 Training loss: 4.6672 Explore P: 0.0001\n",
            "Episode: 203 Total reward: 266.03292762939554 Training loss: 0.4598 Explore P: 0.0001\n",
            "Episode: 204 Total reward: 265.86178150074966 Training loss: 0.4745 Explore P: 0.0001\n",
            "Episode: 205 Total reward: 293.3155488840407 Training loss: 0.6290 Explore P: 0.0001\n",
            "Episode: 206 Total reward: 284.5495186808388 Training loss: 0.8437 Explore P: 0.0001\n",
            "Episode: 207 Total reward: 250.8084053486344 Training loss: 0.8075 Explore P: 0.0001\n",
            "Episode: 208 Total reward: 238.01679956044936 Training loss: 0.4945 Explore P: 0.0001\n",
            "Episode: 209 Total reward: 233.38678702035588 Training loss: 3.9307 Explore P: 0.0001\n",
            "Episode: 210 Total reward: 265.84038208472384 Training loss: 3.5711 Explore P: 0.0001\n",
            "Episode: 211 Total reward: 246.3234408064693 Training loss: 0.4402 Explore P: 0.0001\n",
            "Episode: 212 Total reward: 188.8653474349336 Training loss: 0.5481 Explore P: 0.0001\n",
            "Episode: 213 Total reward: 247.4703767927126 Training loss: 0.8556 Explore P: 0.0001\n",
            "Episode: 214 Total reward: 278.21756294710406 Training loss: 1.1376 Explore P: 0.0001\n",
            "Episode: 215 Total reward: 240.53796059734978 Training loss: 0.6642 Explore P: 0.0001\n",
            "Episode: 216 Total reward: 213.237372381856 Training loss: 0.6212 Explore P: 0.0001\n",
            "Episode: 217 Total reward: 284.7287548138223 Training loss: 0.4205 Explore P: 0.0001\n",
            "Episode: 218 Total reward: 282.09024003258287 Training loss: 0.8000 Explore P: 0.0001\n",
            "Episode: 219 Total reward: 277.4473649296483 Training loss: 0.4095 Explore P: 0.0001\n",
            "Episode: 220 Total reward: 233.06721360287915 Training loss: 0.4390 Explore P: 0.0001\n",
            "Episode: 221 Total reward: 275.39240877531404 Training loss: 0.5209 Explore P: 0.0001\n",
            "Episode: 222 Total reward: 277.8402058420249 Training loss: 0.3537 Explore P: 0.0001\n",
            "Episode: 223 Total reward: 247.38207628181252 Training loss: 0.8386 Explore P: 0.0001\n",
            "Episode: 224 Total reward: 259.51362783961747 Training loss: 0.5171 Explore P: 0.0001\n",
            "Episode: 225 Total reward: 115.31395204200055 Training loss: 0.8697 Explore P: 0.0001\n",
            "Episode: 226 Total reward: 266.22550016770043 Training loss: 1.1685 Explore P: 0.0001\n",
            "Episode: 227 Total reward: 270.4670195560332 Training loss: 13.7775 Explore P: 0.0001\n",
            "Episode: 228 Total reward: 240.44092455084268 Training loss: 0.8947 Explore P: 0.0001\n",
            "Episode: 229 Total reward: 260.02962167856134 Training loss: 0.5630 Explore P: 0.0001\n",
            "Episode: 230 Total reward: 270.0904465792425 Training loss: 0.5492 Explore P: 0.0001\n",
            "Episode: 231 Total reward: 275.90415909747946 Training loss: 14.1447 Explore P: 0.0001\n",
            "Episode: 232 Total reward: 277.85457063972433 Training loss: 4.9511 Explore P: 0.0001\n",
            "Episode: 233 Total reward: 274.95862236344897 Training loss: 0.4873 Explore P: 0.0001\n",
            "Episode: 234 Total reward: 257.430334796832 Training loss: 0.7933 Explore P: 0.0001\n",
            "Episode: 235 Total reward: 291.28686407955604 Training loss: 3.0998 Explore P: 0.0001\n",
            "Episode: 236 Total reward: 286.8294726526677 Training loss: 11.0561 Explore P: 0.0001\n",
            "Episode: 237 Total reward: 264.69112102267206 Training loss: 0.8825 Explore P: 0.0001\n",
            "Episode: 238 Total reward: 249.90958532465615 Training loss: 13.5088 Explore P: 0.0001\n",
            "Episode: 239 Total reward: 284.84304784041933 Training loss: 0.4570 Explore P: 0.0001\n",
            "Episode: 240 Total reward: 266.0847312245904 Training loss: 0.6868 Explore P: 0.0001\n",
            "Episode: 241 Total reward: 270.97692560826613 Training loss: 0.8485 Explore P: 0.0001\n",
            "Episode: 242 Total reward: 267.04305223160975 Training loss: 0.5661 Explore P: 0.0001\n",
            "Episode: 243 Total reward: 264.15732802020096 Training loss: 0.8658 Explore P: 0.0001\n",
            "Episode: 244 Total reward: 28.00776370036661 Training loss: 0.4520 Explore P: 0.0001\n",
            "Episode: 245 Total reward: 254.5360178740507 Training loss: 0.9258 Explore P: 0.0001\n",
            "Episode: 246 Total reward: 260.7181257830613 Training loss: 0.3651 Explore P: 0.0001\n",
            "Episode: 247 Total reward: 235.6199011658359 Training loss: 0.8254 Explore P: 0.0001\n",
            "Episode: 248 Total reward: 246.03912196341054 Training loss: 6.0448 Explore P: 0.0001\n",
            "Episode: 249 Total reward: 276.3655985747193 Training loss: 1.3174 Explore P: 0.0001\n",
            "Episode: 250 Total reward: 267.517211173825 Training loss: 5.9185 Explore P: 0.0001\n",
            "Episode: 251 Total reward: 263.31983218888513 Training loss: 11.7707 Explore P: 0.0001\n",
            "Episode: 252 Total reward: 269.2558393759407 Training loss: 5.6367 Explore P: 0.0001\n",
            "Episode: 253 Total reward: 235.43516966866056 Training loss: 0.8758 Explore P: 0.0001\n",
            "Episode: 254 Total reward: 227.17570833452652 Training loss: 0.8043 Explore P: 0.0001\n",
            "Episode: 255 Total reward: 260.0484692498039 Training loss: 2.6526 Explore P: 0.0001\n",
            "Episode: 256 Total reward: 280.72614974702185 Training loss: 4.1268 Explore P: 0.0001\n",
            "Episode: 257 Total reward: 252.67483866209753 Training loss: 6.5819 Explore P: 0.0001\n",
            "Episode: 258 Total reward: 269.6050244753705 Training loss: 0.8332 Explore P: 0.0001\n",
            "Episode: 259 Total reward: 240.51184037450278 Training loss: 1.3184 Explore P: 0.0001\n",
            "Episode: 260 Total reward: 263.78819653340804 Training loss: 0.6313 Explore P: 0.0001\n",
            "Episode: 261 Total reward: 276.61955754870877 Training loss: 1.7121 Explore P: 0.0001\n",
            "Episode: 262 Total reward: 293.3437028211053 Training loss: 0.7583 Explore P: 0.0001\n",
            "Episode: 263 Total reward: 282.424516599395 Training loss: 5.8031 Explore P: 0.0001\n",
            "Episode: 264 Total reward: 269.0588134926694 Training loss: 4.1364 Explore P: 0.0001\n",
            "Episode: 265 Total reward: 21.188285809525468 Training loss: 1.7634 Explore P: 0.0001\n",
            "Episode: 266 Total reward: 289.3246523392023 Training loss: 5.8831 Explore P: 0.0001\n",
            "Episode: 267 Total reward: 288.66375055661797 Training loss: 3.5844 Explore P: 0.0001\n",
            "Episode: 268 Total reward: 261.7615200076814 Training loss: 6.9612 Explore P: 0.0001\n",
            "Episode: 269 Total reward: 288.8340462703877 Training loss: 1.0545 Explore P: 0.0001\n",
            "Episode: 270 Total reward: 268.21615707026206 Training loss: 10.6878 Explore P: 0.0001\n",
            "Episode: 271 Total reward: 261.96297599094385 Training loss: 1.6226 Explore P: 0.0001\n",
            "Episode: 272 Total reward: -199.78003219041238 Training loss: 0.7899 Explore P: 0.0001\n",
            "Episode: 273 Total reward: 268.7511316238618 Training loss: 1.0423 Explore P: 0.0001\n",
            "Episode: 274 Total reward: 271.8788764928777 Training loss: 1.5558 Explore P: 0.0001\n",
            "Episode: 275 Total reward: 268.73897656928204 Training loss: 1.9804 Explore P: 0.0001\n",
            "Episode: 276 Total reward: 279.4327889875839 Training loss: 1.3523 Explore P: 0.0001\n",
            "Episode: 277 Total reward: 239.65269250885098 Training loss: 1.5395 Explore P: 0.0001\n",
            "Episode: 278 Total reward: 292.19931593965873 Training loss: 1.4445 Explore P: 0.0001\n",
            "Episode: 279 Total reward: 295.42826426474187 Training loss: 5.6644 Explore P: 0.0001\n",
            "Episode: 280 Total reward: -133.36323494824643 Training loss: 3.2166 Explore P: 0.0001\n",
            "Episode: 281 Total reward: 278.9456556821748 Training loss: 12.9169 Explore P: 0.0001\n",
            "Episode: 282 Total reward: 249.62968950662804 Training loss: 1.3267 Explore P: 0.0001\n",
            "Episode: 283 Total reward: 267.10982331342495 Training loss: 4.9902 Explore P: 0.0001\n",
            "Episode: 284 Total reward: 265.16580130049647 Training loss: 7.2292 Explore P: 0.0001\n",
            "Episode: 285 Total reward: 264.6446722676437 Training loss: 2.1694 Explore P: 0.0001\n",
            "Episode: 286 Total reward: 305.1509362724715 Training loss: 1.9000 Explore P: 0.0001\n",
            "Episode: 287 Total reward: 251.68295132359992 Training loss: 1.7268 Explore P: 0.0001\n",
            "Episode: 288 Total reward: 282.43969024099965 Training loss: 1.4765 Explore P: 0.0001\n",
            "Episode: 289 Total reward: 244.18225998983115 Training loss: 3.0520 Explore P: 0.0001\n",
            "Episode: 290 Total reward: 236.13722296730975 Training loss: 2.4066 Explore P: 0.0001\n",
            "Episode: 291 Total reward: 251.87620571745543 Training loss: 0.7752 Explore P: 0.0001\n",
            "Episode: 292 Total reward: 283.21431377754266 Training loss: 1.1724 Explore P: 0.0001\n",
            "Episode: 293 Total reward: 262.8596526483329 Training loss: 0.6906 Explore P: 0.0001\n",
            "Episode: 294 Total reward: 266.2537846359585 Training loss: 4.8435 Explore P: 0.0001\n",
            "Episode: 295 Total reward: 229.38075602130263 Training loss: 1.7992 Explore P: 0.0001\n",
            "Episode: 296 Total reward: 270.23589049751564 Training loss: 0.5543 Explore P: 0.0001\n",
            "Episode: 297 Total reward: 229.71180459505092 Training loss: 1.4105 Explore P: 0.0001\n",
            "Episode: 298 Total reward: 269.5235773682962 Training loss: 1.0847 Explore P: 0.0001\n",
            "Episode: 299 Total reward: 255.52132504638038 Training loss: 6.4274 Explore P: 0.0001\n",
            "Episode: 300 Total reward: -293.6622225209356 Training loss: 1.9744 Explore P: 0.0001\n",
            "Episode: 301 Total reward: 273.56430119471247 Training loss: 1.0179 Explore P: 0.0001\n",
            "Episode: 302 Total reward: -262.36585374667715 Training loss: 0.9774 Explore P: 0.0001\n",
            "Episode: 303 Total reward: 289.6068724133763 Training loss: 1.2605 Explore P: 0.0001\n",
            "Episode: 304 Total reward: 275.27036822236016 Training loss: 0.7848 Explore P: 0.0001\n",
            "Episode: 305 Total reward: -346.6958790495813 Training loss: 2.9635 Explore P: 0.0001\n",
            "Episode: 306 Total reward: 217.19724683012277 Training loss: 7.4006 Explore P: 0.0001\n",
            "Episode: 307 Total reward: 269.09446588471565 Training loss: 5.4629 Explore P: 0.0001\n",
            "Episode: 308 Total reward: 249.87372302250122 Training loss: 4.6022 Explore P: 0.0001\n",
            "Episode: 309 Total reward: 263.0766404951875 Training loss: 3.1012 Explore P: 0.0001\n",
            "Episode: 310 Total reward: 250.82028281702054 Training loss: 1.2460 Explore P: 0.0001\n",
            "Episode: 311 Total reward: -191.78786727478962 Training loss: 5.0468 Explore P: 0.0001\n",
            "Episode: 312 Total reward: 293.1246469396642 Training loss: 1.2911 Explore P: 0.0001\n",
            "Episode: 313 Total reward: 272.2588058264957 Training loss: 4.5824 Explore P: 0.0001\n",
            "Episode: 314 Total reward: 275.0510745584222 Training loss: 0.5384 Explore P: 0.0001\n",
            "Episode: 315 Total reward: 245.53845423589914 Training loss: 0.8774 Explore P: 0.0001\n",
            "Episode: 316 Total reward: 276.3640502831521 Training loss: 8.0236 Explore P: 0.0001\n",
            "Episode: 317 Total reward: 274.2710024745441 Training loss: 4.6266 Explore P: 0.0001\n",
            "Episode: 318 Total reward: 261.35129523961984 Training loss: 1.6333 Explore P: 0.0001\n",
            "Episode: 319 Total reward: 268.75557291220673 Training loss: 0.5348 Explore P: 0.0001\n",
            "Episode: 320 Total reward: 265.9921333801269 Training loss: 6.8673 Explore P: 0.0001\n",
            "Episode: 321 Total reward: 269.69778656772775 Training loss: 13.9588 Explore P: 0.0001\n",
            "Episode: 322 Total reward: 278.9187045779987 Training loss: 9.3155 Explore P: 0.0001\n",
            "Episode: 323 Total reward: 232.4069059074615 Training loss: 10.1098 Explore P: 0.0001\n",
            "Episode: 324 Total reward: -5.144370775489875 Training loss: 1.1645 Explore P: 0.0001\n",
            "Episode: 325 Total reward: 266.14073904586604 Training loss: 2.2082 Explore P: 0.0001\n",
            "Episode: 326 Total reward: 278.2689519291863 Training loss: 6.3155 Explore P: 0.0001\n",
            "Episode: 327 Total reward: 232.99631980265562 Training loss: 2.9054 Explore P: 0.0001\n",
            "Episode: 328 Total reward: 270.0167950611292 Training loss: 4.6171 Explore P: 0.0001\n",
            "Episode: 329 Total reward: 271.6583752701913 Training loss: 0.9146 Explore P: 0.0001\n",
            "Episode: 330 Total reward: 249.2284033307751 Training loss: 6.2809 Explore P: 0.0001\n",
            "Episode: 331 Total reward: 261.698741233876 Training loss: 1.1452 Explore P: 0.0001\n",
            "Episode: 332 Total reward: 252.47036468098892 Training loss: 1.0605 Explore P: 0.0001\n",
            "Episode: 333 Total reward: 251.78292171513735 Training loss: 178.4481 Explore P: 0.0001\n",
            "Episode: 334 Total reward: 268.84368925401157 Training loss: 0.5403 Explore P: 0.0001\n",
            "Episode: 335 Total reward: 266.28768442697464 Training loss: 1.0371 Explore P: 0.0001\n",
            "Episode: 336 Total reward: 285.32628220883953 Training loss: 4.7817 Explore P: 0.0001\n",
            "Episode: 337 Total reward: 272.79531983592653 Training loss: 0.4358 Explore P: 0.0001\n",
            "Episode: 338 Total reward: 237.88956759892267 Training loss: 1.1424 Explore P: 0.0001\n",
            "Episode: 339 Total reward: 267.99356654942665 Training loss: 0.4969 Explore P: 0.0001\n",
            "Episode: 340 Total reward: 258.4481412749667 Training loss: 1.1520 Explore P: 0.0001\n",
            "Episode: 341 Total reward: 274.40858889574974 Training loss: 0.9203 Explore P: 0.0001\n",
            "Episode: 342 Total reward: 257.99500223666575 Training loss: 0.3886 Explore P: 0.0001\n",
            "Episode: 343 Total reward: 238.46503463081868 Training loss: 0.7674 Explore P: 0.0001\n",
            "Episode: 344 Total reward: 252.38023823684563 Training loss: 4.2667 Explore P: 0.0001\n",
            "Episode: 345 Total reward: 235.27431031248 Training loss: 0.8329 Explore P: 0.0001\n",
            "Episode: 346 Total reward: 261.21897782814415 Training loss: 1.6037 Explore P: 0.0001\n",
            "Episode: 347 Total reward: -320.0697833014393 Training loss: 1.1607 Explore P: 0.0001\n",
            "Episode: 348 Total reward: 203.92654060226636 Training loss: 4.8225 Explore P: 0.0001\n",
            "Episode: 349 Total reward: 268.5441957992613 Training loss: 0.7575 Explore P: 0.0001\n",
            "Episode: 350 Total reward: 261.8456781441695 Training loss: 0.7772 Explore P: 0.0001\n",
            "Episode: 351 Total reward: 266.9253406083295 Training loss: 9.6485 Explore P: 0.0001\n",
            "Episode: 352 Total reward: 264.1335127121607 Training loss: 0.7669 Explore P: 0.0001\n",
            "Episode: 353 Total reward: 290.9643039713965 Training loss: 145.8372 Explore P: 0.0001\n",
            "Episode: 354 Total reward: 276.09403438379127 Training loss: 0.8104 Explore P: 0.0001\n",
            "Episode: 355 Total reward: 262.1977415305303 Training loss: 0.5836 Explore P: 0.0001\n",
            "Episode: 356 Total reward: 270.2297680337222 Training loss: 0.9057 Explore P: 0.0001\n",
            "Episode: 357 Total reward: 257.9760233429758 Training loss: 0.5708 Explore P: 0.0001\n",
            "Episode: 358 Total reward: 258.7784754395137 Training loss: 0.6012 Explore P: 0.0001\n",
            "Episode: 359 Total reward: 263.5745968569434 Training loss: 0.7421 Explore P: 0.0001\n",
            "Episode: 360 Total reward: 228.55592952468848 Training loss: 6.9941 Explore P: 0.0001\n",
            "Episode: 361 Total reward: 292.13188309163047 Training loss: 1.2727 Explore P: 0.0001\n",
            "Episode: 362 Total reward: 258.5752101599456 Training loss: 0.6189 Explore P: 0.0001\n",
            "Episode: 363 Total reward: 275.84243073424307 Training loss: 22.8686 Explore P: 0.0001\n",
            "Episode: 364 Total reward: 266.98126555559423 Training loss: 5.5566 Explore P: 0.0001\n",
            "Episode: 365 Total reward: 266.3364015969439 Training loss: 0.5129 Explore P: 0.0001\n",
            "Episode: 366 Total reward: 252.52434109276498 Training loss: 10.4291 Explore P: 0.0001\n",
            "Episode: 367 Total reward: 282.66982522777397 Training loss: 0.7620 Explore P: 0.0001\n",
            "Episode: 368 Total reward: 277.96468088249424 Training loss: 0.7480 Explore P: 0.0001\n",
            "Episode: 369 Total reward: 234.7608117815859 Training loss: 4.9002 Explore P: 0.0001\n",
            "Episode: 370 Total reward: 19.773642379529136 Training loss: 4.9308 Explore P: 0.0001\n",
            "Episode: 371 Total reward: 253.9756616505818 Training loss: 0.7726 Explore P: 0.0001\n",
            "Episode: 372 Total reward: 247.78257701740998 Training loss: 0.5898 Explore P: 0.0001\n",
            "Episode: 373 Total reward: 239.54448852625575 Training loss: 0.4666 Explore P: 0.0001\n",
            "Episode: 374 Total reward: 293.36734087717446 Training loss: 5.1924 Explore P: 0.0001\n",
            "Episode: 375 Total reward: 266.69870609795 Training loss: 5.9154 Explore P: 0.0001\n",
            "Episode: 376 Total reward: 33.68288179379428 Training loss: 0.8568 Explore P: 0.0001\n",
            "Episode: 377 Total reward: 256.6816021570944 Training loss: 0.6730 Explore P: 0.0001\n",
            "Episode: 378 Total reward: 258.3863338333929 Training loss: 0.8182 Explore P: 0.0001\n",
            "Episode: 379 Total reward: 217.35504456992274 Training loss: 0.7617 Explore P: 0.0001\n",
            "Episode: 380 Total reward: 285.25873117227826 Training loss: 0.6118 Explore P: 0.0001\n",
            "Episode: 381 Total reward: 235.82314330289375 Training loss: 0.4059 Explore P: 0.0001\n",
            "Episode: 382 Total reward: 268.5321545663453 Training loss: 0.5357 Explore P: 0.0001\n",
            "Episode: 383 Total reward: 257.1363385681332 Training loss: 0.6794 Explore P: 0.0001\n",
            "Episode: 384 Total reward: 282.5244507321696 Training loss: 0.5876 Explore P: 0.0001\n",
            "Episode: 385 Total reward: 261.1634240504527 Training loss: 1.4947 Explore P: 0.0001\n",
            "Episode: 386 Total reward: 251.05180243181738 Training loss: 1.2592 Explore P: 0.0001\n",
            "Episode: 387 Total reward: 249.66309637041803 Training loss: 0.4622 Explore P: 0.0001\n",
            "Episode: 388 Total reward: 231.40971439642178 Training loss: 0.6652 Explore P: 0.0001\n",
            "Episode: 389 Total reward: 257.83100777613936 Training loss: 7.4019 Explore P: 0.0001\n",
            "Episode: 390 Total reward: 254.94474800856474 Training loss: 6.7821 Explore P: 0.0001\n",
            "Episode: 391 Total reward: 240.31674114277456 Training loss: 4.3403 Explore P: 0.0001\n",
            "Episode: 392 Total reward: 228.56902915102415 Training loss: 8.7947 Explore P: 0.0001\n",
            "Episode: 393 Total reward: -81.47330923646612 Training loss: 117.8935 Explore P: 0.0001\n",
            "Episode: 394 Total reward: 280.05401498064805 Training loss: 6.6618 Explore P: 0.0001\n",
            "Episode: 395 Total reward: 237.35865193971105 Training loss: 6.0862 Explore P: 0.0001\n",
            "Episode: 396 Total reward: 181.77316760088146 Training loss: 1.0100 Explore P: 0.0001\n",
            "Episode: 397 Total reward: 275.14403607278814 Training loss: 1.8914 Explore P: 0.0001\n",
            "Episode: 398 Total reward: 249.16864386882315 Training loss: 1.8278 Explore P: 0.0001\n",
            "Episode: 399 Total reward: 276.9172983110097 Training loss: 4.6185 Explore P: 0.0001\n"
          ]
        }
      ],
      "source": [
        "total_reward_list = []  # Returns for the individual episodes\n",
        "\n",
        "optimizer = torch.optim.AdamW(mainQN.parameters(), lr=learning_rate) # AdamW uses weight decay by default\n",
        "loss_fn = torch.nn.MSELoss()\n",
        "\n",
        "for ep in range(train_episodes):\n",
        "    total_reward = 0  # Return / accumulated rewards\n",
        "    state = env.reset()[0]  # Reset and get initial state\n",
        "    while True:\n",
        "        # Explore or exploit\n",
        "        explore_p = explore_stop + (explore_start - explore_stop)*np.exp(-decay_rate*ep)\n",
        "        if explore_p > np.random.rand():\n",
        "            # Pick a random action\n",
        "            action = env.action_space.sample()\n",
        "        else:\n",
        "            # Get action from Q-network\n",
        "            state_tensor = torch.from_numpy(np.resize(state, (1, state_size)).astype(np.float32))\n",
        "            Qs = mainQN(state_tensor)\n",
        "            action = torch.argmax(Qs).item()\n",
        "\n",
        "        # Take action, get new state and reward\n",
        "        next_state, reward, terminated, truncated, _ = env.step(action)\n",
        "\n",
        "        total_reward += reward  # Return / accumulated rewards\n",
        "\n",
        "        if terminated or truncated:\n",
        "            # Episode ends because of failure, so no next state\n",
        "            next_state = np.zeros(state.shape)\n",
        "\n",
        "            print('Episode: {}'.format(ep), 'Total reward: {}'.format(total_reward),\n",
        "                  'Training loss: {:.4f}'.format(loss), 'Explore P: {:.4f}'.format(explore_p))\n",
        "            total_reward_list.append((ep, total_reward))\n",
        "\n",
        "            # Add experience to memory\n",
        "            memory.add((state, action, reward, next_state))\n",
        "            break; # End of episode\n",
        "        else:\n",
        "            # Add experience to memory\n",
        "            memory.add((state, action, reward, next_state))\n",
        "            state = next_state\n",
        "\n",
        "        # Sample mini-batch from memory\n",
        "        batch = memory.sample(batch_size)\n",
        "        next_states_np = np.array([each[3] for each in batch], dtype=np.float32)\n",
        "        next_states = torch.as_tensor(next_states_np)  # as_tensor does not copy the data\n",
        "        rewards     = torch.as_tensor(np.array([each[2] for each in batch], dtype=np.float32))\n",
        "        states      = torch.as_tensor(np.array([each[0] for each in batch], dtype=np.float32))\n",
        "        actions     = torch.as_tensor(np.array([each[1] for each in batch]))\n",
        "\n",
        "        # Compute Q values for all actions in the new state\n",
        "        # target_Qs = mainQN(next_states) # before\n",
        "        target_Qs = targetQN(next_states)\n",
        "\n",
        "        # Set target_Qs to 0 for states where episode ended because of failure\n",
        "        episode_ends = (next_states_np == np.zeros(states[0].shape)).all(axis=1)\n",
        "        target_Qs[episode_ends] = torch.zeros(action_size)\n",
        "\n",
        "        # Compute targets\n",
        "        y = rewards + gamma * torch.max(target_Qs, dim=1)[0].detach()\n",
        "\n",
        "        # Network learning starts here\n",
        "        optimizer.zero_grad()\n",
        "\n",
        "        # Compute the Q values of the actions taken\n",
        "        main_Qs = mainQN(states)  # Q values for all action in each state\n",
        "        Q = torch.gather(main_Qs, 1, actions.unsqueeze(-1)).squeeze()  # Only the Q values for the actions taken\n",
        "\n",
        "        # Gradient-based update\n",
        "        loss = loss_fn(Q, y)\n",
        "        loss.backward()\n",
        "        optimizer.step()\n",
        "\n",
        "\n",
        "        with torch.no_grad():\n",
        "          for target_param, main_param in zip(targetQN.parameters(), mainQN.parameters()):\n",
        "              target_param.data.mul_(1 - tau)\n",
        "              target_param.data.add_(tau * main_param.data)"
      ]
    },
    {
      "cell_type": "markdown",
      "metadata": {
        "id": "C23_Q-5MdkBz"
      },
      "source": [
        "Save policy network:"
      ]
    },
    {
      "cell_type": "code",
      "execution_count": 25,
      "metadata": {
        "id": "_hNFSN3edkBz"
      },
      "outputs": [],
      "source": [
        "torch.save(mainQN, log_path)"
      ]
    },
    {
      "cell_type": "markdown",
      "metadata": {
        "id": "XeZDI2lCdkBz"
      },
      "source": [
        "Plot learning process:"
      ]
    },
    {
      "cell_type": "code",
      "execution_count": 26,
      "metadata": {
        "colab": {
          "base_uri": "https://localhost:8080/",
          "height": 449
        },
        "id": "jOEEpaLKdkBz",
        "outputId": "1aeb927c-4e6b-4648-d6bf-e5eb74a6334f"
      },
      "outputs": [
        {
          "output_type": "display_data",
          "data": {
            "text/plain": [
              "<Figure size 640x480 with 1 Axes>"
            ],
            "image/png": "[encoded data removed]"
          },
          "metadata": {}
        }
      ],
      "source": [
        "# Moving average for smoothing plot\n",
        "def running_mean(x, N):\n",
        "    cumsum = np.cumsum(np.insert(x, 0, x[0]*np.ones(N)))\n",
        "    return (cumsum[N:] - cumsum[:-N]) / N\n",
        "\n",
        "eps, rews = np.array(total_reward_list).T\n",
        "smoothed_rews = running_mean(rews, 10)\n",
        "\n",
        "plt.plot(eps, smoothed_rews)\n",
        "plt.grid()\n",
        "plt.plot(eps, rews, color='grey', alpha=0.3)\n",
        "plt.xlabel('Episode')\n",
        "plt.ylabel('Accumulated Reward')\n",
        "plt.savefig('deepQ_with_target_network_after_potential_fix.pdf')"
      ]
    },
    {
      "cell_type": "markdown",
      "metadata": {
        "id": "A5dy24WWdkBz"
      },
      "source": [
        "Evaluate stored policy:"
      ]
    },
    {
      "cell_type": "code",
      "execution_count": 23,
      "metadata": {
        "colab": {
          "base_uri": "https://localhost:8080/"
        },
        "id": "6krxncakdkBz",
        "outputId": "3de40d4c-5833-4473-94a7-a3757383bdf2"
      },
      "outputs": [
        {
          "output_type": "stream",
          "name": "stderr",
          "text": [
            "<ipython-input-23-3934a7995443>:1: FutureWarning: You are using `torch.load` with `weights_only=False` (the current default value), which uses the default pickle module implicitly. It is possible to construct malicious pickle data which will execute arbitrary code during unpickling (See https://github.com/pytorch/pytorch/blob/main/SECURITY.md#untrusted-models for more details). In a future release, the default value for `weights_only` will be flipped to `True`. This limits the functions that could be executed during unpickling. Arbitrary objects will no longer be allowed to be loaded via this mode unless they are explicitly allowlisted by the user via `torch.serialization.add_safe_globals`. We recommend you start setting `weights_only=True` for any use case where you don't have full control of the loaded file. Please open an issue on GitHub for any issues related to this experimental feature.\n",
            "  testQN = torch.load(log_path)\n"
          ]
        },
        {
          "output_type": "stream",
          "name": "stdout",
          "text": [
            "initial state: [-0.00389586  1.401407   -0.3946263  -0.42280987  0.00452113  0.0893887\n",
            "  0.          0.        ]\n",
            "reward: -30.662108638905465\n",
            "initial state: [ 0.00675611  1.4211853   0.68430114  0.45621032 -0.00782182 -0.15500423\n",
            "  0.          0.        ]\n",
            "reward: -55.1395551613012\n",
            "initial state: [-0.0020854   1.4144167  -0.21124128  0.1554012   0.00242322  0.04784935\n",
            "  0.          0.        ]\n",
            "reward: 149.91861216854335\n",
            "initial state: [ 2.2783279e-04  1.4040444e+00  2.3055632e-02 -3.0559009e-01\n",
            " -2.5713962e-04 -5.2224435e-03  0.0000000e+00  0.0000000e+00]\n",
            "reward: 97.77711956381799\n",
            "initial state: [ 0.00409117  1.4206938   0.41438168  0.43438163 -0.0047339  -0.09386354\n",
            "  0.          0.        ]\n",
            "reward: 248.75319332423848\n"
          ]
        }
      ],
      "source": [
        "testQN = torch.load(log_path)\n",
        "\n",
        "test_episodes = 5\n",
        "\n",
        "for ep in range(test_episodes):\n",
        "    state = env_visual.reset()[0]\n",
        "    print(\"initial state:\", state)\n",
        "    R = 0\n",
        "    while True:\n",
        "        # Get action from Q-network\n",
        "        # Hm, the following line could perhaps be more elegant ...\n",
        "        state_tensor = torch.from_numpy(np.resize(state, (1, state_size)).astype(np.float32))\n",
        "        Qs = testQN(state_tensor)\n",
        "        action = torch.argmax(Qs).item()\n",
        "\n",
        "        # Take action, get new state and reward\n",
        "        next_state, reward, terminated, truncated, _ = env_visual.step(action)\n",
        "        R += reward\n",
        "\n",
        "        if terminated or truncated:\n",
        "            print(\"reward:\", R)\n",
        "            break\n",
        "        else:\n",
        "            state = next_state\n",
        "\n",
        "############# ############# ############# ############# ############# #############\n",
        "#TODO: Write the evaluation method where you start in 100 different initial states (x,y points) and calcualte the average reward for the 1-network and 2-network models\n",
        "############# ############# ############# ############# ############# #############"
      ]
    }
  ],
  "metadata": {
    "kernelspec": {
      "display_name": "Python 3",
      "name": "python3"
    },
    "language_info": {
      "codemirror_mode": {
        "name": "ipython",
        "version": 3
      },
      "file_extension": ".py",
      "mimetype": "text/x-python",
      "name": "python",
      "nbconvert_exporter": "python",
      "pygments_lexer": "ipython3",
      "version": "3.12.8"
    },
    "colab": {
      "provenance": [],
      "machine_shape": "hm",
      "gpuType": "A100",
      "include_colab_link": true
    },
    "accelerator": "GPU",
    "widgets": {
      "application/vnd.jupyter.widget-state+json": {
        "40ff917ed4be4acc866164d5d6d22901": {
          "model_module": "@jupyter-widgets/controls",
          "model_name": "HBoxModel",
          "model_module_version": "1.5.0",
          "state": {
            "_dom_classes": [],
            "_model_module": "@jupyter-widgets/controls",
            "_model_module_version": "1.5.0",
            "_model_name": "HBoxModel",
            "_view_count": null,
            "_view_module": "@jupyter-widgets/controls",
            "_view_module_version": "1.5.0",
            "_view_name": "HBoxView",
            "box_style": "",
            "children": [
              "IPY_MODEL_2c97bba7c55a48debb9bf3b3c642dc54",
              "IPY_MODEL_bbd5b9ef39fb41139d999ce6c3d4173f",
              "IPY_MODEL_340ced08967b4c8886309a1a100de2f6"
            ],
            "layout": "IPY_MODEL_8e25fa514bf342de9ea0f42676b53007"
          }
        },
        "2c97bba7c55a48debb9bf3b3c642dc54": {
          "model_module": "@jupyter-widgets/controls",
          "model_name": "HTMLModel",
          "model_module_version": "1.5.0",
          "state": {
            "_dom_classes": [],
            "_model_module": "@jupyter-widgets/controls",
            "_model_module_version": "1.5.0",
            "_model_name": "HTMLModel",
            "_view_count": null,
            "_view_module": "@jupyter-widgets/controls",
            "_view_module_version": "1.5.0",
            "_view_name": "HTMLView",
            "description": "",
            "description_tooltip": null,
            "layout": "IPY_MODEL_31fdf59115d048559ddf61c7be330718",
            "placeholder": "​",
            "style": "IPY_MODEL_a8164bfc411846cdaf4c3bbf8e99ed56",
            "value": "100%"
          }
        },
        "bbd5b9ef39fb41139d999ce6c3d4173f": {
          "model_module": "@jupyter-widgets/controls",
          "model_name": "FloatProgressModel",
          "model_module_version": "1.5.0",
          "state": {
            "_dom_classes": [],
            "_model_module": "@jupyter-widgets/controls",
            "_model_module_version": "1.5.0",
            "_model_name": "FloatProgressModel",
            "_view_count": null,
            "_view_module": "@jupyter-widgets/controls",
            "_view_module_version": "1.5.0",
            "_view_name": "ProgressView",
            "bar_style": "success",
            "description": "",
            "description_tooltip": null,
            "layout": "IPY_MODEL_ccf673f20c9c4adf8d58e44dcc1fbc32",
            "max": 128,
            "min": 0,
            "orientation": "horizontal",
            "style": "IPY_MODEL_b8d72177174c4aec912cdde403acbf97",
            "value": 128
          }
        },
        "340ced08967b4c8886309a1a100de2f6": {
          "model_module": "@jupyter-widgets/controls",
          "model_name": "HTMLModel",
          "model_module_version": "1.5.0",
          "state": {
            "_dom_classes": [],
            "_model_module": "@jupyter-widgets/controls",
            "_model_module_version": "1.5.0",
            "_model_name": "HTMLModel",
            "_view_count": null,
            "_view_module": "@jupyter-widgets/controls",
            "_view_module_version": "1.5.0",
            "_view_name": "HTMLView",
            "description": "",
            "description_tooltip": null,
            "layout": "IPY_MODEL_01bc6e7a847148718fef9e7697d91cbc",
            "placeholder": "​",
            "style": "IPY_MODEL_2466e585061c45399073375392935839",
            "value": " 128/128 [00:00&lt;00:00, 7669.91it/s]"
          }
        },
        "8e25fa514bf342de9ea0f42676b53007": {
          "model_module": "@jupyter-widgets/base",
          "model_name": "LayoutModel",
          "model_module_version": "1.2.0",
          "state": {
            "_model_module": "@jupyter-widgets/base",
            "_model_module_version": "1.2.0",
            "_model_name": "LayoutModel",
            "_view_count": null,
            "_view_module": "@jupyter-widgets/base",
            "_view_module_version": "1.2.0",
            "_view_name": "LayoutView",
            "align_content": null,
            "align_items": null,
            "align_self": null,
            "border": null,
            "bottom": null,
            "display": null,
            "flex": null,
            "flex_flow": null,
            "grid_area": null,
            "grid_auto_columns": null,
            "grid_auto_flow": null,
            "grid_auto_rows": null,
            "grid_column": null,
            "grid_gap": null,
            "grid_row": null,
            "grid_template_areas": null,
            "grid_template_columns": null,
            "grid_template_rows": null,
            "height": null,
            "justify_content": null,
            "justify_items": null,
            "left": null,
            "margin": null,
            "max_height": null,
            "max_width": null,
            "min_height": null,
            "min_width": null,
            "object_fit": null,
            "object_position": null,
            "order": null,
            "overflow": null,
            "overflow_x": null,
            "overflow_y": null,
            "padding": null,
            "right": null,
            "top": null,
            "visibility": null,
            "width": null
          }
        },
        "31fdf59115d048559ddf61c7be330718": {
          "model_module": "@jupyter-widgets/base",
          "model_name": "LayoutModel",
          "model_module_version": "1.2.0",
          "state": {
            "_model_module": "@jupyter-widgets/base",
            "_model_module_version": "1.2.0",
            "_model_name": "LayoutModel",
            "_view_count": null,
            "_view_module": "@jupyter-widgets/base",
            "_view_module_version": "1.2.0",
            "_view_name": "LayoutView",
            "align_content": null,
            "align_items": null,
            "align_self": null,
            "border": null,
            "bottom": null,
            "display": null,
            "flex": null,
            "flex_flow": null,
            "grid_area": null,
            "grid_auto_columns": null,
            "grid_auto_flow": null,
            "grid_auto_rows": null,
            "grid_column": null,
            "grid_gap": null,
            "grid_row": null,
            "grid_template_areas": null,
            "grid_template_columns": null,
            "grid_template_rows": null,
            "height": null,
            "justify_content": null,
            "justify_items": null,
            "left": null,
            "margin": null,
            "max_height": null,
            "max_width": null,
            "min_height": null,
            "min_width": null,
            "object_fit": null,
            "object_position": null,
            "order": null,
            "overflow": null,
            "overflow_x": null,
            "overflow_y": null,
            "padding": null,
            "right": null,
            "top": null,
            "visibility": null,
            "width": null
          }
        },
        "a8164bfc411846cdaf4c3bbf8e99ed56": {
          "model_module": "@jupyter-widgets/controls",
          "model_name": "DescriptionStyleModel",
          "model_module_version": "1.5.0",
          "state": {
            "_model_module": "@jupyter-widgets/controls",
            "_model_module_version": "1.5.0",
            "_model_name": "DescriptionStyleModel",
            "_view_count": null,
            "_view_module": "@jupyter-widgets/base",
            "_view_module_version": "1.2.0",
            "_view_name": "StyleView",
            "description_width": ""
          }
        },
        "ccf673f20c9c4adf8d58e44dcc1fbc32": {
          "model_module": "@jupyter-widgets/base",
          "model_name": "LayoutModel",
          "model_module_version": "1.2.0",
          "state": {
            "_model_module": "@jupyter-widgets/base",
            "_model_module_version": "1.2.0",
            "_model_name": "LayoutModel",
            "_view_count": null,
            "_view_module": "@jupyter-widgets/base",
            "_view_module_version": "1.2.0",
            "_view_name": "LayoutView",
            "align_content": null,
            "align_items": null,
            "align_self": null,
            "border": null,
            "bottom": null,
            "display": null,
            "flex": null,
            "flex_flow": null,
            "grid_area": null,
            "grid_auto_columns": null,
            "grid_auto_flow": null,
            "grid_auto_rows": null,
            "grid_column": null,
            "grid_gap": null,
            "grid_row": null,
            "grid_template_areas": null,
            "grid_template_columns": null,
            "grid_template_rows": null,
            "height": null,
            "justify_content": null,
            "justify_items": null,
            "left": null,
            "margin": null,
            "max_height": null,
            "max_width": null,
            "min_height": null,
            "min_width": null,
            "object_fit": null,
            "object_position": null,
            "order": null,
            "overflow": null,
            "overflow_x": null,
            "overflow_y": null,
            "padding": null,
            "right": null,
            "top": null,
            "visibility": null,
            "width": null
          }
        },
        "b8d72177174c4aec912cdde403acbf97": {
          "model_module": "@jupyter-widgets/controls",
          "model_name": "ProgressStyleModel",
          "model_module_version": "1.5.0",
          "state": {
            "_model_module": "@jupyter-widgets/controls",
            "_model_module_version": "1.5.0",
            "_model_name": "ProgressStyleModel",
            "_view_count": null,
            "_view_module": "@jupyter-widgets/base",
            "_view_module_version": "1.2.0",
            "_view_name": "StyleView",
            "bar_color": null,
            "description_width": ""
          }
        },
        "01bc6e7a847148718fef9e7697d91cbc": {
          "model_module": "@jupyter-widgets/base",
          "model_name": "LayoutModel",
          "model_module_version": "1.2.0",
          "state": {
            "_model_module": "@jupyter-widgets/base",
            "_model_module_version": "1.2.0",
            "_model_name": "LayoutModel",
            "_view_count": null,
            "_view_module": "@jupyter-widgets/base",
            "_view_module_version": "1.2.0",
            "_view_name": "LayoutView",
            "align_content": null,
            "align_items": null,
            "align_self": null,
            "border": null,
            "bottom": null,
            "display": null,
            "flex": null,
            "flex_flow": null,
            "grid_area": null,
            "grid_auto_columns": null,
            "grid_auto_flow": null,
            "grid_auto_rows": null,
            "grid_column": null,
            "grid_gap": null,
            "grid_row": null,
            "grid_template_areas": null,
            "grid_template_columns": null,
            "grid_template_rows": null,
            "height": null,
            "justify_content": null,
            "justify_items": null,
            "left": null,
            "margin": null,
            "max_height": null,
            "max_width": null,
            "min_height": null,
            "min_width": null,
            "object_fit": null,
            "object_position": null,
            "order": null,
            "overflow": null,
            "overflow_x": null,
            "overflow_y": null,
            "padding": null,
            "right": null,
            "top": null,
            "visibility": null,
            "width": null
          }
        },
        "2466e585061c45399073375392935839": {
          "model_module": "@jupyter-widgets/controls",
          "model_name": "DescriptionStyleModel",
          "model_module_version": "1.5.0",
          "state": {
            "_model_module": "@jupyter-widgets/controls",
            "_model_module_version": "1.5.0",
            "_model_name": "DescriptionStyleModel",
            "_view_count": null,
            "_view_module": "@jupyter-widgets/base",
            "_view_module_version": "1.2.0",
            "_view_name": "StyleView",
            "description_width": ""
          }
        }
      }
    }
  },
  "nbformat": 4,
  "nbformat_minor": 0
}