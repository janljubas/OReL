{
  "cells": [
    {
      "cell_type": "markdown",
      "metadata": {
        "id": "view-in-github",
        "colab_type": "text"
      },
      "source": [
        "<a href=\"https://colab.research.google.com/github/janljubas/OReL/blob/main/HA5/LunarLanderDQN2025Assignment.ipynb\" target=\"_parent\"><img src=\"https://colab.research.google.com/assets/colab-badge.svg\" alt=\"Open In Colab\"/></a>"
      ]
    },
    {
      "cell_type": "markdown",
      "metadata": {
        "id": "NkTNRzlEdkBs"
      },
      "source": [
        "## Lunar lander with DQN-style neural function approximator using PyTorch\n",
        "### Christian Igel, 2025\n",
        "\n",
        "If you have suggestions for improvement, [let me know](mailto:igel@diku.dk).\n",
        "\n",
        "I took inspiration from https://github.com/udacity/deep-learning/blob/master/reinforcement/Q-learning-cart.ipynb.\n",
        "\n",
        "Imports:"
      ]
    },
    {
      "cell_type": "code",
      "execution_count": 1,
      "metadata": {
        "id": "tQkEOsAVdkBu"
      },
      "outputs": [],
      "source": [
        "import gymnasium as gym\n",
        "\n",
        "from tqdm.notebook import tqdm  # Progress bar\n",
        "\n",
        "import torch\n",
        "import torch.nn as nn\n",
        "import torch.nn.functional as F\n",
        "\n",
        "import numpy as np\n",
        "import matplotlib.pyplot as plt\n",
        "%matplotlib inline"
      ]
    },
    {
      "cell_type": "code",
      "source": [
        "!pip install swig\n",
        "!pip install \"gymnasium[box2d]\""
      ],
      "metadata": {
        "collapsed": true,
        "id": "SPor6fNbdzhk",
        "outputId": "7b6ec525-dbd0-41f8-ce4b-d5f8b40d34d5",
        "colab": {
          "base_uri": "https://localhost:8080/"
        }
      },
      "execution_count": 3,
      "outputs": [
        {
          "output_type": "stream",
          "name": "stdout",
          "text": [
            "Collecting swig\n",
            "  Downloading swig-4.3.0-py2.py3-none-manylinux_2_5_x86_64.manylinux1_x86_64.whl.metadata (3.5 kB)\n",
            "Downloading swig-4.3.0-py2.py3-none-manylinux_2_5_x86_64.manylinux1_x86_64.whl (1.9 MB)\n",
            "\u001b[?25l   \u001b[90m━━━━━━━━━━━━━━━━━━━━━━━━━━━━━━━━━━━━━━━━\u001b[0m \u001b[32m0.0/1.9 MB\u001b[0m \u001b[31m?\u001b[0m eta \u001b[36m-:--:--\u001b[0m\r\u001b[2K   \u001b[91m━━━\u001b[0m\u001b[90m╺\u001b[0m\u001b[90m━━━━━━━━━━━━━━━━━━━━━━━━━━━━━━━━━━━━\u001b[0m \u001b[32m0.2/1.9 MB\u001b[0m \u001b[31m4.7 MB/s\u001b[0m eta \u001b[36m0:00:01\u001b[0m\r\u001b[2K   \u001b[91m━━━━━━━━━━━━━━━━━━━━━━━━━\u001b[0m\u001b[90m╺\u001b[0m\u001b[90m━━━━━━━━━━━━━━\u001b[0m \u001b[32m1.2/1.9 MB\u001b[0m \u001b[31m18.0 MB/s\u001b[0m eta \u001b[36m0:00:01\u001b[0m\r\u001b[2K   \u001b[90m━━━━━━━━━━━━━━━━━━━━━━━━━━━━━━━━━━━━━━━━\u001b[0m \u001b[32m1.9/1.9 MB\u001b[0m \u001b[31m21.0 MB/s\u001b[0m eta \u001b[36m0:00:00\u001b[0m\n",
            "\u001b[?25hInstalling collected packages: swig\n",
            "Successfully installed swig-4.3.0\n",
            "Requirement already satisfied: gymnasium[box2d] in /usr/local/lib/python3.11/dist-packages (1.1.0)\n",
            "Requirement already satisfied: numpy>=1.21.0 in /usr/local/lib/python3.11/dist-packages (from gymnasium[box2d]) (1.26.4)\n",
            "Requirement already satisfied: cloudpickle>=1.2.0 in /usr/local/lib/python3.11/dist-packages (from gymnasium[box2d]) (3.1.1)\n",
            "Requirement already satisfied: typing-extensions>=4.3.0 in /usr/local/lib/python3.11/dist-packages (from gymnasium[box2d]) (4.12.2)\n",
            "Requirement already satisfied: farama-notifications>=0.0.1 in /usr/local/lib/python3.11/dist-packages (from gymnasium[box2d]) (0.0.4)\n",
            "Collecting box2d-py==2.3.5 (from gymnasium[box2d])\n",
            "  Downloading box2d-py-2.3.5.tar.gz (374 kB)\n",
            "\u001b[2K     \u001b[90m━━━━━━━━━━━━━━━━━━━━━━━━━━━━━━━━━━━━━━━━\u001b[0m \u001b[32m374.4/374.4 kB\u001b[0m \u001b[31m6.9 MB/s\u001b[0m eta \u001b[36m0:00:00\u001b[0m\n",
            "\u001b[?25h  Preparing metadata (setup.py) ... \u001b[?25l\u001b[?25hdone\n",
            "Requirement already satisfied: pygame>=2.1.3 in /usr/local/lib/python3.11/dist-packages (from gymnasium[box2d]) (2.6.1)\n",
            "Requirement already satisfied: swig==4.* in /usr/local/lib/python3.11/dist-packages (from gymnasium[box2d]) (4.3.0)\n",
            "Building wheels for collected packages: box2d-py\n",
            "  Building wheel for box2d-py (setup.py) ... \u001b[?25l\u001b[?25hdone\n",
            "  Created wheel for box2d-py: filename=box2d_py-2.3.5-cp311-cp311-linux_x86_64.whl size=2379495 sha256=70e05f6e24b145da130a365a876f71cafb001349976b4918a562ea058e8d4205\n",
            "  Stored in directory: /root/.cache/pip/wheels/ab/f1/0c/d56f4a2bdd12bae0a0693ec33f2f0daadb5eb9753c78fa5308\n",
            "Successfully built box2d-py\n",
            "Installing collected packages: box2d-py\n",
            "Successfully installed box2d-py-2.3.5\n"
          ]
        }
      ]
    },
    {
      "cell_type": "markdown",
      "metadata": {
        "id": "nmaBh3BcdkBv"
      },
      "source": [
        "Create the game environment (you need the `gym` package):"
      ]
    },
    {
      "cell_type": "code",
      "execution_count": 4,
      "metadata": {
        "id": "OZaetDhEdkBw"
      },
      "outputs": [],
      "source": [
        "env_visual = gym.make('LunarLander-v3', render_mode=\"human\")\n",
        "action_size = 4\n",
        "state_size = 8"
      ]
    },
    {
      "cell_type": "markdown",
      "metadata": {
        "id": "45a6rVrPdkBw"
      },
      "source": [
        "Let's just test the environment first:"
      ]
    },
    {
      "cell_type": "code",
      "execution_count": 5,
      "metadata": {
        "id": "kNq0s82NdkBw"
      },
      "outputs": [],
      "source": [
        "test_episodes = 0\n",
        "for _ in range(test_episodes):\n",
        "    R = 0\n",
        "    state, _ = env_visual.reset()  # Environment starts in a random state, cart and pole are moving\n",
        "    print(\"initial state:\", state)\n",
        "    while True:  # Environment sets \"truncated\" to true after 500 steps\n",
        "        env_visual.render()\n",
        "        state, reward, terminated, truncated, _ = env_visual.step(env_visual.action_space.sample()) #  Take a random action\n",
        "        R += reward  # Accumulate reward\n",
        "        if terminated or truncated:\n",
        "            print(\"return: \", R)\n",
        "            env_visual.reset()\n",
        "            break"
      ]
    },
    {
      "cell_type": "code",
      "execution_count": null,
      "metadata": {
        "id": "4E5vx_4RdkBx"
      },
      "outputs": [],
      "source": [
        "#env.close()  # Closes the visualization window"
      ]
    },
    {
      "cell_type": "markdown",
      "metadata": {
        "id": "V_k9xwmgdkBx"
      },
      "source": [
        "Define *Q* network architecture:"
      ]
    },
    {
      "cell_type": "code",
      "execution_count": 6,
      "metadata": {
        "id": "XV1pneLGdkBx"
      },
      "outputs": [],
      "source": [
        "class QNetwork(nn.Module):\n",
        "    def __init__(self, state_size=8, action_size=4, hidden_size=10, bias=True):\n",
        "        super(QNetwork, self).__init__()\n",
        "        self.fc1 = nn.Linear(state_size, hidden_size, bias)\n",
        "        self.fc2 = nn.Linear(hidden_size, hidden_size, bias)\n",
        "        self.output_layer = nn.Linear(hidden_size + state_size, action_size, bias)\n",
        "\n",
        "    def forward(self, x_input):\n",
        "        x = F.tanh(self.fc1(x_input))\n",
        "        x = F.tanh(self.fc2(x))\n",
        "        x = torch.cat((x_input, x), dim=1)\n",
        "        x = self.output_layer(x)\n",
        "        return x"
      ]
    },
    {
      "cell_type": "markdown",
      "metadata": {
        "id": "U-scToNudkBx"
      },
      "source": [
        "Data structure for storing experiences:"
      ]
    },
    {
      "cell_type": "code",
      "execution_count": 7,
      "metadata": {
        "id": "3weQS4DIdkBy"
      },
      "outputs": [],
      "source": [
        "from collections import deque\n",
        "class Memory():\n",
        "    def __init__(self, max_size = 1000):\n",
        "        self.buffer = deque(maxlen=max_size)\n",
        "\n",
        "    def add(self, experience):\n",
        "        self.buffer.append(experience)\n",
        "\n",
        "    def sample(self, batch_size):\n",
        "        idx = np.random.choice(np.arange(len(self.buffer)),\n",
        "                               size=batch_size,\n",
        "                               replace=False)\n",
        "        return [self.buffer[ii] for ii in idx]"
      ]
    },
    {
      "cell_type": "markdown",
      "metadata": {
        "id": "0YOT-xp0dkBy"
      },
      "source": [
        "Define basic constants:"
      ]
    },
    {
      "cell_type": "code",
      "execution_count": 8,
      "metadata": {
        "id": "axGnVkFDdkBy"
      },
      "outputs": [],
      "source": [
        "train_episodes = 400           # Max number of episodes to learn from\n",
        "gamma = 0.99                   # Future reward discount\n",
        "learning_rate = 0.001          # Q-network learning rate\n",
        "tau = .01                      # learning rate for target network\n",
        "\n",
        "# Exploration parameters\n",
        "explore_start = 1.0            # Exploration probability at start\n",
        "explore_stop = 0.0001          # Minimum exploration probability\n",
        "decay_rate = 0.05              # Exponential decay rate for exploration prob\n",
        "\n",
        "# Network parameters\n",
        "hidden_size = 64               # Number of units in each Q-network hidden layer\n",
        "\n",
        "# Memory parameters\n",
        "memory_size = 10000            # Memory capacity\n",
        "batch_size = 128               # Experience mini-batch size\n",
        "pretrain_length = batch_size   # Number experiences to pretrain the memory\n",
        "\n",
        "log_path = \"/tmp/deep_Q_network\""
      ]
    },
    {
      "cell_type": "markdown",
      "metadata": {
        "id": "vEG7eE-HdkBy"
      },
      "source": [
        "Instantiate network:"
      ]
    },
    {
      "cell_type": "code",
      "execution_count": 9,
      "metadata": {
        "id": "xZJn12QvdkBy",
        "outputId": "ffa27763-0bbd-46be-f9af-db9d52990706",
        "colab": {
          "base_uri": "https://localhost:8080/"
        }
      },
      "outputs": [
        {
          "output_type": "stream",
          "name": "stdout",
          "text": [
            "QNetwork(\n",
            "  (fc1): Linear(in_features=8, out_features=64, bias=True)\n",
            "  (fc2): Linear(in_features=64, out_features=64, bias=True)\n",
            "  (output_layer): Linear(in_features=72, out_features=4, bias=True)\n",
            ")\n"
          ]
        }
      ],
      "source": [
        "mainQN = QNetwork(hidden_size=hidden_size)\n",
        "print(mainQN)"
      ]
    },
    {
      "cell_type": "markdown",
      "metadata": {
        "id": "gmHBQbkGdkBy"
      },
      "source": [
        "Initialize the experience memory:"
      ]
    },
    {
      "cell_type": "code",
      "execution_count": 10,
      "metadata": {
        "id": "-m0T2zN6dkBy",
        "outputId": "91d13327-996d-4c7b-da42-6371e43f34aa",
        "colab": {
          "base_uri": "https://localhost:8080/",
          "height": 49,
          "referenced_widgets": [
            "68aa8c4717914595825062ca1bafe2f6",
            "ec6f1cd5c15d4e73a68cc1d2386ccdcb",
            "9e0a154c62714c5c88072ef5771e9f4b",
            "de0e90ee507444fe8be57933b249ade5",
            "99f92aa39f46459d964cc4b315cb6572",
            "4eef3db30b2648698bea58f091fabe94",
            "e137794ba4b7442a9f01552c2f6cc8da",
            "01aab78b922b49b49f8f505220365140",
            "3b0ef21490474868bec4affee26f9263",
            "b2798bc964f54540b749b96631bfc117",
            "461422542d6145aea9225f4082a32593"
          ]
        }
      },
      "outputs": [
        {
          "output_type": "display_data",
          "data": {
            "text/plain": [
              "  0%|          | 0/128 [00:00<?, ?it/s]"
            ],
            "application/vnd.jupyter.widget-view+json": {
              "version_major": 2,
              "version_minor": 0,
              "model_id": "68aa8c4717914595825062ca1bafe2f6"
            }
          },
          "metadata": {}
        }
      ],
      "source": [
        "# Initialize the simulation\n",
        "env = gym.make('LunarLander-v3')\n",
        "state = env.reset()[0]\n",
        "\n",
        "memory = Memory(max_size=memory_size)\n",
        "\n",
        "# Make a bunch of random actions and store the experiences\n",
        "for _ in tqdm(range(pretrain_length)):\n",
        "    # Make a random action\n",
        "    action = env.action_space.sample()\n",
        "    next_state, reward, terminated, truncated, _ = env.step(action)\n",
        "\n",
        "    if terminated or truncated:\n",
        "        # The simulation fails, so no next state\n",
        "        next_state = np.zeros(state.shape)\n",
        "        # Add experience to memory\n",
        "        memory.add((state, action, reward, next_state))\n",
        "\n",
        "        # Start new episode\n",
        "        env.reset()\n",
        "        # Take one random step to get the pole and cart moving\n",
        "        state, reward, terminated, truncated, _ = env.step(env.action_space.sample())\n",
        "    else:\n",
        "        # Add experience to memory\n",
        "        memory.add((state, action, reward, next_state))\n",
        "        state = next_state"
      ]
    },
    {
      "cell_type": "markdown",
      "metadata": {
        "id": "QTXAO60edkBz"
      },
      "source": [
        "Now train with experiences:"
      ]
    },
    {
      "cell_type": "code",
      "execution_count": 12,
      "metadata": {
        "id": "nXUzAUGVdkBz",
        "outputId": "be5c8c7c-77e6-4891-d3b5-e4cc04ae08f7",
        "colab": {
          "base_uri": "https://localhost:8080/"
        }
      },
      "outputs": [
        {
          "output_type": "stream",
          "name": "stdout",
          "text": [
            "Episode: 0 Total reward: -129.40115955975818 Training loss: 71.0340 Explore P: 1.0000\n",
            "Episode: 1 Total reward: -131.44642223933715 Training loss: 4.8685 Explore P: 0.9512\n",
            "Episode: 2 Total reward: -165.29388944483674 Training loss: 60.9477 Explore P: 0.9048\n",
            "Episode: 3 Total reward: -139.66991002670716 Training loss: 50.3710 Explore P: 0.8607\n",
            "Episode: 4 Total reward: -116.49691339820453 Training loss: 2.9189 Explore P: 0.8187\n",
            "Episode: 5 Total reward: -263.9444100837336 Training loss: 11.6934 Explore P: 0.7788\n",
            "Episode: 6 Total reward: -79.49454864946743 Training loss: 13.7083 Explore P: 0.7408\n",
            "Episode: 7 Total reward: -384.0684114947823 Training loss: 6.0193 Explore P: 0.7047\n",
            "Episode: 8 Total reward: -135.98029278408737 Training loss: 42.9111 Explore P: 0.6704\n",
            "Episode: 9 Total reward: -406.06992458472354 Training loss: 42.6969 Explore P: 0.6377\n",
            "Episode: 10 Total reward: -190.40219457598 Training loss: 3.8801 Explore P: 0.6066\n",
            "Episode: 11 Total reward: -280.69115488592354 Training loss: 65.5161 Explore P: 0.5770\n",
            "Episode: 12 Total reward: -115.71090208406558 Training loss: 36.1680 Explore P: 0.5489\n",
            "Episode: 13 Total reward: -111.29300986506665 Training loss: 58.2901 Explore P: 0.5221\n",
            "Episode: 14 Total reward: -362.52098792834676 Training loss: 76.1191 Explore P: 0.4966\n",
            "Episode: 15 Total reward: -333.6917833357714 Training loss: 26.4419 Explore P: 0.4724\n",
            "Episode: 16 Total reward: -158.13291949880994 Training loss: 16.1623 Explore P: 0.4494\n",
            "Episode: 17 Total reward: -12.338513829002693 Training loss: 5.5324 Explore P: 0.4275\n",
            "Episode: 18 Total reward: -101.3717977825038 Training loss: 8.3148 Explore P: 0.4066\n",
            "Episode: 19 Total reward: -33.57337741312615 Training loss: 5.9399 Explore P: 0.3868\n",
            "Episode: 20 Total reward: -42.725650054449375 Training loss: 4.2746 Explore P: 0.3679\n",
            "Episode: 21 Total reward: -29.313954939333414 Training loss: 2.7502 Explore P: 0.3500\n",
            "Episode: 22 Total reward: -79.83167090206435 Training loss: 4.5307 Explore P: 0.3329\n",
            "Episode: 23 Total reward: -139.37220838158424 Training loss: 3.7560 Explore P: 0.3167\n",
            "Episode: 24 Total reward: -71.14857375536258 Training loss: 2.8532 Explore P: 0.3013\n",
            "Episode: 25 Total reward: 12.356907486036786 Training loss: 3.5274 Explore P: 0.2866\n",
            "Episode: 26 Total reward: -26.742388948176952 Training loss: 5.7859 Explore P: 0.2726\n",
            "Episode: 27 Total reward: -26.614009595871345 Training loss: 10.4062 Explore P: 0.2593\n",
            "Episode: 28 Total reward: -26.423143534724705 Training loss: 6.6447 Explore P: 0.2467\n",
            "Episode: 29 Total reward: -109.08555444564655 Training loss: 4.7440 Explore P: 0.2346\n",
            "Episode: 30 Total reward: 54.87662501115328 Training loss: 2.3676 Explore P: 0.2232\n",
            "Episode: 31 Total reward: 59.57301835520933 Training loss: 2.2760 Explore P: 0.2123\n",
            "Episode: 32 Total reward: -74.67432372732658 Training loss: 5.6453 Explore P: 0.2020\n",
            "Episode: 33 Total reward: -51.35913326645347 Training loss: 1.2670 Explore P: 0.1921\n",
            "Episode: 34 Total reward: -63.76519403282064 Training loss: 1.2637 Explore P: 0.1828\n",
            "Episode: 35 Total reward: -168.59824566534112 Training loss: 1.0448 Explore P: 0.1739\n",
            "Episode: 36 Total reward: 81.456717563434 Training loss: 1.7363 Explore P: 0.1654\n",
            "Episode: 37 Total reward: -117.97891597341486 Training loss: 3.7938 Explore P: 0.1573\n",
            "Episode: 38 Total reward: 80.09295561810295 Training loss: 1.3424 Explore P: 0.1497\n",
            "Episode: 39 Total reward: 16.785000497313185 Training loss: 3.3747 Explore P: 0.1424\n",
            "Episode: 40 Total reward: -56.13238295846733 Training loss: 1.0741 Explore P: 0.1354\n",
            "Episode: 41 Total reward: -47.537228723060366 Training loss: 5.3985 Explore P: 0.1288\n",
            "Episode: 42 Total reward: -138.28140174539666 Training loss: 66.8315 Explore P: 0.1225\n",
            "Episode: 43 Total reward: 84.12987084553919 Training loss: 2.1023 Explore P: 0.1166\n",
            "Episode: 44 Total reward: 130.18427632205314 Training loss: 1.3938 Explore P: 0.1109\n",
            "Episode: 45 Total reward: 141.8090263809724 Training loss: 1.1207 Explore P: 0.1055\n",
            "Episode: 46 Total reward: -31.079645930879522 Training loss: 2.1128 Explore P: 0.1003\n",
            "Episode: 47 Total reward: 134.45099749360386 Training loss: 1.9674 Explore P: 0.0955\n",
            "Episode: 48 Total reward: -37.22535563414039 Training loss: 2.0192 Explore P: 0.0908\n",
            "Episode: 49 Total reward: -49.90586629758822 Training loss: 2.3100 Explore P: 0.0864\n",
            "Episode: 50 Total reward: 195.5048153583689 Training loss: 4.8549 Explore P: 0.0822\n",
            "Episode: 51 Total reward: 166.2020005491758 Training loss: 2.3889 Explore P: 0.0782\n",
            "Episode: 52 Total reward: 171.78974871111774 Training loss: 1.6430 Explore P: 0.0744\n",
            "Episode: 53 Total reward: 40.35943462390536 Training loss: 7.1165 Explore P: 0.0707\n",
            "Episode: 54 Total reward: 175.94769531598115 Training loss: 1.4471 Explore P: 0.0673\n",
            "Episode: 55 Total reward: 50.366628228605364 Training loss: 2.0009 Explore P: 0.0640\n",
            "Episode: 56 Total reward: -260.9084794989417 Training loss: 2.2938 Explore P: 0.0609\n",
            "Episode: 57 Total reward: 239.6293689306344 Training loss: 6.4097 Explore P: 0.0579\n",
            "Episode: 58 Total reward: -23.555221858207954 Training loss: 1.9206 Explore P: 0.0551\n",
            "Episode: 59 Total reward: 161.50345699970674 Training loss: 1.9397 Explore P: 0.0524\n",
            "Episode: 60 Total reward: 179.2386340199954 Training loss: 2.0926 Explore P: 0.0499\n",
            "Episode: 61 Total reward: 229.27123266707667 Training loss: 5.5566 Explore P: 0.0475\n",
            "Episode: 62 Total reward: -108.16881322872965 Training loss: 3.1408 Explore P: 0.0451\n",
            "Episode: 63 Total reward: 149.44944011391763 Training loss: 5.2754 Explore P: 0.0429\n",
            "Episode: 64 Total reward: 148.85430555800045 Training loss: 3.1160 Explore P: 0.0409\n",
            "Episode: 65 Total reward: 246.8228192106769 Training loss: 3.0474 Explore P: 0.0389\n",
            "Episode: 66 Total reward: 204.17033566029448 Training loss: 1.7872 Explore P: 0.0370\n",
            "Episode: 67 Total reward: 203.81265291679438 Training loss: 4.0010 Explore P: 0.0352\n",
            "Episode: 68 Total reward: 258.7046811487902 Training loss: 6.2312 Explore P: 0.0335\n",
            "Episode: 69 Total reward: 256.9155786106901 Training loss: 13.1671 Explore P: 0.0318\n",
            "Episode: 70 Total reward: 219.5503009781695 Training loss: 4.1051 Explore P: 0.0303\n",
            "Episode: 71 Total reward: 242.47708582716965 Training loss: 2.2955 Explore P: 0.0288\n",
            "Episode: 72 Total reward: 235.3275730183041 Training loss: 3.0153 Explore P: 0.0274\n",
            "Episode: 73 Total reward: 141.55246257267612 Training loss: 3.5419 Explore P: 0.0261\n",
            "Episode: 74 Total reward: 158.55423014676504 Training loss: 1.8063 Explore P: 0.0248\n",
            "Episode: 75 Total reward: 218.80861698579386 Training loss: 8.1640 Explore P: 0.0236\n",
            "Episode: 76 Total reward: 269.0626901417853 Training loss: 2.8025 Explore P: 0.0225\n",
            "Episode: 77 Total reward: -34.47570695822067 Training loss: 20.4710 Explore P: 0.0214\n",
            "Episode: 78 Total reward: 163.8726781797467 Training loss: 2.0600 Explore P: 0.0203\n",
            "Episode: 79 Total reward: -60.76004378454385 Training loss: 8.1824 Explore P: 0.0194\n",
            "Episode: 80 Total reward: 245.9564866974016 Training loss: 12.4619 Explore P: 0.0184\n",
            "Episode: 81 Total reward: -16.100281846471532 Training loss: 8.3695 Explore P: 0.0175\n",
            "Episode: 82 Total reward: 187.43487505449218 Training loss: 11.6361 Explore P: 0.0167\n",
            "Episode: 83 Total reward: 202.60748857030273 Training loss: 2.1126 Explore P: 0.0159\n",
            "Episode: 84 Total reward: 226.17073461325754 Training loss: 116.0491 Explore P: 0.0151\n",
            "Episode: 85 Total reward: -5.582263041582507 Training loss: 89.1301 Explore P: 0.0144\n",
            "Episode: 86 Total reward: 167.09533650235545 Training loss: 19.4709 Explore P: 0.0137\n",
            "Episode: 87 Total reward: 237.9559764691805 Training loss: 5.2319 Explore P: 0.0130\n",
            "Episode: 88 Total reward: 263.6804778201754 Training loss: 11.8521 Explore P: 0.0124\n",
            "Episode: 89 Total reward: 199.6637378369112 Training loss: 1.0510 Explore P: 0.0118\n",
            "Episode: 90 Total reward: -1.9366700082059083 Training loss: 4.4422 Explore P: 0.0112\n",
            "Episode: 91 Total reward: 249.84804039990948 Training loss: 11.2341 Explore P: 0.0107\n",
            "Episode: 92 Total reward: 170.52048529611824 Training loss: 1.0588 Explore P: 0.0102\n",
            "Episode: 93 Total reward: 202.81346896488597 Training loss: 4.3892 Explore P: 0.0097\n",
            "Episode: 94 Total reward: 234.13777698662102 Training loss: 5.6019 Explore P: 0.0092\n",
            "Episode: 95 Total reward: 263.44761301132485 Training loss: 32.1472 Explore P: 0.0088\n",
            "Episode: 96 Total reward: 269.04637814455634 Training loss: 2.5460 Explore P: 0.0083\n",
            "Episode: 97 Total reward: 200.54326186927352 Training loss: 5.1372 Explore P: 0.0079\n",
            "Episode: 98 Total reward: 43.30734415861042 Training loss: 3.7029 Explore P: 0.0075\n",
            "Episode: 99 Total reward: 281.599606606939 Training loss: 2.3938 Explore P: 0.0072\n",
            "Episode: 100 Total reward: 236.762663934509 Training loss: 2.0371 Explore P: 0.0068\n",
            "Episode: 101 Total reward: 230.68364074908885 Training loss: 30.2858 Explore P: 0.0065\n",
            "Episode: 102 Total reward: 190.140560603187 Training loss: 21.5104 Explore P: 0.0062\n",
            "Episode: 103 Total reward: 269.21618866811764 Training loss: 7.4050 Explore P: 0.0059\n",
            "Episode: 104 Total reward: 206.05574483736936 Training loss: 1.2947 Explore P: 0.0056\n",
            "Episode: 105 Total reward: 236.48082428809695 Training loss: 0.9312 Explore P: 0.0053\n",
            "Episode: 106 Total reward: 252.29764011629422 Training loss: 21.8061 Explore P: 0.0051\n",
            "Episode: 107 Total reward: 244.69528275321255 Training loss: 4.4360 Explore P: 0.0048\n",
            "Episode: 108 Total reward: 209.62008162845294 Training loss: 54.6696 Explore P: 0.0046\n",
            "Episode: 109 Total reward: -293.9931119311213 Training loss: 34.4468 Explore P: 0.0044\n",
            "Episode: 110 Total reward: -360.9323692197687 Training loss: 11.1105 Explore P: 0.0042\n",
            "Episode: 111 Total reward: -472.1800316634847 Training loss: 6.5230 Explore P: 0.0040\n",
            "Episode: 112 Total reward: -81.27628281675847 Training loss: 15.4402 Explore P: 0.0038\n",
            "Episode: 113 Total reward: -491.9972235171148 Training loss: 15.3292 Explore P: 0.0036\n",
            "Episode: 114 Total reward: 184.59416808009647 Training loss: 10.1267 Explore P: 0.0034\n",
            "Episode: 115 Total reward: -161.21218791702427 Training loss: 2.0215 Explore P: 0.0033\n",
            "Episode: 116 Total reward: 231.97909479352398 Training loss: 3.0463 Explore P: 0.0031\n",
            "Episode: 117 Total reward: 257.3168475606537 Training loss: 3.3530 Explore P: 0.0030\n",
            "Episode: 118 Total reward: -20.978547371658465 Training loss: 1.4514 Explore P: 0.0028\n",
            "Episode: 119 Total reward: 233.40179478834187 Training loss: 5.3888 Explore P: 0.0027\n",
            "Episode: 120 Total reward: 294.32989620831233 Training loss: 7.0075 Explore P: 0.0026\n",
            "Episode: 121 Total reward: 223.96319219313966 Training loss: 1.5751 Explore P: 0.0025\n",
            "Episode: 122 Total reward: 196.61745649104273 Training loss: 7.9627 Explore P: 0.0023\n",
            "Episode: 123 Total reward: 233.45575365264062 Training loss: 8.0407 Explore P: 0.0022\n",
            "Episode: 124 Total reward: 274.89523824657476 Training loss: 1.7711 Explore P: 0.0021\n",
            "Episode: 125 Total reward: -95.48917264483782 Training loss: 7.5976 Explore P: 0.0020\n",
            "Episode: 126 Total reward: 266.98187951374484 Training loss: 33.4605 Explore P: 0.0019\n",
            "Episode: 127 Total reward: 265.6427152634004 Training loss: 1.1539 Explore P: 0.0018\n",
            "Episode: 128 Total reward: 266.8537744822461 Training loss: 1.8183 Explore P: 0.0018\n",
            "Episode: 129 Total reward: 280.6955824349204 Training loss: 4.8644 Explore P: 0.0017\n",
            "Episode: 130 Total reward: 269.61959980592735 Training loss: 1.6272 Explore P: 0.0016\n",
            "Episode: 131 Total reward: 218.80744557650155 Training loss: 1.6745 Explore P: 0.0015\n",
            "Episode: 132 Total reward: 235.4540361193084 Training loss: 1.5763 Explore P: 0.0015\n",
            "Episode: 133 Total reward: 260.318587414146 Training loss: 25.4781 Explore P: 0.0014\n",
            "Episode: 134 Total reward: 169.99782733115552 Training loss: 1.6682 Explore P: 0.0013\n",
            "Episode: 135 Total reward: 245.0615940294901 Training loss: 1.0466 Explore P: 0.0013\n",
            "Episode: 136 Total reward: 255.49197548451417 Training loss: 1.4633 Explore P: 0.0012\n",
            "Episode: 137 Total reward: 232.5432425250987 Training loss: 34.7417 Explore P: 0.0012\n",
            "Episode: 138 Total reward: 13.976360397968918 Training loss: 1.4324 Explore P: 0.0011\n",
            "Episode: 139 Total reward: 77.10707048122654 Training loss: 1.8776 Explore P: 0.0011\n",
            "Episode: 140 Total reward: -156.87925790732456 Training loss: 12.5204 Explore P: 0.0010\n",
            "Episode: 141 Total reward: 210.14373659781361 Training loss: 1.5250 Explore P: 0.0010\n",
            "Episode: 142 Total reward: 197.31162044858198 Training loss: 0.9811 Explore P: 0.0009\n",
            "Episode: 143 Total reward: 245.9818911901636 Training loss: 163.5325 Explore P: 0.0009\n",
            "Episode: 144 Total reward: 246.03191994930134 Training loss: 8.1530 Explore P: 0.0008\n",
            "Episode: 145 Total reward: 168.96376365696273 Training loss: 1.0654 Explore P: 0.0008\n",
            "Episode: 146 Total reward: 230.32844817121673 Training loss: 3.9215 Explore P: 0.0008\n",
            "Episode: 147 Total reward: 268.6227394654253 Training loss: 1.8691 Explore P: 0.0007\n",
            "Episode: 148 Total reward: 229.51635819181536 Training loss: 0.9110 Explore P: 0.0007\n",
            "Episode: 149 Total reward: 249.4974537797953 Training loss: 4.0383 Explore P: 0.0007\n",
            "Episode: 150 Total reward: 247.23926753066942 Training loss: 1.7330 Explore P: 0.0007\n",
            "Episode: 151 Total reward: 257.8500089377315 Training loss: 1.3971 Explore P: 0.0006\n",
            "Episode: 152 Total reward: 163.49933211612176 Training loss: 17.1505 Explore P: 0.0006\n",
            "Episode: 153 Total reward: 243.53007903742437 Training loss: 8.1951 Explore P: 0.0006\n",
            "Episode: 154 Total reward: 287.6347564855862 Training loss: 0.7950 Explore P: 0.0006\n",
            "Episode: 155 Total reward: 276.47740408888734 Training loss: 6.6239 Explore P: 0.0005\n",
            "Episode: 156 Total reward: 233.49834530082106 Training loss: 1.7472 Explore P: 0.0005\n",
            "Episode: 157 Total reward: 242.37683335655606 Training loss: 1.4478 Explore P: 0.0005\n",
            "Episode: 158 Total reward: 269.0306868282061 Training loss: 2.3024 Explore P: 0.0005\n",
            "Episode: 159 Total reward: 269.7346417511618 Training loss: 1.0188 Explore P: 0.0005\n",
            "Episode: 160 Total reward: 229.47316583591632 Training loss: 1.6544 Explore P: 0.0004\n",
            "Episode: 161 Total reward: 252.00833109117374 Training loss: 1.6542 Explore P: 0.0004\n",
            "Episode: 162 Total reward: 231.21819683871598 Training loss: 1.1845 Explore P: 0.0004\n",
            "Episode: 163 Total reward: 256.7601122746901 Training loss: 1.6663 Explore P: 0.0004\n",
            "Episode: 164 Total reward: 268.5773380276683 Training loss: 1.5394 Explore P: 0.0004\n",
            "Episode: 165 Total reward: 244.24382638207774 Training loss: 1.2124 Explore P: 0.0004\n",
            "Episode: 166 Total reward: 273.3358116201597 Training loss: 0.7068 Explore P: 0.0003\n",
            "Episode: 167 Total reward: 240.94941677158698 Training loss: 0.8596 Explore P: 0.0003\n",
            "Episode: 168 Total reward: 283.35609867567996 Training loss: 0.8728 Explore P: 0.0003\n",
            "Episode: 169 Total reward: 285.25715616907803 Training loss: 4.5290 Explore P: 0.0003\n",
            "Episode: 170 Total reward: 75.02426032884881 Training loss: 0.6106 Explore P: 0.0003\n",
            "Episode: 171 Total reward: 266.7234682698786 Training loss: 4.1521 Explore P: 0.0003\n",
            "Episode: 172 Total reward: 292.1160392465992 Training loss: 0.7671 Explore P: 0.0003\n",
            "Episode: 173 Total reward: 242.70403062323734 Training loss: 5.5351 Explore P: 0.0003\n",
            "Episode: 174 Total reward: 272.06759498574013 Training loss: 3.8066 Explore P: 0.0003\n",
            "Episode: 175 Total reward: 235.5430945980068 Training loss: 1.7226 Explore P: 0.0003\n",
            "Episode: 176 Total reward: 276.4477103546168 Training loss: 7.1295 Explore P: 0.0003\n",
            "Episode: 177 Total reward: 274.4901192226274 Training loss: 0.8596 Explore P: 0.0002\n",
            "Episode: 178 Total reward: -61.15688230385103 Training loss: 4.9966 Explore P: 0.0002\n",
            "Episode: 179 Total reward: 3.0458445385122985 Training loss: 0.9634 Explore P: 0.0002\n",
            "Episode: 180 Total reward: -19.018422017357338 Training loss: 1.0395 Explore P: 0.0002\n",
            "Episode: 181 Total reward: 34.77421080076374 Training loss: 0.7657 Explore P: 0.0002\n",
            "Episode: 182 Total reward: 227.45076989389116 Training loss: 4.9064 Explore P: 0.0002\n",
            "Episode: 183 Total reward: 248.82472200042778 Training loss: 4.9643 Explore P: 0.0002\n",
            "Episode: 184 Total reward: 209.1589101967004 Training loss: 1.8806 Explore P: 0.0002\n",
            "Episode: 185 Total reward: 269.74402704064585 Training loss: 132.0701 Explore P: 0.0002\n",
            "Episode: 186 Total reward: -41.256820249609106 Training loss: 1.7617 Explore P: 0.0002\n",
            "Episode: 187 Total reward: -176.47616685476066 Training loss: 5.5262 Explore P: 0.0002\n",
            "Episode: 188 Total reward: 263.63087427455895 Training loss: 2.4984 Explore P: 0.0002\n",
            "Episode: 189 Total reward: 196.7818570896452 Training loss: 1.2819 Explore P: 0.0002\n",
            "Episode: 190 Total reward: 253.82384948723828 Training loss: 2.0236 Explore P: 0.0002\n",
            "Episode: 191 Total reward: 204.45065856205662 Training loss: 2.1254 Explore P: 0.0002\n",
            "Episode: 192 Total reward: 228.96641372800477 Training loss: 1.9206 Explore P: 0.0002\n",
            "Episode: 193 Total reward: -0.06741621416215082 Training loss: 1.4192 Explore P: 0.0002\n",
            "Episode: 194 Total reward: 285.5944976031115 Training loss: 2.0621 Explore P: 0.0002\n",
            "Episode: 195 Total reward: 226.0816461834056 Training loss: 2.4850 Explore P: 0.0002\n",
            "Episode: 196 Total reward: 211.48782811415867 Training loss: 2.0082 Explore P: 0.0002\n",
            "Episode: 197 Total reward: 254.3212546325491 Training loss: 1.5962 Explore P: 0.0002\n",
            "Episode: 198 Total reward: 259.89160696855856 Training loss: 1.7185 Explore P: 0.0002\n",
            "Episode: 199 Total reward: 202.0252019367952 Training loss: 1.9994 Explore P: 0.0001\n",
            "Episode: 200 Total reward: 265.0531198701645 Training loss: 2.7799 Explore P: 0.0001\n",
            "Episode: 201 Total reward: 182.19540868158265 Training loss: 2.6562 Explore P: 0.0001\n",
            "Episode: 202 Total reward: 175.72163419005068 Training loss: 14.4712 Explore P: 0.0001\n",
            "Episode: 203 Total reward: 210.61822882117855 Training loss: 2.1902 Explore P: 0.0001\n",
            "Episode: 204 Total reward: 230.04622220337498 Training loss: 11.4105 Explore P: 0.0001\n",
            "Episode: 205 Total reward: 263.7871402742752 Training loss: 9.8799 Explore P: 0.0001\n",
            "Episode: 206 Total reward: -113.96095892841228 Training loss: 3.6234 Explore P: 0.0001\n",
            "Episode: 207 Total reward: 245.03204240508515 Training loss: 10.5861 Explore P: 0.0001\n",
            "Episode: 208 Total reward: -8.556642190152886 Training loss: 3.3172 Explore P: 0.0001\n",
            "Episode: 209 Total reward: 232.5496986809392 Training loss: 13.2978 Explore P: 0.0001\n",
            "Episode: 210 Total reward: 246.03457458845912 Training loss: 4.9508 Explore P: 0.0001\n",
            "Episode: 211 Total reward: 207.11394951419896 Training loss: 11.0451 Explore P: 0.0001\n",
            "Episode: 212 Total reward: 224.50067733243827 Training loss: 4.1078 Explore P: 0.0001\n",
            "Episode: 213 Total reward: 228.9566661376241 Training loss: 3.6636 Explore P: 0.0001\n",
            "Episode: 214 Total reward: 193.7062362080862 Training loss: 10.8885 Explore P: 0.0001\n",
            "Episode: 215 Total reward: 258.396355165498 Training loss: 2.9833 Explore P: 0.0001\n",
            "Episode: 216 Total reward: 274.8863965777947 Training loss: 1.3538 Explore P: 0.0001\n",
            "Episode: 217 Total reward: 160.2509110490434 Training loss: 2.2358 Explore P: 0.0001\n",
            "Episode: 218 Total reward: 269.88946874430974 Training loss: 8.8759 Explore P: 0.0001\n",
            "Episode: 219 Total reward: 263.14873460116644 Training loss: 2.6367 Explore P: 0.0001\n",
            "Episode: 220 Total reward: 274.899933348996 Training loss: 3.6923 Explore P: 0.0001\n",
            "Episode: 221 Total reward: 223.11606210841484 Training loss: 3.6500 Explore P: 0.0001\n",
            "Episode: 222 Total reward: 247.92214214827663 Training loss: 2.2634 Explore P: 0.0001\n",
            "Episode: 223 Total reward: 248.15505667572518 Training loss: 1.2110 Explore P: 0.0001\n",
            "Episode: 224 Total reward: -26.511391208163644 Training loss: 1.6152 Explore P: 0.0001\n",
            "Episode: 225 Total reward: 209.85843253754916 Training loss: 0.9850 Explore P: 0.0001\n",
            "Episode: 226 Total reward: 241.33143643896898 Training loss: 1.2289 Explore P: 0.0001\n",
            "Episode: 227 Total reward: 217.22541353038113 Training loss: 6.3523 Explore P: 0.0001\n",
            "Episode: 228 Total reward: 247.35354292329396 Training loss: 3.6198 Explore P: 0.0001\n",
            "Episode: 229 Total reward: 164.2940174619 Training loss: 1.4060 Explore P: 0.0001\n",
            "Episode: 230 Total reward: 247.24828316150266 Training loss: 0.8162 Explore P: 0.0001\n",
            "Episode: 231 Total reward: 223.10311611118823 Training loss: 6.2076 Explore P: 0.0001\n",
            "Episode: 232 Total reward: -34.5108057999859 Training loss: 1.6099 Explore P: 0.0001\n",
            "Episode: 233 Total reward: 215.70355940772083 Training loss: 5.2127 Explore P: 0.0001\n",
            "Episode: 234 Total reward: 290.4584373024368 Training loss: 1.4230 Explore P: 0.0001\n",
            "Episode: 235 Total reward: 249.94803862406982 Training loss: 7.5665 Explore P: 0.0001\n",
            "Episode: 236 Total reward: 165.84762060064486 Training loss: 5.1873 Explore P: 0.0001\n",
            "Episode: 237 Total reward: 215.0412914290022 Training loss: 0.8203 Explore P: 0.0001\n",
            "Episode: 238 Total reward: 233.8919789584091 Training loss: 2.0236 Explore P: 0.0001\n",
            "Episode: 239 Total reward: 224.0307035964517 Training loss: 7.3424 Explore P: 0.0001\n",
            "Episode: 240 Total reward: 236.80561429946536 Training loss: 6.8309 Explore P: 0.0001\n",
            "Episode: 241 Total reward: 179.06091345716024 Training loss: 7.5587 Explore P: 0.0001\n",
            "Episode: 242 Total reward: 246.88410987707485 Training loss: 1.2003 Explore P: 0.0001\n",
            "Episode: 243 Total reward: 230.80130808379354 Training loss: 3.0075 Explore P: 0.0001\n",
            "Episode: 244 Total reward: 221.196596711162 Training loss: 2.0370 Explore P: 0.0001\n",
            "Episode: 245 Total reward: 259.69983852439606 Training loss: 1.8939 Explore P: 0.0001\n",
            "Episode: 246 Total reward: 211.5388417749508 Training loss: 11.6914 Explore P: 0.0001\n",
            "Episode: 247 Total reward: 246.1491319615309 Training loss: 14.1140 Explore P: 0.0001\n",
            "Episode: 248 Total reward: 215.00980803067253 Training loss: 2.6973 Explore P: 0.0001\n",
            "Episode: 249 Total reward: 254.91714486623448 Training loss: 14.2912 Explore P: 0.0001\n",
            "Episode: 250 Total reward: 255.25229022250957 Training loss: 1.7003 Explore P: 0.0001\n",
            "Episode: 251 Total reward: 261.76561369801834 Training loss: 2.3198 Explore P: 0.0001\n",
            "Episode: 252 Total reward: 242.53816107271484 Training loss: 0.8583 Explore P: 0.0001\n",
            "Episode: 253 Total reward: 267.57150204416246 Training loss: 0.6332 Explore P: 0.0001\n",
            "Episode: 254 Total reward: 234.383020741953 Training loss: 1.0544 Explore P: 0.0001\n",
            "Episode: 255 Total reward: 261.9549760407323 Training loss: 0.6277 Explore P: 0.0001\n",
            "Episode: 256 Total reward: 280.7921063555748 Training loss: 0.8836 Explore P: 0.0001\n",
            "Episode: 257 Total reward: 150.25161456372092 Training loss: 1.1079 Explore P: 0.0001\n",
            "Episode: 258 Total reward: 226.27911032402884 Training loss: 2.9486 Explore P: 0.0001\n",
            "Episode: 259 Total reward: 187.2543336158816 Training loss: 13.9728 Explore P: 0.0001\n",
            "Episode: 260 Total reward: 248.9528376630615 Training loss: 1.0016 Explore P: 0.0001\n",
            "Episode: 261 Total reward: 279.030159616972 Training loss: 0.5384 Explore P: 0.0001\n",
            "Episode: 262 Total reward: 265.73195947612203 Training loss: 1.0476 Explore P: 0.0001\n",
            "Episode: 263 Total reward: 232.09293611310187 Training loss: 1.5043 Explore P: 0.0001\n",
            "Episode: 264 Total reward: 244.15355188003196 Training loss: 8.6005 Explore P: 0.0001\n",
            "Episode: 265 Total reward: 188.12674093972572 Training loss: 2.1373 Explore P: 0.0001\n",
            "Episode: 266 Total reward: 268.08781197537735 Training loss: 0.8734 Explore P: 0.0001\n",
            "Episode: 267 Total reward: 293.45995604751295 Training loss: 0.8623 Explore P: 0.0001\n",
            "Episode: 268 Total reward: 283.0342269754886 Training loss: 6.8376 Explore P: 0.0001\n",
            "Episode: 269 Total reward: 107.56365888339081 Training loss: 9.6795 Explore P: 0.0001\n",
            "Episode: 270 Total reward: 210.25048136382952 Training loss: 1.5705 Explore P: 0.0001\n",
            "Episode: 271 Total reward: 207.09777174022787 Training loss: 0.9369 Explore P: 0.0001\n",
            "Episode: 272 Total reward: 258.35812774203 Training loss: 0.9643 Explore P: 0.0001\n",
            "Episode: 273 Total reward: 224.8065010962885 Training loss: 17.0323 Explore P: 0.0001\n",
            "Episode: 274 Total reward: 193.5630141354582 Training loss: 3.3471 Explore P: 0.0001\n",
            "Episode: 275 Total reward: 251.9570777490815 Training loss: 8.9653 Explore P: 0.0001\n",
            "Episode: 276 Total reward: 224.5089637843464 Training loss: 1.0599 Explore P: 0.0001\n",
            "Episode: 277 Total reward: -80.35667303927377 Training loss: 1.5009 Explore P: 0.0001\n",
            "Episode: 278 Total reward: -52.26550308668956 Training loss: 0.4598 Explore P: 0.0001\n",
            "Episode: 279 Total reward: 245.96680929976029 Training loss: 35.7282 Explore P: 0.0001\n",
            "Episode: 280 Total reward: 182.41827718896778 Training loss: 3.9758 Explore P: 0.0001\n",
            "Episode: 281 Total reward: 244.8431726378401 Training loss: 14.5280 Explore P: 0.0001\n",
            "Episode: 282 Total reward: 234.3881923263884 Training loss: 1.0749 Explore P: 0.0001\n",
            "Episode: 283 Total reward: 265.5200319772998 Training loss: 1.5161 Explore P: 0.0001\n",
            "Episode: 284 Total reward: 250.2466655519241 Training loss: 15.1444 Explore P: 0.0001\n",
            "Episode: 285 Total reward: 261.66762858565653 Training loss: 5.7708 Explore P: 0.0001\n",
            "Episode: 286 Total reward: 287.0001041080497 Training loss: 0.9279 Explore P: 0.0001\n",
            "Episode: 287 Total reward: 265.8627894763378 Training loss: 1.4575 Explore P: 0.0001\n",
            "Episode: 288 Total reward: 251.99168541142987 Training loss: 11.2455 Explore P: 0.0001\n",
            "Episode: 289 Total reward: 282.8258039123306 Training loss: 27.5436 Explore P: 0.0001\n",
            "Episode: 290 Total reward: 257.5294568150739 Training loss: 0.7572 Explore P: 0.0001\n",
            "Episode: 291 Total reward: 272.1955279960413 Training loss: 8.3562 Explore P: 0.0001\n",
            "Episode: 292 Total reward: 213.77243156290268 Training loss: 6.8060 Explore P: 0.0001\n",
            "Episode: 293 Total reward: 253.1812751553036 Training loss: 0.8375 Explore P: 0.0001\n",
            "Episode: 294 Total reward: 289.111180773063 Training loss: 1.0101 Explore P: 0.0001\n",
            "Episode: 295 Total reward: 262.2891791798463 Training loss: 7.8043 Explore P: 0.0001\n",
            "Episode: 296 Total reward: 253.78097226577765 Training loss: 1.0766 Explore P: 0.0001\n",
            "Episode: 297 Total reward: 276.61218090717944 Training loss: 7.0612 Explore P: 0.0001\n",
            "Episode: 298 Total reward: 216.0733006063937 Training loss: 3.6162 Explore P: 0.0001\n",
            "Episode: 299 Total reward: 254.3275719672178 Training loss: 1.3883 Explore P: 0.0001\n",
            "Episode: 300 Total reward: 228.50568862952167 Training loss: 0.8256 Explore P: 0.0001\n",
            "Episode: 301 Total reward: 177.15268492155252 Training loss: 4.1839 Explore P: 0.0001\n",
            "Episode: 302 Total reward: 251.62259920942867 Training loss: 12.1384 Explore P: 0.0001\n",
            "Episode: 303 Total reward: 276.5231967337539 Training loss: 0.8535 Explore P: 0.0001\n",
            "Episode: 304 Total reward: -35.05726352419438 Training loss: 1.8879 Explore P: 0.0001\n",
            "Episode: 305 Total reward: 209.07208393805598 Training loss: 5.1296 Explore P: 0.0001\n",
            "Episode: 306 Total reward: 261.3890362061154 Training loss: 3.2761 Explore P: 0.0001\n",
            "Episode: 307 Total reward: 245.67825999346366 Training loss: 16.5861 Explore P: 0.0001\n",
            "Episode: 308 Total reward: 222.66005930736907 Training loss: 8.6300 Explore P: 0.0001\n",
            "Episode: 309 Total reward: 263.017171194263 Training loss: 0.7434 Explore P: 0.0001\n",
            "Episode: 310 Total reward: 251.3827204090997 Training loss: 6.2241 Explore P: 0.0001\n",
            "Episode: 311 Total reward: 251.7697920698343 Training loss: 1.1828 Explore P: 0.0001\n",
            "Episode: 312 Total reward: 255.31397138214646 Training loss: 1.2649 Explore P: 0.0001\n",
            "Episode: 313 Total reward: 277.9595333208956 Training loss: 8.7753 Explore P: 0.0001\n",
            "Episode: 314 Total reward: 257.12741889783297 Training loss: 23.9614 Explore P: 0.0001\n",
            "Episode: 315 Total reward: 259.7883064558513 Training loss: 1.5882 Explore P: 0.0001\n",
            "Episode: 316 Total reward: 250.7634587290314 Training loss: 3.0521 Explore P: 0.0001\n",
            "Episode: 317 Total reward: 291.6628482633446 Training loss: 0.7686 Explore P: 0.0001\n",
            "Episode: 318 Total reward: 243.40223930021892 Training loss: 1.2044 Explore P: 0.0001\n",
            "Episode: 319 Total reward: 265.1117628222395 Training loss: 0.9011 Explore P: 0.0001\n",
            "Episode: 320 Total reward: 226.5267282145557 Training loss: 1.6610 Explore P: 0.0001\n",
            "Episode: 321 Total reward: 238.61175061093184 Training loss: 1.6919 Explore P: 0.0001\n",
            "Episode: 322 Total reward: 227.1750831164439 Training loss: 1.0169 Explore P: 0.0001\n",
            "Episode: 323 Total reward: 267.8098980063621 Training loss: 4.9248 Explore P: 0.0001\n",
            "Episode: 324 Total reward: 260.9016391245018 Training loss: 4.3416 Explore P: 0.0001\n",
            "Episode: 325 Total reward: 272.3917457832849 Training loss: 1.4805 Explore P: 0.0001\n",
            "Episode: 326 Total reward: 248.1977573416232 Training loss: 2.0344 Explore P: 0.0001\n",
            "Episode: 327 Total reward: 237.85875107263362 Training loss: 9.4977 Explore P: 0.0001\n",
            "Episode: 328 Total reward: 256.3284695785179 Training loss: 13.7830 Explore P: 0.0001\n",
            "Episode: 329 Total reward: 238.13027804750135 Training loss: 8.5820 Explore P: 0.0001\n",
            "Episode: 330 Total reward: 272.3708077852518 Training loss: 2.4563 Explore P: 0.0001\n",
            "Episode: 331 Total reward: 227.05050118499187 Training loss: 1.3792 Explore P: 0.0001\n",
            "Episode: 332 Total reward: 231.3274137848352 Training loss: 0.5675 Explore P: 0.0001\n",
            "Episode: 333 Total reward: 268.24667237709184 Training loss: 1.1397 Explore P: 0.0001\n",
            "Episode: 334 Total reward: 286.5454718700239 Training loss: 0.7168 Explore P: 0.0001\n",
            "Episode: 335 Total reward: 272.03036495219425 Training loss: 0.9835 Explore P: 0.0001\n",
            "Episode: 336 Total reward: 268.7179107596398 Training loss: 0.8504 Explore P: 0.0001\n",
            "Episode: 337 Total reward: 281.2755723458989 Training loss: 0.5662 Explore P: 0.0001\n",
            "Episode: 338 Total reward: 230.73399083468894 Training loss: 0.9610 Explore P: 0.0001\n",
            "Episode: 339 Total reward: 264.62415842085727 Training loss: 0.6286 Explore P: 0.0001\n",
            "Episode: 340 Total reward: 242.29595624825302 Training loss: 0.6749 Explore P: 0.0001\n",
            "Episode: 341 Total reward: 268.6843284158484 Training loss: 0.6767 Explore P: 0.0001\n",
            "Episode: 342 Total reward: 254.65798382169902 Training loss: 0.7091 Explore P: 0.0001\n",
            "Episode: 343 Total reward: 248.29201381583255 Training loss: 0.8854 Explore P: 0.0001\n",
            "Episode: 344 Total reward: 256.41506984019 Training loss: 0.5523 Explore P: 0.0001\n",
            "Episode: 345 Total reward: 292.55514876654127 Training loss: 1.2431 Explore P: 0.0001\n",
            "Episode: 346 Total reward: 225.7498081211431 Training loss: 0.7554 Explore P: 0.0001\n",
            "Episode: 347 Total reward: 257.02081344580216 Training loss: 0.6080 Explore P: 0.0001\n",
            "Episode: 348 Total reward: 242.7032758045662 Training loss: 0.4225 Explore P: 0.0001\n",
            "Episode: 349 Total reward: 261.4578808053559 Training loss: 9.2465 Explore P: 0.0001\n",
            "Episode: 350 Total reward: 32.4475169294451 Training loss: 0.6379 Explore P: 0.0001\n",
            "Episode: 351 Total reward: 267.3808704810616 Training loss: 0.5466 Explore P: 0.0001\n",
            "Episode: 352 Total reward: 245.3854599264792 Training loss: 2.7348 Explore P: 0.0001\n",
            "Episode: 353 Total reward: 286.40165585617314 Training loss: 5.8979 Explore P: 0.0001\n",
            "Episode: 354 Total reward: 283.33345586419966 Training loss: 0.4988 Explore P: 0.0001\n",
            "Episode: 355 Total reward: 263.1699521046028 Training loss: 1.6798 Explore P: 0.0001\n",
            "Episode: 356 Total reward: 280.48909426826 Training loss: 1.3592 Explore P: 0.0001\n",
            "Episode: 357 Total reward: 236.51703571951452 Training loss: 0.6207 Explore P: 0.0001\n",
            "Episode: 358 Total reward: 225.05142263338246 Training loss: 0.5388 Explore P: 0.0001\n",
            "Episode: 359 Total reward: 285.21359042751766 Training loss: 2.7603 Explore P: 0.0001\n",
            "Episode: 360 Total reward: 289.76609203677117 Training loss: 0.4670 Explore P: 0.0001\n",
            "Episode: 361 Total reward: -94.63833646264942 Training loss: 5.2623 Explore P: 0.0001\n",
            "Episode: 362 Total reward: 256.0182236563377 Training loss: 0.7990 Explore P: 0.0001\n",
            "Episode: 363 Total reward: 227.54000251487287 Training loss: 0.8124 Explore P: 0.0001\n",
            "Episode: 364 Total reward: 240.18148085643836 Training loss: 0.7700 Explore P: 0.0001\n",
            "Episode: 365 Total reward: 244.40465920541146 Training loss: 14.6481 Explore P: 0.0001\n",
            "Episode: 366 Total reward: 263.620021928018 Training loss: 1.9007 Explore P: 0.0001\n",
            "Episode: 367 Total reward: 246.55944272254104 Training loss: 3.9144 Explore P: 0.0001\n",
            "Episode: 368 Total reward: 48.95263673017584 Training loss: 0.9809 Explore P: 0.0001\n",
            "Episode: 369 Total reward: 280.85717658010276 Training loss: 0.8643 Explore P: 0.0001\n",
            "Episode: 370 Total reward: 239.81090670035994 Training loss: 1.2043 Explore P: 0.0001\n",
            "Episode: 371 Total reward: 146.34630273050988 Training loss: 0.5243 Explore P: 0.0001\n",
            "Episode: 372 Total reward: 227.40996955829914 Training loss: 7.8133 Explore P: 0.0001\n",
            "Episode: 373 Total reward: 230.78350446531184 Training loss: 0.5676 Explore P: 0.0001\n",
            "Episode: 374 Total reward: -259.0621953580317 Training loss: 3.1892 Explore P: 0.0001\n",
            "Episode: 375 Total reward: -208.07799920280073 Training loss: 1.3305 Explore P: 0.0001\n",
            "Episode: 376 Total reward: -211.61276766312585 Training loss: 4.4585 Explore P: 0.0001\n",
            "Episode: 377 Total reward: -164.44645743711084 Training loss: 1.3913 Explore P: 0.0001\n",
            "Episode: 378 Total reward: 266.0238461921947 Training loss: 7.7585 Explore P: 0.0001\n",
            "Episode: 379 Total reward: 251.92509627476093 Training loss: 4.6852 Explore P: 0.0001\n",
            "Episode: 380 Total reward: -193.37365440808307 Training loss: 3.0273 Explore P: 0.0001\n",
            "Episode: 381 Total reward: 174.32562172936846 Training loss: 3.1203 Explore P: 0.0001\n",
            "Episode: 382 Total reward: -447.4348342693266 Training loss: 1.6268 Explore P: 0.0001\n",
            "Episode: 383 Total reward: -351.68057865323397 Training loss: 2.7875 Explore P: 0.0001\n",
            "Episode: 384 Total reward: -72.26453180707517 Training loss: 4.6672 Explore P: 0.0001\n",
            "Episode: 385 Total reward: -271.8057678207452 Training loss: 4.6503 Explore P: 0.0001\n",
            "Episode: 386 Total reward: 224.7927583908027 Training loss: 8.8828 Explore P: 0.0001\n",
            "Episode: 387 Total reward: 245.4379059193194 Training loss: 5.0279 Explore P: 0.0001\n",
            "Episode: 388 Total reward: 239.5695196259389 Training loss: 6.6827 Explore P: 0.0001\n",
            "Episode: 389 Total reward: -260.59338482498856 Training loss: 17.8380 Explore P: 0.0001\n",
            "Episode: 390 Total reward: 221.27685117452813 Training loss: 12.3375 Explore P: 0.0001\n",
            "Episode: 391 Total reward: 238.21673162307047 Training loss: 16.7313 Explore P: 0.0001\n",
            "Episode: 392 Total reward: 228.50063696911647 Training loss: 5.2310 Explore P: 0.0001\n",
            "Episode: 393 Total reward: 235.82207258845358 Training loss: 2.5540 Explore P: 0.0001\n",
            "Episode: 394 Total reward: -414.3821669593983 Training loss: 2.4208 Explore P: 0.0001\n",
            "Episode: 395 Total reward: 212.0640788867703 Training loss: 5.7065 Explore P: 0.0001\n",
            "Episode: 396 Total reward: 188.9337306669907 Training loss: 5.0062 Explore P: 0.0001\n",
            "Episode: 397 Total reward: 211.21055105740714 Training loss: 4.4569 Explore P: 0.0001\n",
            "Episode: 398 Total reward: 209.81765180415803 Training loss: 11.7058 Explore P: 0.0001\n",
            "Episode: 399 Total reward: 280.3078978375849 Training loss: 3.0384 Explore P: 0.0001\n"
          ]
        }
      ],
      "source": [
        "total_reward_list = []  # Returns for the individual episodes\n",
        "\n",
        "optimizer = torch.optim.AdamW(mainQN.parameters(), lr=learning_rate) # AdamW uses weight decay by default\n",
        "loss_fn = torch.nn.MSELoss()\n",
        "\n",
        "for ep in range(train_episodes):\n",
        "    total_reward = 0  # Return / accumulated rewards\n",
        "    state = env.reset()[0]  # Reset and get initial state\n",
        "    while True:\n",
        "        # Explore or exploit\n",
        "        explore_p = explore_stop + (explore_start - explore_stop)*np.exp(-decay_rate*ep)\n",
        "        if explore_p > np.random.rand():\n",
        "            # Pick a random action\n",
        "            action = env.action_space.sample()\n",
        "        else:\n",
        "            # Get action from Q-network\n",
        "            state_tensor = torch.from_numpy(np.resize(state, (1, state_size)).astype(np.float32))\n",
        "            Qs = mainQN(state_tensor)\n",
        "            action = torch.argmax(Qs).item()\n",
        "\n",
        "        # Take action, get new state and reward\n",
        "        next_state, reward, terminated, truncated, _ = env.step(action)\n",
        "\n",
        "        total_reward += reward  # Return / accumulated rewards\n",
        "\n",
        "        if terminated or truncated:\n",
        "            # Episode ends because of failure, so no next state\n",
        "            next_state = np.zeros(state.shape)\n",
        "\n",
        "            print('Episode: {}'.format(ep), 'Total reward: {}'.format(total_reward),\n",
        "                  'Training loss: {:.4f}'.format(loss), 'Explore P: {:.4f}'.format(explore_p))\n",
        "            total_reward_list.append((ep, total_reward))\n",
        "\n",
        "            # Add experience to memory\n",
        "            memory.add((state, action, reward, next_state))\n",
        "            break; # End of episode\n",
        "        else:\n",
        "            # Add experience to memory\n",
        "            memory.add((state, action, reward, next_state))\n",
        "            state = next_state\n",
        "\n",
        "        # Sample mini-batch from memory\n",
        "        batch = memory.sample(batch_size)\n",
        "        next_states_np = np.array([each[3] for each in batch], dtype=np.float32)\n",
        "        next_states = torch.as_tensor(next_states_np)  # as_tensor does not copy the data\n",
        "        rewards     = torch.as_tensor(np.array([each[2] for each in batch], dtype=np.float32))\n",
        "        states      = torch.as_tensor(np.array([each[0] for each in batch], dtype=np.float32))\n",
        "        actions     = torch.as_tensor(np.array([each[1] for each in batch]))\n",
        "\n",
        "        # Compute Q values for all actions in the new state\n",
        "        target_Qs = mainQN(next_states)\n",
        "\n",
        "        # Set target_Qs to 0 for states where episode ended because of failure\n",
        "        episode_ends = (next_states_np == np.zeros(states[0].shape)).all(axis=1)\n",
        "        target_Qs[episode_ends] = torch.zeros(action_size)\n",
        "\n",
        "        # Compute targets\n",
        "        y = rewards + gamma * torch.max(target_Qs, dim=1)[0].detach()\n",
        "\n",
        "        # Network learning starts here\n",
        "        optimizer.zero_grad()\n",
        "\n",
        "        # Compute the Q values of the actions taken\n",
        "        main_Qs = mainQN(states)  # Q values for all action in each state\n",
        "        Q = torch.gather(main_Qs, 1, actions.unsqueeze(-1)).squeeze()  # Only the Q values for the actions taken\n",
        "\n",
        "        # Gradient-based update\n",
        "        loss = loss_fn(Q, y)\n",
        "        loss.backward()\n",
        "        optimizer.step()"
      ]
    },
    {
      "cell_type": "markdown",
      "metadata": {
        "id": "C23_Q-5MdkBz"
      },
      "source": [
        "Save policy network:"
      ]
    },
    {
      "cell_type": "code",
      "execution_count": 13,
      "metadata": {
        "id": "_hNFSN3edkBz"
      },
      "outputs": [],
      "source": [
        "torch.save(mainQN, log_path)"
      ]
    },
    {
      "cell_type": "markdown",
      "metadata": {
        "id": "XeZDI2lCdkBz"
      },
      "source": [
        "Plot learning process:"
      ]
    },
    {
      "cell_type": "code",
      "execution_count": 14,
      "metadata": {
        "id": "jOEEpaLKdkBz",
        "outputId": "dfa87bd2-3d82-452d-bc2f-c7136908da9f",
        "colab": {
          "base_uri": "https://localhost:8080/",
          "height": 449
        }
      },
      "outputs": [
        {
          "output_type": "display_data",
          "data": {
            "text/plain": [
              "<Figure size 640x480 with 1 Axes>"
            ],
            "image/png": "[encoded data removed]"
          },
          "metadata": {}
        }
      ],
      "source": [
        "# Moving average for smoothing plot\n",
        "def running_mean(x, N):\n",
        "    cumsum = np.cumsum(np.insert(x, 0, x[0]*np.ones(N)))\n",
        "    return (cumsum[N:] - cumsum[:-N]) / N\n",
        "\n",
        "eps, rews = np.array(total_reward_list).T\n",
        "smoothed_rews = running_mean(rews, 10)\n",
        "\n",
        "plt.plot(eps, smoothed_rews)\n",
        "plt.grid()\n",
        "plt.plot(eps, rews, color='grey', alpha=0.3)\n",
        "plt.xlabel('Episode')\n",
        "plt.ylabel('Accumulated Reward')\n",
        "plt.savefig('deepQ.pdf')"
      ]
    },
    {
      "cell_type": "markdown",
      "metadata": {
        "id": "A5dy24WWdkBz"
      },
      "source": [
        "Evaluate stored policy:"
      ]
    },
    {
      "cell_type": "code",
      "execution_count": 15,
      "metadata": {
        "id": "6krxncakdkBz",
        "outputId": "d23fe5cf-e5bb-41c7-9535-c2f27706f851",
        "colab": {
          "base_uri": "https://localhost:8080/"
        }
      },
      "outputs": [
        {
          "output_type": "stream",
          "name": "stderr",
          "text": [
            "<ipython-input-15-3934a7995443>:1: FutureWarning: You are using `torch.load` with `weights_only=False` (the current default value), which uses the default pickle module implicitly. It is possible to construct malicious pickle data which will execute arbitrary code during unpickling (See https://github.com/pytorch/pytorch/blob/main/SECURITY.md#untrusted-models for more details). In a future release, the default value for `weights_only` will be flipped to `True`. This limits the functions that could be executed during unpickling. Arbitrary objects will no longer be allowed to be loaded via this mode unless they are explicitly allowlisted by the user via `torch.serialization.add_safe_globals`. We recommend you start setting `weights_only=True` for any use case where you don't have full control of the loaded file. Please open an issue on GitHub for any issues related to this experimental feature.\n",
            "  testQN = torch.load(log_path)\n"
          ]
        },
        {
          "output_type": "stream",
          "name": "stdout",
          "text": [
            "initial state: [ 0.00233984  1.4051318   0.2369885  -0.2572509  -0.00270453 -0.05368137\n",
            "  0.          0.        ]\n",
            "reward: 210.52597882163656\n",
            "initial state: [-0.00261059  1.4020138  -0.2644393  -0.39583194  0.00303179  0.05989935\n",
            "  0.          0.        ]\n",
            "reward: -249.47878803297095\n",
            "initial state: [ 0.00478449  1.4216473   0.48458767  0.47675607 -0.0055371  -0.10976638\n",
            "  0.          0.        ]\n",
            "reward: 233.2319565792211\n",
            "initial state: [ 1.4205932e-03  1.4221874e+00  1.4387596e-01  5.0076878e-01\n",
            " -1.6393228e-03 -3.2589965e-02  0.0000000e+00  0.0000000e+00]\n",
            "reward: 159.771609579958\n",
            "initial state: [-0.00714073  1.4216214  -0.7232951   0.4755879   0.00828113  0.16383715\n",
            "  0.          0.        ]\n",
            "reward: -34.43957665158479\n"
          ]
        }
      ],
      "source": [
        "testQN = torch.load(log_path)\n",
        "\n",
        "test_episodes = 5\n",
        "\n",
        "for ep in range(test_episodes):\n",
        "    state = env_visual.reset()[0]\n",
        "    print(\"initial state:\", state)\n",
        "    R = 0\n",
        "    while True:\n",
        "        # Get action from Q-network\n",
        "        # Hm, the following line could perhaps be more elegant ...\n",
        "        state_tensor = torch.from_numpy(np.resize(state, (1, state_size)).astype(np.float32))\n",
        "        Qs = testQN(state_tensor)\n",
        "        action = torch.argmax(Qs).item()\n",
        "\n",
        "        # Take action, get new state and reward\n",
        "        next_state, reward, terminated, truncated, _ = env_visual.step(action)\n",
        "        R += reward\n",
        "\n",
        "        if terminated or truncated:\n",
        "            print(\"reward:\", R)\n",
        "            break\n",
        "        else:\n",
        "            state = next_state\n",
        ""
      ]
    },
    {
      "cell_type": "code",
      "execution_count": null,
      "metadata": {
        "id": "pRgxn7DSdkBz"
      },
      "outputs": [],
      "source": []
    }
  ],
  "metadata": {
    "kernelspec": {
      "display_name": "Python 3",
      "name": "python3"
    },
    "language_info": {
      "codemirror_mode": {
        "name": "ipython",
        "version": 3
      },
      "file_extension": ".py",
      "mimetype": "text/x-python",
      "name": "python",
      "nbconvert_exporter": "python",
      "pygments_lexer": "ipython3",
      "version": "3.12.8"
    },
    "colab": {
      "provenance": [],
      "machine_shape": "hm",
      "gpuType": "A100",
      "include_colab_link": true
    },
    "accelerator": "GPU",
    "widgets": {
      "application/vnd.jupyter.widget-state+json": {
        "68aa8c4717914595825062ca1bafe2f6": {
          "model_module": "@jupyter-widgets/controls",
          "model_name": "HBoxModel",
          "model_module_version": "1.5.0",
          "state": {
            "_dom_classes": [],
            "_model_module": "@jupyter-widgets/controls",
            "_model_module_version": "1.5.0",
            "_model_name": "HBoxModel",
            "_view_count": null,
            "_view_module": "@jupyter-widgets/controls",
            "_view_module_version": "1.5.0",
            "_view_name": "HBoxView",
            "box_style": "",
            "children": [
              "IPY_MODEL_ec6f1cd5c15d4e73a68cc1d2386ccdcb",
              "IPY_MODEL_9e0a154c62714c5c88072ef5771e9f4b",
              "IPY_MODEL_de0e90ee507444fe8be57933b249ade5"
            ],
            "layout": "IPY_MODEL_99f92aa39f46459d964cc4b315cb6572"
          }
        },
        "ec6f1cd5c15d4e73a68cc1d2386ccdcb": {
          "model_module": "@jupyter-widgets/controls",
          "model_name": "HTMLModel",
          "model_module_version": "1.5.0",
          "state": {
            "_dom_classes": [],
            "_model_module": "@jupyter-widgets/controls",
            "_model_module_version": "1.5.0",
            "_model_name": "HTMLModel",
            "_view_count": null,
            "_view_module": "@jupyter-widgets/controls",
            "_view_module_version": "1.5.0",
            "_view_name": "HTMLView",
            "description": "",
            "description_tooltip": null,
            "layout": "IPY_MODEL_4eef3db30b2648698bea58f091fabe94",
            "placeholder": "​",
            "style": "IPY_MODEL_e137794ba4b7442a9f01552c2f6cc8da",
            "value": "100%"
          }
        },
        "9e0a154c62714c5c88072ef5771e9f4b": {
          "model_module": "@jupyter-widgets/controls",
          "model_name": "FloatProgressModel",
          "model_module_version": "1.5.0",
          "state": {
            "_dom_classes": [],
            "_model_module": "@jupyter-widgets/controls",
            "_model_module_version": "1.5.0",
            "_model_name": "FloatProgressModel",
            "_view_count": null,
            "_view_module": "@jupyter-widgets/controls",
            "_view_module_version": "1.5.0",
            "_view_name": "ProgressView",
            "bar_style": "success",
            "description": "",
            "description_tooltip": null,
            "layout": "IPY_MODEL_01aab78b922b49b49f8f505220365140",
            "max": 128,
            "min": 0,
            "orientation": "horizontal",
            "style": "IPY_MODEL_3b0ef21490474868bec4affee26f9263",
            "value": 128
          }
        },
        "de0e90ee507444fe8be57933b249ade5": {
          "model_module": "@jupyter-widgets/controls",
          "model_name": "HTMLModel",
          "model_module_version": "1.5.0",
          "state": {
            "_dom_classes": [],
            "_model_module": "@jupyter-widgets/controls",
            "_model_module_version": "1.5.0",
            "_model_name": "HTMLModel",
            "_view_count": null,
            "_view_module": "@jupyter-widgets/controls",
            "_view_module_version": "1.5.0",
            "_view_name": "HTMLView",
            "description": "",
            "description_tooltip": null,
            "layout": "IPY_MODEL_b2798bc964f54540b749b96631bfc117",
            "placeholder": "​",
            "style": "IPY_MODEL_461422542d6145aea9225f4082a32593",
            "value": " 128/128 [00:00&lt;00:00, 7390.44it/s]"
          }
        },
        "99f92aa39f46459d964cc4b315cb6572": {
          "model_module": "@jupyter-widgets/base",
          "model_name": "LayoutModel",
          "model_module_version": "1.2.0",
          "state": {
            "_model_module": "@jupyter-widgets/base",
            "_model_module_version": "1.2.0",
            "_model_name": "LayoutModel",
            "_view_count": null,
            "_view_module": "@jupyter-widgets/base",
            "_view_module_version": "1.2.0",
            "_view_name": "LayoutView",
            "align_content": null,
            "align_items": null,
            "align_self": null,
            "border": null,
            "bottom": null,
            "display": null,
            "flex": null,
            "flex_flow": null,
            "grid_area": null,
            "grid_auto_columns": null,
            "grid_auto_flow": null,
            "grid_auto_rows": null,
            "grid_column": null,
            "grid_gap": null,
            "grid_row": null,
            "grid_template_areas": null,
            "grid_template_columns": null,
            "grid_template_rows": null,
            "height": null,
            "justify_content": null,
            "justify_items": null,
            "left": null,
            "margin": null,
            "max_height": null,
            "max_width": null,
            "min_height": null,
            "min_width": null,
            "object_fit": null,
            "object_position": null,
            "order": null,
            "overflow": null,
            "overflow_x": null,
            "overflow_y": null,
            "padding": null,
            "right": null,
            "top": null,
            "visibility": null,
            "width": null
          }
        },
        "4eef3db30b2648698bea58f091fabe94": {
          "model_module": "@jupyter-widgets/base",
          "model_name": "LayoutModel",
          "model_module_version": "1.2.0",
          "state": {
            "_model_module": "@jupyter-widgets/base",
            "_model_module_version": "1.2.0",
            "_model_name": "LayoutModel",
            "_view_count": null,
            "_view_module": "@jupyter-widgets/base",
            "_view_module_version": "1.2.0",
            "_view_name": "LayoutView",
            "align_content": null,
            "align_items": null,
            "align_self": null,
            "border": null,
            "bottom": null,
            "display": null,
            "flex": null,
            "flex_flow": null,
            "grid_area": null,
            "grid_auto_columns": null,
            "grid_auto_flow": null,
            "grid_auto_rows": null,
            "grid_column": null,
            "grid_gap": null,
            "grid_row": null,
            "grid_template_areas": null,
            "grid_template_columns": null,
            "grid_template_rows": null,
            "height": null,
            "justify_content": null,
            "justify_items": null,
            "left": null,
            "margin": null,
            "max_height": null,
            "max_width": null,
            "min_height": null,
            "min_width": null,
            "object_fit": null,
            "object_position": null,
            "order": null,
            "overflow": null,
            "overflow_x": null,
            "overflow_y": null,
            "padding": null,
            "right": null,
            "top": null,
            "visibility": null,
            "width": null
          }
        },
        "e137794ba4b7442a9f01552c2f6cc8da": {
          "model_module": "@jupyter-widgets/controls",
          "model_name": "DescriptionStyleModel",
          "model_module_version": "1.5.0",
          "state": {
            "_model_module": "@jupyter-widgets/controls",
            "_model_module_version": "1.5.0",
            "_model_name": "DescriptionStyleModel",
            "_view_count": null,
            "_view_module": "@jupyter-widgets/base",
            "_view_module_version": "1.2.0",
            "_view_name": "StyleView",
            "description_width": ""
          }
        },
        "01aab78b922b49b49f8f505220365140": {
          "model_module": "@jupyter-widgets/base",
          "model_name": "LayoutModel",
          "model_module_version": "1.2.0",
          "state": {
            "_model_module": "@jupyter-widgets/base",
            "_model_module_version": "1.2.0",
            "_model_name": "LayoutModel",
            "_view_count": null,
            "_view_module": "@jupyter-widgets/base",
            "_view_module_version": "1.2.0",
            "_view_name": "LayoutView",
            "align_content": null,
            "align_items": null,
            "align_self": null,
            "border": null,
            "bottom": null,
            "display": null,
            "flex": null,
            "flex_flow": null,
            "grid_area": null,
            "grid_auto_columns": null,
            "grid_auto_flow": null,
            "grid_auto_rows": null,
            "grid_column": null,
            "grid_gap": null,
            "grid_row": null,
            "grid_template_areas": null,
            "grid_template_columns": null,
            "grid_template_rows": null,
            "height": null,
            "justify_content": null,
            "justify_items": null,
            "left": null,
            "margin": null,
            "max_height": null,
            "max_width": null,
            "min_height": null,
            "min_width": null,
            "object_fit": null,
            "object_position": null,
            "order": null,
            "overflow": null,
            "overflow_x": null,
            "overflow_y": null,
            "padding": null,
            "right": null,
            "top": null,
            "visibility": null,
            "width": null
          }
        },
        "3b0ef21490474868bec4affee26f9263": {
          "model_module": "@jupyter-widgets/controls",
          "model_name": "ProgressStyleModel",
          "model_module_version": "1.5.0",
          "state": {
            "_model_module": "@jupyter-widgets/controls",
            "_model_module_version": "1.5.0",
            "_model_name": "ProgressStyleModel",
            "_view_count": null,
            "_view_module": "@jupyter-widgets/base",
            "_view_module_version": "1.2.0",
            "_view_name": "StyleView",
            "bar_color": null,
            "description_width": ""
          }
        },
        "b2798bc964f54540b749b96631bfc117": {
          "model_module": "@jupyter-widgets/base",
          "model_name": "LayoutModel",
          "model_module_version": "1.2.0",
          "state": {
            "_model_module": "@jupyter-widgets/base",
            "_model_module_version": "1.2.0",
            "_model_name": "LayoutModel",
            "_view_count": null,
            "_view_module": "@jupyter-widgets/base",
            "_view_module_version": "1.2.0",
            "_view_name": "LayoutView",
            "align_content": null,
            "align_items": null,
            "align_self": null,
            "border": null,
            "bottom": null,
            "display": null,
            "flex": null,
            "flex_flow": null,
            "grid_area": null,
            "grid_auto_columns": null,
            "grid_auto_flow": null,
            "grid_auto_rows": null,
            "grid_column": null,
            "grid_gap": null,
            "grid_row": null,
            "grid_template_areas": null,
            "grid_template_columns": null,
            "grid_template_rows": null,
            "height": null,
            "justify_content": null,
            "justify_items": null,
            "left": null,
            "margin": null,
            "max_height": null,
            "max_width": null,
            "min_height": null,
            "min_width": null,
            "object_fit": null,
            "object_position": null,
            "order": null,
            "overflow": null,
            "overflow_x": null,
            "overflow_y": null,
            "padding": null,
            "right": null,
            "top": null,
            "visibility": null,
            "width": null
          }
        },
        "461422542d6145aea9225f4082a32593": {
          "model_module": "@jupyter-widgets/controls",
          "model_name": "DescriptionStyleModel",
          "model_module_version": "1.5.0",
          "state": {
            "_model_module": "@jupyter-widgets/controls",
            "_model_module_version": "1.5.0",
            "_model_name": "DescriptionStyleModel",
            "_view_count": null,
            "_view_module": "@jupyter-widgets/base",
            "_view_module_version": "1.2.0",
            "_view_name": "StyleView",
            "description_width": ""
          }
        }
      }
    }
  },
  "nbformat": 4,
  "nbformat_minor": 0
}