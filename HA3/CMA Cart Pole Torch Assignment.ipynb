{
 "cells": [
  {
   "cell_type": "markdown",
   "metadata": {},
   "source": [
    "## CMA-ES for CartPole Torch (assignment version)\n",
    "### Christian Igel, 2024\n",
    "\n",
    "If you have suggestions for improvement, [let me know](mailto:igel@diku.dk).\n",
    "\n",
    "You may need the following packages:\n",
    "\n",
    "``pip install gymnasium[classic-control]``\n",
    "\n",
    "``python -m pip install cma``"
   ]
  },
  {
   "cell_type": "code",
   "execution_count": 24,
   "metadata": {},
   "outputs": [],
   "source": [
    "import gymnasium as gym  # Defines RL environments\n",
    "\n",
    "import numpy as np\n",
    "import matplotlib.pyplot as plt\n",
    "plt.rcParams[\"figure.figsize\"] = (4,4)  # Set size of visualization\n",
    "from IPython.display import clear_output  # For inline visualization\n",
    "\n",
    "import torch\n",
    "import torch.nn as nn\n",
    "import torch.nn.functional as F\n",
    "\n",
    "import cma\n",
    "\n",
    "# Define task\n",
    "env = gym.make('CartPole-v1')\n",
    "state_space_dimension = env.observation_space.shape[0]\n",
    "action_space_dimension = 1  # env.action_space.n - 1"
   ]
  },
  {
   "cell_type": "markdown",
   "metadata": {},
   "source": [
    "Define the policy network:"
   ]
  },
  {
   "cell_type": "code",
   "execution_count": null,
   "metadata": {},
   "outputs": [],
   "source": [
    "# Model definition\n",
    "class PolicyNet(nn.Module):\n",
    "    def __init__(self, use_bias=True):\n",
    "        super(PolicyNet, self).__init__()\n",
    "        self.hidden = nn.Linear(state_space_dimension, 5, bias=use_bias) # state_space_dimension = 4 for CartPole\n",
    "        self.output = nn.Linear(5, 1, bias=use_bias)\n",
    "        \n",
    "    def forward(self, x):\n",
    "        x = torch.tanh(self.hidden(x))\n",
    "        x = self.output(x)\n",
    "        return x\n",
    "\n",
    "policy_net = PolicyNet()"
   ]
  },
  {
   "cell_type": "markdown",
   "metadata": {},
   "source": [
    "Compute number of parameters:"
   ]
  },
  {
   "cell_type": "code",
   "execution_count": 26,
   "metadata": {},
   "outputs": [
    {
     "name": "stdout",
     "output_type": "stream",
     "text": [
      "Number of parameters: 31\n"
     ]
    }
   ],
   "source": [
    "d = sum(\n",
    "\tparam.numel() for param in policy_net.parameters()\n",
    ")\n",
    "print(\"Number of parameters:\", d)"
   ]
  },
  {
   "cell_type": "markdown",
   "metadata": {},
   "source": [
    "Helper function for visualization:"
   ]
  },
  {
   "cell_type": "code",
   "execution_count": 28,
   "metadata": {},
   "outputs": [],
   "source": [
    "def visualize_policy(policy_net):\n",
    "    env_render = gym.make('CartPole-v1', render_mode='rgb_array')\n",
    "    state = env_render.reset()  # Forget about previous episode\n",
    "    state_tensor = torch.Tensor( state[0].reshape((1, state_space_dimension)) )\n",
    "    steps = 0\n",
    "    while True:\n",
    "        out = policy_net(state_tensor)\n",
    "        a = int(out > 0)\n",
    "        state, reward, terminated, truncated, _ = env_render.step(a)  # Simulate pole\n",
    "        steps+=1\n",
    "        state_tensor = torch.Tensor( state.reshape((1, state_space_dimension)) )\n",
    "        clear_output(wait=True)\n",
    "        plt.imshow(env_render.render())\n",
    "        plt.show()\n",
    "        print(\"step:\", steps)\n",
    "        if(terminated or truncated): \n",
    "            break\n",
    "    env_render.close()\n",
    "    return"
   ]
  },
  {
   "cell_type": "code",
   "execution_count": 29,
   "metadata": {},
   "outputs": [
    {
     "data": {
      "image/png": "[encoded data removed]",
      "text/plain": [
       "<Figure size 400x400 with 1 Axes>"
      ]
     },
     "metadata": {},
     "output_type": "display_data"
    },
    {
     "name": "stdout",
     "output_type": "stream",
     "text": [
      "step: 8\n"
     ]
    }
   ],
   "source": [
    "visualize_policy(policy_net)"
   ]
  },
  {
   "cell_type": "markdown",
   "metadata": {},
   "source": [
    "Now we define the objective/reward function. \n",
    "When the task is solved the functions returns -1000.\n",
    "One successful trial is sufficient."
   ]
  },
  {
   "cell_type": "code",
   "execution_count": null,
   "metadata": {},
   "outputs": [],
   "source": [
    "def fitness_cart_pole(x, nn, env):\n",
    "    '''\n",
    "    Returns negative accumulated reward for single pole, fully environment.\n",
    "\n",
    "    Parameters:\n",
    "        x: Parameter vector encoding the weights.\n",
    "        nn: Parameterized model.\n",
    "        env: Environment ('CartPole-v?').\n",
    "    '''\n",
    "    torch.nn.utils.vector_to_parameters(torch.Tensor(x), nn.parameters())  # Set the policy parameters\n",
    "    \n",
    "    state = env.reset()  # Forget about previous episode\n",
    "    state_tensor = torch.Tensor( state[0].reshape((1, -1)) )\n",
    "          \n",
    "    R = 0  # accumulated reward\n",
    "    while True:\n",
    "        with torch.no_grad():\n",
    "            action = int(policy_net(state_tensor) > 0)\n",
    "        state, reward, terminated, truncated, _ = env.step(action)\n",
    "        state_tensor = torch.Tensor(state.reshape(1, -1))\n",
    "        R += reward\n",
    "        \n",
    "        if terminated or truncated:\n",
    "            return -1000 if truncated else -R  "
   ]
  },
  {
   "cell_type": "code",
   "execution_count": 31,
   "metadata": {},
   "outputs": [],
   "source": [
    "def test_policy(policy_net, num_tests=20):\n",
    "    total_steps = 0\n",
    "    for _ in range(num_tests):\n",
    "        env = gym.make('CartPole-v1')\n",
    "        state = env.reset()\n",
    "        state_tensor = torch.Tensor(state[0].reshape(1, -1))\n",
    "        steps = 0\n",
    "        \n",
    "        while True:\n",
    "            with torch.no_grad():\n",
    "                action = int(policy_net(state_tensor) > 0)\n",
    "            state, _, terminated, truncated, _ = env.step(action)\n",
    "            state_tensor = torch.Tensor(state.reshape(1, -1))\n",
    "            steps += 1\n",
    "            \n",
    "            if terminated or truncated:\n",
    "                break\n",
    "                \n",
    "        total_steps += steps\n",
    "        env.close()\n",
    "        \n",
    "    return total_steps / num_tests\n"
   ]
  },
  {
   "cell_type": "markdown",
   "metadata": {},
   "source": [
    "Do the learning:"
   ]
  },
  {
   "cell_type": "code",
   "execution_count": 33,
   "metadata": {
    "scrolled": true
   },
   "outputs": [
    {
     "name": "stdout",
     "output_type": "stream",
     "text": [
      "(7_w,14)-aCMA-ES (mu_w=4.3,w_1=36%) in dimension 31 (seed=694697, Wed Feb 26 21:06:02 2025)\n",
      "Iterat #Fevals   function value  axis ratio  sigma  min&max std  t[m:s]\n",
      "    1     14 -1.000000000000000e+01 1.0e+00 9.36e-03  9e-03  9e-03 0:00.0\n",
      "    2     28 -1.100000000000000e+01 1.1e+00 9.11e-03  9e-03  9e-03 0:00.1\n",
      "    3     42 -1.000000000000000e+01 1.1e+00 8.91e-03  9e-03  9e-03 0:00.2\n",
      "   38    532 -5.800000000000000e+01 1.4e+00 5.58e-03  5e-03  6e-03 0:03.3\n",
      "   70    980 -3.300000000000000e+01 1.8e+00 4.03e-03  3e-03  4e-03 0:07.4\n",
      "   94   1316 -1.000000000000000e+03 2.1e+00 4.39e-03  3e-03  5e-03 0:11.4\n",
      "termination on ftarget=-999.9 (Wed Feb 26 21:06:15 2025)\n",
      "final/bestever f-value = -1.000000e+03 -1.000000e+03 after 1316/1304 evaluations\n",
      "incumbent solution: [-0.01034761 -0.02867698 -0.0055262  -0.00457515 -0.01609384  0.06311634\n",
      " -0.01440027 -0.00146451 ...]\n",
      "std deviations: [0.00417051 0.00449173 0.00407091 0.00441887 0.00444994 0.00437828\n",
      " 0.0045176  0.00436237 ...]\n",
      "best solution found after 1304 evaluations\n"
     ]
    }
   ],
   "source": [
    "initial_weights = np.random.normal(0, 0.01, d)  # random parameters for initial policy, d denotes the number of weights\n",
    "initial_sigma = .01 # initial global step-size sigma\n",
    "\n",
    "res = cma.fmin(fitness_cart_pole,  \n",
    "               initial_weights,\n",
    "               initial_sigma,\n",
    "               args=([policy_net, env]),\n",
    "               options={'ftarget': -999.9, 'tolflatfitness':1000, 'eval_final_mean':False})\n",
    "env.close()\n",
    "\n",
    "# set the policy parameters to the final solution\n",
    "torch.nn.utils.vector_to_parameters(torch.Tensor(res[0]), policy_net.parameters())  \n",
    "\n",
    "print(\"best solution found after\", res[2], \"evaluations\")"
   ]
  },
  {
   "cell_type": "markdown",
   "metadata": {},
   "source": [
    "Render solution:"
   ]
  },
  {
   "cell_type": "code",
   "execution_count": 34,
   "metadata": {
    "scrolled": true
   },
   "outputs": [
    {
     "data": {
      "image/png": "[encoded data removed]",
      "text/plain": [
       "<Figure size 400x400 with 1 Axes>"
      ]
     },
     "metadata": {},
     "output_type": "display_data"
    },
    {
     "name": "stdout",
     "output_type": "stream",
     "text": [
      "step: 81\n"
     ]
    }
   ],
   "source": [
    "visualize_policy(policy_net)"
   ]
  },
  {
   "cell_type": "code",
   "execution_count": 46,
   "metadata": {},
   "outputs": [],
   "source": [
    "from collections import defaultdict\n",
    "\n",
    "def run_experiments(num_trials=10):\n",
    "    results = defaultdict(list)\n",
    "    \n",
    "    for use_bias in [True, False]:\n",
    "        print(f\"\\nRunning experiments {'WITH' if use_bias else 'WITHOUT'} bias...\")\n",
    "        \n",
    "        for trial in range(num_trials):\n",
    "            # init policy and environment\n",
    "            policy_net = PolicyNet(use_bias=use_bias)\n",
    "            env = gym.make('CartPole-v1')\n",
    "            \n",
    "            # CMA-ES setup\n",
    "            d = sum(p.numel() for p in policy_net.parameters())\n",
    "            initial_weights = np.random.normal(0, 0.01, d)\n",
    "            \n",
    "            # run CMA-ES optimization\n",
    "            res = cma.fmin(\n",
    "                lambda x: fitness_cart_pole(x, policy_net, env),\n",
    "                initial_weights,\n",
    "                0.01,\n",
    "                options={'ftarget': -999.9, 'maxiter': 100, 'verbose': -1}\n",
    "            )\n",
    "            \n",
    "            # record results\n",
    "            evaluations = res[1]\n",
    "            test_perf = test_policy(policy_net)\n",
    "            \n",
    "            results['with_bias' if use_bias else 'without_bias'].append({\n",
    "                'evaluations': evaluations,\n",
    "                'test_performance': test_perf\n",
    "            })\n",
    "            \n",
    "            env.close()\n",
    "            print(f\"Trial {trial+1}: {evaluations} evals, Test perf: {test_perf:.1f} steps\")\n",
    "\n",
    "    # calculate averages\n",
    "    summary = {}\n",
    "    for arch in ['with_bias', 'without_bias']:\n",
    "        evals = [t['evaluations'] for t in results[arch]]\n",
    "        perfs = [t['test_performance'] for t in results[arch]]\n",
    "        summary[arch] = {\n",
    "            'avg_evals': np.mean(evals),\n",
    "            'std_evals': np.std(evals),\n",
    "            'avg_perf': np.mean(perfs),\n",
    "            'std_perf': np.std(perfs)\n",
    "        }\n",
    "    \n",
    "    return summary"
   ]
  },
  {
   "cell_type": "code",
   "execution_count": 45,
   "metadata": {},
   "outputs": [
    {
     "name": "stdout",
     "output_type": "stream",
     "text": [
      "\n",
      "Running experiments WITH bias...\n",
      "Iterat #Fevals   function value  axis ratio  sigma  min&max std  t[m:s]\n",
      "    1     14 -1.500000000000000e+01 1.0e+00 9.47e-03  9e-03  1e-02 0:00.0\n"
     ]
    },
    {
     "name": "stdout",
     "output_type": "stream",
     "text": [
      "    2     28 -2.600000000000000e+01 1.1e+00 9.07e-03  9e-03  9e-03 0:00.1\n",
      "    3     42 -6.500000000000000e+01 1.1e+00 8.63e-03  9e-03  9e-03 0:00.2\n",
      "   43    602 -3.100000000000000e+01 1.5e+00 6.45e-03  6e-03  7e-03 0:03.2\n",
      "   68    952 -1.460000000000000e+02 2.0e+00 4.96e-03  4e-03  5e-03 0:07.4\n",
      "   90   1260 -1.090000000000000e+02 2.3e+00 4.60e-03  3e-03  5e-03 0:12.6\n",
      "  100   1400 -1.100000000000000e+02 2.6e+00 4.64e-03  3e-03  5e-03 0:15.1\n",
      "termination on maxiter=100 (Wed Feb 26 21:27:59 2025)\n",
      "final/bestever f-value = -7.800000e+01 -1.640000e+02 after 1401/1114 evaluations\n",
      "incumbent solution: [-0.06507652 -0.01935656 -0.00038601 -0.08828406 -0.01574105  0.00069226\n",
      " -0.01731921  0.00787646 ...]\n",
      "std deviations: [0.00444415 0.00443289 0.00439916 0.00478261 0.00428152 0.00466818\n",
      " 0.00458606 0.00463943 ...]\n"
     ]
    },
    {
     "ename": "AttributeError",
     "evalue": "'float' object has no attribute 'evals'",
     "output_type": "error",
     "traceback": [
      "\u001b[1;31m---------------------------------------------------------------------------\u001b[0m",
      "\u001b[1;31mAttributeError\u001b[0m                            Traceback (most recent call last)",
      "Cell \u001b[1;32mIn[45], line 2\u001b[0m\n\u001b[0;32m      1\u001b[0m \u001b[38;5;28;01mif\u001b[39;00m \u001b[38;5;18m__name__\u001b[39m \u001b[38;5;241m==\u001b[39m \u001b[38;5;124m\"\u001b[39m\u001b[38;5;124m__main__\u001b[39m\u001b[38;5;124m\"\u001b[39m:\n\u001b[1;32m----> 2\u001b[0m     results \u001b[38;5;241m=\u001b[39m \u001b[43mrun_experiments\u001b[49m\u001b[43m(\u001b[49m\u001b[43mnum_trials\u001b[49m\u001b[38;5;241;43m=\u001b[39;49m\u001b[38;5;241;43m10\u001b[39;49m\u001b[43m)\u001b[49m\n\u001b[0;32m      4\u001b[0m     \u001b[38;5;28mprint\u001b[39m(\u001b[38;5;124m\"\u001b[39m\u001b[38;5;130;01m\\n\u001b[39;00m\u001b[38;5;124mFinal Results:\u001b[39m\u001b[38;5;124m\"\u001b[39m)\n\u001b[0;32m      5\u001b[0m     \u001b[38;5;28;01mfor\u001b[39;00m arch \u001b[38;5;129;01min\u001b[39;00m [\u001b[38;5;124m'\u001b[39m\u001b[38;5;124mwith_bias\u001b[39m\u001b[38;5;124m'\u001b[39m, \u001b[38;5;124m'\u001b[39m\u001b[38;5;124mwithout_bias\u001b[39m\u001b[38;5;124m'\u001b[39m]:\n",
      "Cell \u001b[1;32mIn[41], line 27\u001b[0m, in \u001b[0;36mrun_experiments\u001b[1;34m(num_trials)\u001b[0m\n\u001b[0;32m     19\u001b[0m res \u001b[38;5;241m=\u001b[39m cma\u001b[38;5;241m.\u001b[39mfmin(\n\u001b[0;32m     20\u001b[0m     \u001b[38;5;28;01mlambda\u001b[39;00m x: fitness_cart_pole(x, policy_net, env),\n\u001b[0;32m     21\u001b[0m     initial_weights,\n\u001b[0;32m     22\u001b[0m     \u001b[38;5;241m0.01\u001b[39m,\n\u001b[0;32m     23\u001b[0m     options\u001b[38;5;241m=\u001b[39m{\u001b[38;5;124m'\u001b[39m\u001b[38;5;124mftarget\u001b[39m\u001b[38;5;124m'\u001b[39m: \u001b[38;5;241m-\u001b[39m\u001b[38;5;241m999.9\u001b[39m, \u001b[38;5;124m'\u001b[39m\u001b[38;5;124mmaxiter\u001b[39m\u001b[38;5;124m'\u001b[39m: \u001b[38;5;241m100\u001b[39m, \u001b[38;5;124m'\u001b[39m\u001b[38;5;124mverbose\u001b[39m\u001b[38;5;124m'\u001b[39m: \u001b[38;5;241m-\u001b[39m\u001b[38;5;241m1\u001b[39m}\n\u001b[0;32m     24\u001b[0m )\n\u001b[0;32m     26\u001b[0m \u001b[38;5;66;03m# record results\u001b[39;00m\n\u001b[1;32m---> 27\u001b[0m evaluations \u001b[38;5;241m=\u001b[39m \u001b[43mres\u001b[49m\u001b[43m[\u001b[49m\u001b[38;5;241;43m1\u001b[39;49m\u001b[43m]\u001b[49m\u001b[38;5;241;43m.\u001b[39;49m\u001b[43mevals\u001b[49m\n\u001b[0;32m     28\u001b[0m test_perf \u001b[38;5;241m=\u001b[39m test_policy(policy_net)\n\u001b[0;32m     30\u001b[0m results[\u001b[38;5;124m'\u001b[39m\u001b[38;5;124mwith_bias\u001b[39m\u001b[38;5;124m'\u001b[39m \u001b[38;5;28;01mif\u001b[39;00m use_bias \u001b[38;5;28;01melse\u001b[39;00m \u001b[38;5;124m'\u001b[39m\u001b[38;5;124mwithout_bias\u001b[39m\u001b[38;5;124m'\u001b[39m]\u001b[38;5;241m.\u001b[39mappend({\n\u001b[0;32m     31\u001b[0m     \u001b[38;5;124m'\u001b[39m\u001b[38;5;124mevaluations\u001b[39m\u001b[38;5;124m'\u001b[39m: evaluations,\n\u001b[0;32m     32\u001b[0m     \u001b[38;5;124m'\u001b[39m\u001b[38;5;124mtest_performance\u001b[39m\u001b[38;5;124m'\u001b[39m: test_perf\n\u001b[0;32m     33\u001b[0m })\n",
      "\u001b[1;31mAttributeError\u001b[0m: 'float' object has no attribute 'evals'"
     ]
    }
   ],
   "source": [
    "if __name__ == \"__main__\":\n",
    "    results = run_experiments(num_trials=10)\n",
    "    \n",
    "    print(\"\\nFinal Results:\")\n",
    "    for arch in ['with_bias', 'without_bias']:\n",
    "        data = results[arch]\n",
    "        print(f\"\\n{arch.upper().replace('_', ' ')}:\")\n",
    "        print(f\"Average evaluations to solve: {data['avg_evals']:.1f} ± {data['std_evals']:.1f}\")\n",
    "        print(f\"Average test performance: {data['avg_perf']:.1f} ± {data['std_perf']:.1f} steps\")"
   ]
  },
  {
   "cell_type": "markdown",
   "metadata": {},
   "source": [
    "Learn more about CMA-ES optimization:"
   ]
  },
  {
   "cell_type": "code",
   "execution_count": null,
   "metadata": {},
   "outputs": [],
   "source": [
    "# Visualize the optimization \n",
    "#cma.plot();  "
   ]
  },
  {
   "cell_type": "code",
   "execution_count": null,
   "metadata": {},
   "outputs": [],
   "source": [
    "# Learn even more on CMA-ES\n",
    "#cma.CMAOptions() "
   ]
  }
 ],
 "metadata": {
  "kernelspec": {
   "display_name": "Python 3",
   "language": "python",
   "name": "python3"
  },
  "language_info": {
   "codemirror_mode": {
    "name": "ipython",
    "version": 3
   },
   "file_extension": ".py",
   "mimetype": "text/x-python",
   "name": "python",
   "nbconvert_exporter": "python",
   "pygments_lexer": "ipython3",
   "version": "3.11.5"
  }
 },
 "nbformat": 4,
 "nbformat_minor": 4
}
